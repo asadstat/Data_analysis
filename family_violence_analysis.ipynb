{
  "nbformat": 4,
  "nbformat_minor": 0,
  "metadata": {
    "colab": {
      "name": "family violence analysis.ipynb",
      "provenance": [],
      "authorship_tag": "ABX9TyM+hjY/D14djTlAMJrsiJ1O",
      "include_colab_link": true
    },
    "kernelspec": {
      "name": "ir",
      "display_name": "R"
    },
    "language_info": {
      "name": "R"
    }
  },
  "cells": [
    {
      "cell_type": "markdown",
      "metadata": {
        "id": "view-in-github",
        "colab_type": "text"
      },
      "source": [
        "<a href=\"https://colab.research.google.com/github/asadstat/Data_analysis/blob/master/family_violence_analysis.ipynb\" target=\"_parent\"><img src=\"https://colab.research.google.com/assets/colab-badge.svg\" alt=\"Open In Colab\"/></a>"
      ]
    },
    {
      "cell_type": "code",
      "metadata": {
        "colab": {
          "base_uri": "https://localhost:8080/"
        },
        "id": "SeFd2RRXWgjl",
        "outputId": "2f91b8ec-c969-41b4-b8f5-087c95774f75"
      },
      "source": [
        "install.packages(\"bimba\")"
      ],
      "execution_count": 323,
      "outputs": [
        {
          "output_type": "stream",
          "text": [
            "Installing package into ‘/usr/local/lib/R/site-library’\n",
            "(as ‘lib’ is unspecified)\n",
            "\n",
            "Warning message:\n",
            "“unable to access index for repository https://cran.r-project.org/doc/manuals/r-patched/R-admin.html#Installing-packages/src/contrib:\n",
            "  Line starting '<html> ...' is malformed!”\n",
            "Warning message:\n",
            "“package ‘bimba’ is not available for this version of R\n",
            "\n",
            "A version of this package for your version of R might be available elsewhere,\n",
            "see the ideas at\n",
            "https://cran.r-project.org/doc/manuals/r-patched/R-admin.html#Installing-packages”\n"
          ],
          "name": "stderr"
        }
      ]
    },
    {
      "cell_type": "code",
      "metadata": {
        "id": "T8encRQnJ6pl"
      },
      "source": [
        "# load the library\n",
        "library(randomForest)\n",
        "library(caret)\n",
        "require(caTools)\n",
        "library(e1071)\n",
        "library(raster)\n",
        "library(class)\n",
        "library(pROC)\n",
        "library(smotefamily)\n",
        "library(mlbench)\n",
        "library(caret)\n",
        "library(ROSE)"
      ],
      "execution_count": 320,
      "outputs": []
    },
    {
      "cell_type": "code",
      "metadata": {
        "id": "d-TE-X5D2PUS"
      },
      "source": [
        "set.seed(1234)\n",
        "data <- read.csv(\"/content/fd.csv\",header=T)\n",
        "data <- data[-1]\n",
        "#preproc2 <- preProcess(data[,c(1:15)], method=c(\"range\"))\n",
        "#n.data <- predict(preproc2, data[,c(1:15)])\n",
        "#n.data$Family_Violence <- data$Family_Violence\n",
        "head(data)\n",
        "attach(data)"
      ],
      "execution_count": null,
      "outputs": []
    },
    {
      "cell_type": "code",
      "metadata": {
        "id": "btazLkGlDtN7"
      },
      "source": [
        "split = sample.split(Family_Violence, SplitRatio=0.80)\n",
        "train = subset(data, split==TRUE)\n",
        "test = subset(data,split==FALSE)\n",
        "ctrl <- trainControl(method = \"repeatedcv\", number = 10, repeats =10,sampling=\"up\")"
      ],
      "execution_count": 316,
      "outputs": []
    },
    {
      "cell_type": "code",
      "metadata": {
        "colab": {
          "base_uri": "https://localhost:8080/",
          "height": 99
        },
        "id": "Xj5MdrcXKzwm",
        "outputId": "8b47b2db-ec79-43ba-f1ab-2c1b60bb9b0b"
      },
      "source": [
        "df <- ADASYN(data, perc_min = 50, perc_over = NULL, k = 5, classes = NULL)"
      ],
      "execution_count": 321,
      "outputs": [
        {
          "output_type": "error",
          "ename": "ERROR",
          "evalue": "ignored",
          "traceback": [
            "Error in ADASYN(data, perc_min = 50, perc_over = NULL, k = 5, classes = NULL): could not find function \"ADASYN\"\nTraceback:\n"
          ]
        }
      ]
    },
    {
      "cell_type": "code",
      "metadata": {
        "id": "84mQt0KfKJkg"
      },
      "source": [
        ""
      ],
      "execution_count": 238,
      "outputs": []
    },
    {
      "cell_type": "code",
      "metadata": {
        "colab": {
          "base_uri": "https://localhost:8080/",
          "height": 516
        },
        "id": "nfb3FwfaDHDD",
        "outputId": "8b2da686-8c13-4a27-973b-aabc475b6ca0"
      },
      "source": [
        "fit.glm <-train(Family_Violence~., data=train, method=\"glm\", trControl=ctrl,preProcess = c(\"range\"))\n",
        "pred3 <- predict(fit.glm,test)\n",
        "h3 <- data.frame(pred3 ,test=test$Family_Violence)\n",
        "t3 <- table(h3)\n",
        "confusionMatrix(t3,positive='Yes')"
      ],
      "execution_count": 317,
      "outputs": [
        {
          "output_type": "display_data",
          "data": {
            "text/plain": [
              "Confusion Matrix and Statistics\n",
              "\n",
              "     test\n",
              "pred3 No Yes\n",
              "  No  30  13\n",
              "  Yes 26  33\n",
              "                                          \n",
              "               Accuracy : 0.6176          \n",
              "                 95% CI : (0.5161, 0.7121)\n",
              "    No Information Rate : 0.549           \n",
              "    P-Value [Acc > NIR] : 0.09742         \n",
              "                                          \n",
              "                  Kappa : 0.2469          \n",
              "                                          \n",
              " Mcnemar's Test P-Value : 0.05466         \n",
              "                                          \n",
              "            Sensitivity : 0.7174          \n",
              "            Specificity : 0.5357          \n",
              "         Pos Pred Value : 0.5593          \n",
              "         Neg Pred Value : 0.6977          \n",
              "             Prevalence : 0.4510          \n",
              "         Detection Rate : 0.3235          \n",
              "   Detection Prevalence : 0.5784          \n",
              "      Balanced Accuracy : 0.6266          \n",
              "                                          \n",
              "       'Positive' Class : Yes             \n",
              "                                          "
            ]
          },
          "metadata": {
            "tags": []
          }
        }
      ]
    },
    {
      "cell_type": "code",
      "metadata": {
        "id": "DFKAJUSZDBLg"
      },
      "source": [
        "\n"
      ],
      "execution_count": null,
      "outputs": []
    },
    {
      "cell_type": "code",
      "metadata": {
        "colab": {
          "base_uri": "https://localhost:8080/",
          "height": 72
        },
        "id": "kNYOOSwA2J6F",
        "outputId": "f87ec18b-fe0a-43ca-8e2a-0eb158b01e00"
      },
      "source": [
        "table(train$Family_Violence)"
      ],
      "execution_count": 149,
      "outputs": [
        {
          "output_type": "display_data",
          "data": {
            "text/plain": [
              "\n",
              " No Yes \n",
              "226 183 "
            ]
          },
          "metadata": {
            "tags": []
          }
        }
      ]
    },
    {
      "cell_type": "code",
      "metadata": {
        "id": "cHmB9yS-16fu"
      },
      "source": [
        ""
      ],
      "execution_count": 178,
      "outputs": []
    },
    {
      "cell_type": "code",
      "metadata": {
        "colab": {
          "base_uri": "https://localhost:8080/",
          "height": 516
        },
        "id": "EHNYj7V1sdcV",
        "outputId": "5e525768-75d0-4087-9273-a9bccc33729b"
      },
      "source": [
        "fit.rf <- train(Family_Violence~., data=train, method=\"rf\", trControl=ctrl,preProcess = c(\"range\"))\n",
        "pred1 <- predict(fit.rf,test)\n",
        "h1 <- data.frame(pred1 ,test=test$Family_Violence)\n",
        "t1 <- table(h1)\n",
        "confusionMatrix(t1,positive='Yes')"
      ],
      "execution_count": 318,
      "outputs": [
        {
          "output_type": "display_data",
          "data": {
            "text/plain": [
              "Confusion Matrix and Statistics\n",
              "\n",
              "     test\n",
              "pred1 No Yes\n",
              "  No  33  19\n",
              "  Yes 23  27\n",
              "                                          \n",
              "               Accuracy : 0.5882          \n",
              "                 95% CI : (0.4864, 0.6848)\n",
              "    No Information Rate : 0.549           \n",
              "    P-Value [Acc > NIR] : 0.2437          \n",
              "                                          \n",
              "                  Kappa : 0.1749          \n",
              "                                          \n",
              " Mcnemar's Test P-Value : 0.6434          \n",
              "                                          \n",
              "            Sensitivity : 0.5870          \n",
              "            Specificity : 0.5893          \n",
              "         Pos Pred Value : 0.5400          \n",
              "         Neg Pred Value : 0.6346          \n",
              "             Prevalence : 0.4510          \n",
              "         Detection Rate : 0.2647          \n",
              "   Detection Prevalence : 0.4902          \n",
              "      Balanced Accuracy : 0.5881          \n",
              "                                          \n",
              "       'Positive' Class : Yes             \n",
              "                                          "
            ]
          },
          "metadata": {
            "tags": []
          }
        }
      ]
    },
    {
      "cell_type": "code",
      "metadata": {
        "id": "TsZR6TpOuhnh"
      },
      "source": [
        ""
      ],
      "execution_count": 314,
      "outputs": []
    },
    {
      "cell_type": "code",
      "metadata": {
        "id": "4ppdEAVtqeYu"
      },
      "source": [
        ""
      ],
      "execution_count": 121,
      "outputs": []
    },
    {
      "cell_type": "code",
      "metadata": {
        "colab": {
          "base_uri": "https://localhost:8080/",
          "height": 72
        },
        "id": "mfFS1lcfqWsi",
        "outputId": "8fd6d096-8ed3-4726-fe5d-c2ecfc4fa7d6"
      },
      "source": [
        ""
      ],
      "execution_count": 97,
      "outputs": [
        {
          "output_type": "display_data",
          "data": {
            "text/plain": [
              "\n",
              "common   rare \n",
              "   100     50 "
            ]
          },
          "metadata": {
            "tags": []
          }
        }
      ]
    },
    {
      "cell_type": "code",
      "metadata": {
        "id": "4HxS2c39ReAU"
      },
      "source": [
        ""
      ],
      "execution_count": 93,
      "outputs": []
    },
    {
      "cell_type": "code",
      "metadata": {
        "id": "uKePAE42OBku"
      },
      "source": [
        ""
      ],
      "execution_count": 125,
      "outputs": []
    },
    {
      "cell_type": "code",
      "metadata": {
        "id": "UwkSMoRg-Lhq"
      },
      "source": [
        ""
      ],
      "execution_count": 124,
      "outputs": []
    },
    {
      "cell_type": "code",
      "metadata": {
        "colab": {
          "base_uri": "https://localhost:8080/",
          "height": 516
        },
        "id": "xFpJi2SLP1d9",
        "outputId": "bc9615f6-dbb4-436a-d5dd-474d4023064c"
      },
      "source": [
        ""
      ],
      "execution_count": 94,
      "outputs": [
        {
          "output_type": "display_data",
          "data": {
            "text/plain": [
              "Confusion Matrix and Statistics\n",
              "\n",
              "     test\n",
              "pred3 No Yes\n",
              "  No  24   9\n",
              "  Yes 32  37\n",
              "                                          \n",
              "               Accuracy : 0.598           \n",
              "                 95% CI : (0.4963, 0.6939)\n",
              "    No Information Rate : 0.549           \n",
              "    P-Value [Acc > NIR] : 0.1854883       \n",
              "                                          \n",
              "                  Kappa : 0.223           \n",
              "                                          \n",
              " Mcnemar's Test P-Value : 0.0005908       \n",
              "                                          \n",
              "            Sensitivity : 0.8043          \n",
              "            Specificity : 0.4286          \n",
              "         Pos Pred Value : 0.5362          \n",
              "         Neg Pred Value : 0.7273          \n",
              "             Prevalence : 0.4510          \n",
              "         Detection Rate : 0.3627          \n",
              "   Detection Prevalence : 0.6765          \n",
              "      Balanced Accuracy : 0.6165          \n",
              "                                          \n",
              "       'Positive' Class : Yes             \n",
              "                                          "
            ]
          },
          "metadata": {
            "tags": []
          }
        }
      ]
    },
    {
      "cell_type": "code",
      "metadata": {
        "colab": {
          "base_uri": "https://localhost:8080/",
          "height": 136
        },
        "id": "3ZmY1n7ZOEPz",
        "outputId": "b1f9d490-d49c-4c81-886b-d31d6c330ed8"
      },
      "source": [
        ""
      ],
      "execution_count": 87,
      "outputs": [
        {
          "output_type": "error",
          "ename": "ERROR",
          "evalue": "ignored",
          "traceback": [
            "Error in checkInstall(pkgs): object 'pkgs' not found\nTraceback:\n",
            "1. checkInstall(pkgs)"
          ]
        }
      ]
    },
    {
      "cell_type": "code",
      "metadata": {
        "id": "RIYxzEUpNu15"
      },
      "source": [
        "\n"
      ],
      "execution_count": 68,
      "outputs": []
    },
    {
      "cell_type": "code",
      "metadata": {
        "id": "5BlFczKwJKkj"
      },
      "source": [
        ""
      ],
      "execution_count": 82,
      "outputs": []
    },
    {
      "cell_type": "code",
      "metadata": {
        "colab": {
          "base_uri": "https://localhost:8080/",
          "height": 1000
        },
        "id": "9xq4jRXbI7Sf",
        "outputId": "c34a64f4-ef9d-4c63-a757-256317158d3b"
      },
      "source": [
        ""
      ],
      "execution_count": 80,
      "outputs": [
        {
          "output_type": "display_data",
          "data": {
            "text/plain": [
              "Confusion Matrix and Statistics\n",
              "\n",
              "     test\n",
              "pred1 No Yes\n",
              "  No  21   7\n",
              "  Yes 35  39\n",
              "                                          \n",
              "               Accuracy : 0.5882          \n",
              "                 95% CI : (0.4864, 0.6848)\n",
              "    No Information Rate : 0.549           \n",
              "    P-Value [Acc > NIR] : 0.2437          \n",
              "                                          \n",
              "                  Kappa : 0.2113          \n",
              "                                          \n",
              " Mcnemar's Test P-Value : 3.097e-05       \n",
              "                                          \n",
              "            Sensitivity : 0.8478          \n",
              "            Specificity : 0.3750          \n",
              "         Pos Pred Value : 0.5270          \n",
              "         Neg Pred Value : 0.7500          \n",
              "             Prevalence : 0.4510          \n",
              "         Detection Rate : 0.3824          \n",
              "   Detection Prevalence : 0.7255          \n",
              "      Balanced Accuracy : 0.6114          \n",
              "                                          \n",
              "       'Positive' Class : Yes             \n",
              "                                          "
            ]
          },
          "metadata": {
            "tags": []
          }
        },
        {
          "output_type": "stream",
          "text": [
            "Setting levels: control = No, case = Yes\n",
            "\n",
            "Setting direction: controls < cases\n",
            "\n"
          ],
          "name": "stderr"
        },
        {
          "output_type": "display_data",
          "data": {
            "image/png": "[encoded data removed]",
            "text/plain": [
              "Plot with title “ROC Curve”"
            ]
          },
          "metadata": {
            "tags": [],
            "image/png": {
              "width": 420,
              "height": 420
            }
          }
        }
      ]
    },
    {
      "cell_type": "code",
      "metadata": {
        "id": "aMKlU4biJOcy"
      },
      "source": [
        "fit.nb <- train(family.violence~., data=train, method=\"nb\", trControl=ctrl,preProcess = c(\"scale\", \"center\"))\n",
        "pred6 <- predict(fit.nb,test)\n",
        "h6 <- data.frame(pred6 ,test=test$family.violence)\n",
        "t6 <- table(h6)\n",
        "confusionMatrix(t6,positive='Yes')\n",
        "pred66 <- predict(fit.nb, test,type=\"prob\")\n",
        "ROC_nb <- roc(test$family.violence, pred66[,2],smooth=T)\n",
        "plot(ROC_nb, col = 30,lwd=4,lty=1,add=T)"
      ],
      "execution_count": null,
      "outputs": []
    },
    {
      "cell_type": "code",
      "metadata": {
        "id": "bYvFoKv9JRSv"
      },
      "source": [
        "legend(\"bottomright\",legend=c(\"RF\",\"LR\",\"NB\"),col=c(25,26,30),lwd=c(4,4,4),lty=c(1,1,1),cex=0.8,title=\"ALGORITHM\", text.font=4, bg='lightblue')"
      ],
      "execution_count": null,
      "outputs": []
    }
  ]
}