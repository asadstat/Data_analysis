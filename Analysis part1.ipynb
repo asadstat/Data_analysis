{
  "nbformat": 4,
  "nbformat_minor": 0,
  "metadata": {
    "colab": {
      "name": "Untitled14.ipynb",
      "provenance": [],
      "authorship_tag": "ABX9TyNTt4hFwW6FetMPlDP+7NJj",
      "include_colab_link": true
    },
    "kernelspec": {
      "name": "python3",
      "display_name": "Python 3"
    },
    "language_info": {
      "name": "python"
    }
  },
  "cells": [
    {
      "cell_type": "markdown",
      "metadata": {
        "id": "view-in-github",
        "colab_type": "text"
      },
      "source": [
        "<a href=\"https://colab.research.google.com/github/asadstat/Data_analysis/blob/master/Analysis%20part1.ipynb\" target=\"_parent\"><img src=\"https://colab.research.google.com/assets/colab-badge.svg\" alt=\"Open In Colab\"/></a>"
      ]
    },
    {
      "cell_type": "code",
      "source": [
        "pip install scikit-learn "
      ],
      "metadata": {
        "id": "i0-vNn-En6gE"
      },
      "execution_count": null,
      "outputs": []
    },
    {
      "cell_type": "code",
      "source": [
        "# load datasets package from scikit-learn\n",
        "from sklearn import datasets"
      ],
      "metadata": {
        "id": "FFzENsEZoFGj"
      },
      "execution_count": null,
      "outputs": []
    },
    {
      "cell_type": "code",
      "source": [
        "dir(datasets)"
      ],
      "metadata": {
        "id": "K2IVL00foKEY"
      },
      "execution_count": null,
      "outputs": []
    },
    {
      "cell_type": "code",
      "source": [
        "[data for data in dir(datasets) if data.startswith(\"load\")]"
      ],
      "metadata": {
        "id": "Y4Eo7VK_ob6Y"
      },
      "execution_count": null,
      "outputs": []
    },
    {
      "cell_type": "code",
      "source": [
        "iris= datasets.load_iris()"
      ],
      "metadata": {
        "id": "mFtS32O8ohSz"
      },
      "execution_count": null,
      "outputs": []
    },
    {
      "cell_type": "code",
      "execution_count": null,
      "metadata": {
        "id": "4_RLlAZMfRDS"
      },
      "outputs": [],
      "source": [
        "# Import required modules.\n",
        "import pandas as pd\n",
        "import numpy as np \n",
        "import matplotlib.pyplot as plt\n",
        "from sklearn import datasets\n",
        "from sklearn.model_selection import train_test_split\n",
        "from sklearn.svm import SVC\n",
        "from sklearn.metrics import classification_report, recall_score, precision_score, accuracy_score"
      ]
    },
    {
      "cell_type": "code",
      "source": [
        "from sklearn.datasets import load_breast_cancer\n",
        "data = load_breast_cancer()"
      ],
      "metadata": {
        "id": "vIL6BsRDkrdk"
      },
      "execution_count": null,
      "outputs": []
    },
    {
      "cell_type": "code",
      "source": [
        "import numpy as np\n",
        "import pandas as pd\n",
        "import matplotlib.pyplot as plt\n",
        "from sklearn.datasets import load_breast_cancer\n",
        "from sklearn.model_selection import train_test_split\n",
        "plt.style.use('ggplot')"
      ],
      "metadata": {
        "id": "Ez4fUWZxr8kz"
      },
      "execution_count": null,
      "outputs": []
    },
    {
      "cell_type": "code",
      "source": [
        "# Breast cancer dataset for classification\n",
        "data = load_breast_cancer()\n",
        "print (data.feature_names)\n",
        "print (data.target_names)"
      ],
      "metadata": {
        "id": "IM97ksmJsAbe"
      },
      "execution_count": null,
      "outputs": []
    },
    {
      "cell_type": "code",
      "source": [
        "from sklearn.datasets import load_breast_cancer\n",
        "# specifying \"as_frame=True\" returns the data as a dataframe in addition to a numpy array\n",
        "cancer = load_breast_cancer(as_frame=True)"
      ],
      "metadata": {
        "id": "MJn68PL-sOLX"
      },
      "execution_count": null,
      "outputs": []
    }
  ]
}