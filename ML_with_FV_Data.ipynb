{
  "nbformat": 4,
  "nbformat_minor": 0,
  "metadata": {
    "anaconda-cloud": {},
    "kernelspec": {
      "display_name": "Python 3",
      "language": "python",
      "name": "python3"
    },
    "language_info": {
      "codemirror_mode": {
        "name": "ipython",
        "version": 3
      },
      "file_extension": ".py",
      "mimetype": "text/x-python",
      "name": "python",
      "nbconvert_exporter": "python",
      "pygments_lexer": "ipython3",
      "version": "3.7.3"
    },
    "nbpresent": {
      "slides": {
        "152807d2-c663-48e6-ac66-8c537ee4aefc": {
          "id": "152807d2-c663-48e6-ac66-8c537ee4aefc",
          "prev": "faea275e-7b9e-4007-ad6b-a8957fa433b4",
          "regions": {
            "33f1bb11-6b7a-4c18-bfb4-d3d97c6d46c3": {
              "attrs": {
                "height": 0.8,
                "width": 0.8,
                "x": 0.1,
                "y": 0.1
              },
              "content": {
                "cell": "78d4eea6-d374-43ce-ac57-a17d06044049",
                "part": "whole"
              },
              "id": "33f1bb11-6b7a-4c18-bfb4-d3d97c6d46c3"
            }
          }
        },
        "2410c324-da84-4b20-9086-c4b784b6f62a": {
          "id": "2410c324-da84-4b20-9086-c4b784b6f62a",
          "prev": "b36a602c-6a58-4f32-a46e-9b9db8461cf7",
          "regions": {
            "338a5979-546c-4065-98dc-1297d4eb4ecb": {
              "attrs": {
                "height": 0.8,
                "width": 0.8,
                "x": 0.1,
                "y": 0.1
              },
              "content": {
                "cell": "673aa8b4-a7dc-4890-b18e-988616b1f4bd",
                "part": "whole"
              },
              "id": "338a5979-546c-4065-98dc-1297d4eb4ecb"
            }
          }
        },
        "28005d02-262e-4987-becd-65bc261c0eba": {
          "id": "28005d02-262e-4987-becd-65bc261c0eba",
          "prev": "e7636845-75a8-4853-bc05-72bb4c708a3d",
          "regions": {
            "8efbd42b-ab77-4a17-899f-8df1b6b2d0a1": {
              "attrs": {
                "height": 0.8,
                "width": 0.8,
                "x": 0.1,
                "y": 0.1
              },
              "content": {
                "cell": "838b76a5-58b1-4353-a441-a2c30603b483",
                "part": "whole"
              },
              "id": "8efbd42b-ab77-4a17-899f-8df1b6b2d0a1"
            }
          }
        },
        "377c660b-a068-4b81-a7a6-31973a0712ad": {
          "id": "377c660b-a068-4b81-a7a6-31973a0712ad",
          "prev": "52201dc3-5e73-4cd3-980c-1de1e87aef44",
          "regions": {
            "6ad9ff58-eded-4ac5-ae0c-747441cf0d9b": {
              "attrs": {
                "height": 0.8,
                "width": 0.8,
                "x": 0.1,
                "y": 0.1
              },
              "content": {
                "cell": "830f83d2-2099-463e-bad3-61060ec2b7d3",
                "part": "whole"
              },
              "id": "6ad9ff58-eded-4ac5-ae0c-747441cf0d9b"
            }
          }
        },
        "3bab3bba-e40d-4cd1-9da8-515a00245eb8": {
          "id": "3bab3bba-e40d-4cd1-9da8-515a00245eb8",
          "prev": "28005d02-262e-4987-becd-65bc261c0eba",
          "regions": {
            "c69b4afc-5bd9-491f-aee5-d9436aba66da": {
              "attrs": {
                "height": 0.8,
                "width": 0.8,
                "x": 0.1,
                "y": 0.1
              },
              "content": {
                "cell": "97de455d-d736-45c7-afce-c8bdd975de2a",
                "part": "whole"
              },
              "id": "c69b4afc-5bd9-491f-aee5-d9436aba66da"
            }
          }
        },
        "438862db-30af-47a5-8fa9-6d2ef4043902": {
          "id": "438862db-30af-47a5-8fa9-6d2ef4043902",
          "prev": null,
          "regions": {
            "f1ba8581-5c56-4156-9c01-1dde904f76e4": {
              "attrs": {
                "height": 0.8,
                "width": 0.8,
                "x": 0.1,
                "y": 0.1
              },
              "content": {
                "cell": "41a1ec97-9533-45aa-ada5-2d22fce7e5f9",
                "part": "whole"
              },
              "id": "f1ba8581-5c56-4156-9c01-1dde904f76e4"
            }
          }
        },
        "45bd194a-0c1f-4d4b-8577-db8c71033d15": {
          "id": "45bd194a-0c1f-4d4b-8577-db8c71033d15",
          "prev": "d7dc2cb7-fd8c-4997-aed6-ce34c762bc7c",
          "regions": {
            "1974051d-4a38-42de-a576-f463c620c75a": {
              "attrs": {
                "height": 0.8,
                "width": 0.8,
                "x": 0.1,
                "y": 0.1
              },
              "content": {
                "cell": "867a1bb6-a4e5-4619-8103-29dee879dec2",
                "part": "whole"
              },
              "id": "1974051d-4a38-42de-a576-f463c620c75a"
            }
          }
        },
        "4a352220-6501-49b4-beeb-604251603772": {
          "id": "4a352220-6501-49b4-beeb-604251603772",
          "prev": "152807d2-c663-48e6-ac66-8c537ee4aefc",
          "regions": {
            "59530faa-fed5-426c-a33b-a3b498530abc": {
              "attrs": {
                "height": 0.8,
                "width": 0.8,
                "x": 0.1,
                "y": 0.1
              },
              "content": {
                "cell": "8da0b887-aae3-495e-8c35-fa0df514f107",
                "part": "whole"
              },
              "id": "59530faa-fed5-426c-a33b-a3b498530abc"
            }
          }
        },
        "52201dc3-5e73-4cd3-980c-1de1e87aef44": {
          "id": "52201dc3-5e73-4cd3-980c-1de1e87aef44",
          "prev": "56f86d65-2cc7-4f65-84fa-5dc6192217af",
          "regions": {
            "472e8f31-2157-4a63-9d23-6c36b222efa8": {
              "attrs": {
                "height": 0.8,
                "width": 0.8,
                "x": 0.1,
                "y": 0.1
              },
              "content": {
                "cell": "091be348-752b-40a1-9913-a5f66e586f99",
                "part": "whole"
              },
              "id": "472e8f31-2157-4a63-9d23-6c36b222efa8"
            }
          }
        },
        "56f86d65-2cc7-4f65-84fa-5dc6192217af": {
          "id": "56f86d65-2cc7-4f65-84fa-5dc6192217af",
          "prev": "3bab3bba-e40d-4cd1-9da8-515a00245eb8",
          "regions": {
            "358df401-9081-46c6-b9be-4bff02cd66da": {
              "attrs": {
                "height": 0.8,
                "width": 0.8,
                "x": 0.1,
                "y": 0.1
              },
              "content": {
                "cell": "babe32f8-f697-4ec4-92c9-55e55f4dbef5",
                "part": "whole"
              },
              "id": "358df401-9081-46c6-b9be-4bff02cd66da"
            }
          }
        },
        "5b59641f-c4cf-4e29-b036-a6a414e1803b": {
          "id": "5b59641f-c4cf-4e29-b036-a6a414e1803b",
          "prev": "d118e07f-6de6-4e2d-88ff-06c5630797f4",
          "regions": {
            "1731a4cc-aa11-4163-80f0-b32a5b7b4755": {
              "attrs": {
                "height": 0.8,
                "width": 0.8,
                "x": 0.1,
                "y": 0.1
              },
              "content": {
                "cell": "5f441923-7288-4a26-a651-78ee08d64ed2",
                "part": "whole"
              },
              "id": "1731a4cc-aa11-4163-80f0-b32a5b7b4755"
            }
          }
        },
        "62948a2f-8178-4847-be9a-1e89a494bb3e": {
          "id": "62948a2f-8178-4847-be9a-1e89a494bb3e",
          "prev": "377c660b-a068-4b81-a7a6-31973a0712ad",
          "regions": {
            "7bb5ba3c-a2ac-4e4f-b9a4-60219aefbffe": {
              "attrs": {
                "height": 0.8,
                "width": 0.8,
                "x": 0.1,
                "y": 0.1
              },
              "content": {
                "cell": "ac5f4014-8ff3-4aac-ac0b-7efed5cca52d",
                "part": "whole"
              },
              "id": "7bb5ba3c-a2ac-4e4f-b9a4-60219aefbffe"
            }
          }
        },
        "7d6b1bf3-1007-4700-bb4d-ad598afe3c6d": {
          "id": "7d6b1bf3-1007-4700-bb4d-ad598afe3c6d",
          "prev": "45bd194a-0c1f-4d4b-8577-db8c71033d15",
          "regions": {
            "cb7f95c7-a755-48fe-93af-cb88a87a29a8": {
              "attrs": {
                "height": 0.8,
                "width": 0.8,
                "x": 0.1,
                "y": 0.1
              },
              "content": {
                "cell": "123e3f60-f7cf-42e0-bc0a-344a25489096",
                "part": "whole"
              },
              "id": "cb7f95c7-a755-48fe-93af-cb88a87a29a8"
            }
          }
        },
        "9089426f-d361-430c-a8d8-05353dee27c3": {
          "id": "9089426f-d361-430c-a8d8-05353dee27c3",
          "prev": "2410c324-da84-4b20-9086-c4b784b6f62a",
          "regions": {
            "8f52cb97-923e-45e9-9c9c-0937e9ff493d": {
              "attrs": {
                "height": 0.8,
                "width": 0.8,
                "x": 0.1,
                "y": 0.1
              },
              "content": {
                "cell": "f8f302a0-bfef-4d66-b0ef-329686383de1",
                "part": "whole"
              },
              "id": "8f52cb97-923e-45e9-9c9c-0937e9ff493d"
            }
          }
        },
        "92875d38-4d35-4c73-ad22-a0748cd9a648": {
          "id": "92875d38-4d35-4c73-ad22-a0748cd9a648",
          "prev": "5b59641f-c4cf-4e29-b036-a6a414e1803b",
          "regions": {
            "9d29bc2b-c6f1-414c-84a7-0425d220a423": {
              "attrs": {
                "height": 0.8,
                "width": 0.8,
                "x": 0.1,
                "y": 0.1
              },
              "content": {
                "cell": "9bf2b1ea-b6fb-40cc-a2fe-a2b872bdd7f2",
                "part": "whole"
              },
              "id": "9d29bc2b-c6f1-414c-84a7-0425d220a423"
            }
          }
        },
        "9373c8c2-a6bf-4c92-8430-efff437a83ac": {
          "id": "9373c8c2-a6bf-4c92-8430-efff437a83ac",
          "prev": "92875d38-4d35-4c73-ad22-a0748cd9a648",
          "regions": {
            "f4f31799-0439-462d-a195-9ae8d4bbaf10": {
              "attrs": {
                "height": 0.8,
                "width": 0.8,
                "x": 0.1,
                "y": 0.1
              },
              "content": {
                "cell": "c78558c3-6cc4-4af9-a63c-38c5efd9a473",
                "part": "whole"
              },
              "id": "f4f31799-0439-462d-a195-9ae8d4bbaf10"
            }
          }
        },
        "b36a602c-6a58-4f32-a46e-9b9db8461cf7": {
          "id": "b36a602c-6a58-4f32-a46e-9b9db8461cf7",
          "prev": "c4f8be7d-3688-4259-adf4-1da9fa66b830",
          "regions": {
            "dd78af41-80d4-48bc-a183-c58ad0b4e5ee": {
              "attrs": {
                "height": 0.8,
                "width": 0.8,
                "x": 0.1,
                "y": 0.1
              },
              "content": {
                "cell": "aa869a59-1185-461c-9817-d2eb33ad9376",
                "part": "whole"
              },
              "id": "dd78af41-80d4-48bc-a183-c58ad0b4e5ee"
            }
          }
        },
        "c4f8be7d-3688-4259-adf4-1da9fa66b830": {
          "id": "c4f8be7d-3688-4259-adf4-1da9fa66b830",
          "prev": "d0403f9d-94d0-4b34-ba42-54d7318fdd7c",
          "regions": {
            "1b12a077-3203-43fd-9c82-2fd2f3c74f4e": {
              "attrs": {
                "height": 0.8,
                "width": 0.8,
                "x": 0.1,
                "y": 0.1
              },
              "content": {
                "cell": "bfbfb044-9888-45d2-bbb5-2a4beaa2abfe",
                "part": "whole"
              },
              "id": "1b12a077-3203-43fd-9c82-2fd2f3c74f4e"
            }
          }
        },
        "d0403f9d-94d0-4b34-ba42-54d7318fdd7c": {
          "id": "d0403f9d-94d0-4b34-ba42-54d7318fdd7c",
          "prev": "62948a2f-8178-4847-be9a-1e89a494bb3e",
          "regions": {
            "2c9dde0c-091e-4f7a-87fc-02245626ecd9": {
              "attrs": {
                "height": 0.8,
                "width": 0.8,
                "x": 0.1,
                "y": 0.1
              },
              "content": {
                "cell": "109cc101-f262-43c6-bdfb-c089f14d73ec",
                "part": "whole"
              },
              "id": "2c9dde0c-091e-4f7a-87fc-02245626ecd9"
            }
          }
        },
        "d118e07f-6de6-4e2d-88ff-06c5630797f4": {
          "id": "d118e07f-6de6-4e2d-88ff-06c5630797f4",
          "prev": "438862db-30af-47a5-8fa9-6d2ef4043902",
          "regions": {
            "d0bb9394-67a9-496a-94b6-bb0956d393ab": {
              "attrs": {
                "height": 0.8,
                "width": 0.8,
                "x": 0.1,
                "y": 0.1
              },
              "content": {
                "cell": "e3f9c5cb-55c7-4cf0-bc4f-1bd990733dd6",
                "part": "whole"
              },
              "id": "d0bb9394-67a9-496a-94b6-bb0956d393ab"
            }
          }
        },
        "d7dc2cb7-fd8c-4997-aed6-ce34c762bc7c": {
          "id": "d7dc2cb7-fd8c-4997-aed6-ce34c762bc7c",
          "prev": "9089426f-d361-430c-a8d8-05353dee27c3",
          "regions": {
            "91ad7ac3-c56a-4ade-bc35-dfad255f2fe2": {
              "attrs": {
                "height": 0.8,
                "width": 0.8,
                "x": 0.1,
                "y": 0.1
              },
              "content": {
                "cell": "bce014d8-2e7b-4172-be55-4f5d9b553a37",
                "part": "whole"
              },
              "id": "91ad7ac3-c56a-4ade-bc35-dfad255f2fe2"
            }
          }
        },
        "e7636845-75a8-4853-bc05-72bb4c708a3d": {
          "id": "e7636845-75a8-4853-bc05-72bb4c708a3d",
          "prev": "ed42fd54-b3c0-4ea0-a7de-039be13c045a",
          "regions": {
            "94189838-ddc4-437e-9264-978193d2a50d": {
              "attrs": {
                "height": 0.8,
                "width": 0.8,
                "x": 0.1,
                "y": 0.1
              },
              "content": {
                "cell": "659d7069-5f04-4078-b7ed-91c2707170aa",
                "part": "whole"
              },
              "id": "94189838-ddc4-437e-9264-978193d2a50d"
            }
          }
        },
        "ed42fd54-b3c0-4ea0-a7de-039be13c045a": {
          "id": "ed42fd54-b3c0-4ea0-a7de-039be13c045a",
          "prev": "9373c8c2-a6bf-4c92-8430-efff437a83ac",
          "regions": {
            "cadaa65f-8f85-418a-9ab5-d4ff903cea31": {
              "attrs": {
                "height": 0.8,
                "width": 0.8,
                "x": 0.1,
                "y": 0.1
              },
              "content": {
                "cell": "5eb2360e-85e2-45e7-a710-efbdffb0b1ab",
                "part": "whole"
              },
              "id": "cadaa65f-8f85-418a-9ab5-d4ff903cea31"
            }
          }
        },
        "faea275e-7b9e-4007-ad6b-a8957fa433b4": {
          "id": "faea275e-7b9e-4007-ad6b-a8957fa433b4",
          "prev": "7d6b1bf3-1007-4700-bb4d-ad598afe3c6d",
          "regions": {
            "d2724c12-6d79-4d4e-8f07-c1663ba30bc6": {
              "attrs": {
                "height": 0.8,
                "width": 0.8,
                "x": 0.1,
                "y": 0.1
              },
              "content": {
                "cell": "31027484-c82c-40b6-b5d7-6061ab0fc2ee",
                "part": "whole"
              },
              "id": "d2724c12-6d79-4d4e-8f07-c1663ba30bc6"
            }
          }
        }
      },
      "themes": {}
    },
    "colab": {
      "name": "ML with FV Data.ipynb",
      "provenance": [],
      "toc_visible": true,
      "include_colab_link": true
    }
  },
  "cells": [
    {
      "cell_type": "markdown",
      "metadata": {
        "id": "view-in-github",
        "colab_type": "text"
      },
      "source": [
        "<a href=\"https://colab.research.google.com/github/asadstat/Data_analysis/blob/master/ML_with_FV_Data.ipynb\" target=\"_parent\"><img src=\"https://colab.research.google.com/assets/colab-badge.svg\" alt=\"Open In Colab\"/></a>"
      ]
    },
    {
      "cell_type": "markdown",
      "metadata": {
        "id": "RtpvPoUGkLGk"
      },
      "source": [
        "# Data Analytics in R and Python\n",
        "\n",
        "\n",
        "### Machine Learning Modeling using Python\n",
        "#### Md. Mazharul Islam\n",
        "#### Trainer, Data Analytics in R and Python\n",
        "\n",
        "### Bangladesh Institute of Governance and Management (BIGM)"
      ]
    },
    {
      "cell_type": "markdown",
      "metadata": {
        "nbpresent": {
          "id": "5f441923-7288-4a26-a651-78ee08d64ed2"
        },
        "id": "9Sq31ftTkLG1"
      },
      "source": [
        "# 1. Read Data and Explore\n",
        "\n",
        "In this approach, we will analyze datasets to summarize their main characteristics, with visual and quantitative methods."
      ]
    },
    {
      "cell_type": "code",
      "metadata": {
        "nbpresent": {
          "id": "9bf2b1ea-b6fb-40cc-a2fe-a2b872bdd7f2"
        },
        "id": "45JV1M5gkLG4"
      },
      "source": [
        "import numpy as np\n",
        "import pandas as pd\n",
        "import seaborn as sns\n",
        "\n",
        "import matplotlib.pyplot as plt\n",
        "from sklearn import metrics, model_selection\n",
        "#from sklearn.metrics import mean_squared_error\n",
        "#from sklearn.linear_model import LogisticRegression\n",
        "\n",
        "from sklearn.model_selection import train_test_split\n",
        "from sklearn.metrics import confusion_matrix\n",
        "#from sklearn.metrics import roc_curve, auc, confusion_matrix, precision_score, recall_score\n",
        "#from sklearn.ensemble import RandomForestClassifier \n",
        "\n",
        "\n",
        "def evalmodel(y_predicted, y_pred_prob, y_actual, modelname=None, dataset=None):\n",
        "    cm = confusion_matrix(y_predicted, y_actual)\n",
        "    TP = cm[1,1]\n",
        "    TN = cm[0,0]\n",
        "    FP = cm[1,0]\n",
        "    FN = cm[0,1]\n",
        "    accuracy = (TP+TN)/(TP+FP+TN+FN)\n",
        "    sensitivity = TP/(TP+FN)\n",
        "    specificity = TN/(TN+FP)\n",
        "    return(pd.DataFrame({'modelname':[modelname],'dataset':[dataset],'accuracy':[accuracy], 'sensitivity':[sensitivity], 'specificity':[specificity]}))\n",
        "\n",
        "%matplotlib inline"
      ],
      "execution_count": 30,
      "outputs": []
    },
    {
      "cell_type": "markdown",
      "metadata": {
        "nbpresent": {
          "id": "c78558c3-6cc4-4af9-a63c-38c5efd9a473"
        },
        "id": "mis6XpIGkLG7"
      },
      "source": [
        "### 1.1 Load Data\n",
        "The \"Social_Network_Ads.csv\" datafile has information on purchasing particular product/service. The target variable is to predict whether a customer will purchase or not.  "
      ]
    },
    {
      "cell_type": "code",
      "metadata": {
        "nbpresent": {
          "id": "5eb2360e-85e2-45e7-a710-efbdffb0b1ab"
        },
        "id": "2YrvSjXfkLG8"
      },
      "source": [
        "# load csv2\n",
        "customer = pd.read_csv('fd.csv')\n",
        "\n",
        "# remove target and ID columns\n",
        "feature = customer.drop(columns=['Family_Violence','FV'])\n",
        "\n",
        "# target\n",
        "targets = customers['FV']"
      ],
      "execution_count": 38,
      "outputs": []
    },
    {
      "cell_type": "code",
      "metadata": {
        "colab": {
          "base_uri": "https://localhost:8080/",
          "height": 244
        },
        "id": "Fl6CxX4w2WMR",
        "outputId": "17543501-6e5d-47d9-b830-20a0412ffe84"
      },
      "source": [
        "feature.head()"
      ],
      "execution_count": 40,
      "outputs": [
        {
          "output_type": "execute_result",
          "data": {
            "text/html": [
              "<div>\n",
              "<style scoped>\n",
              "    .dataframe tbody tr th:only-of-type {\n",
              "        vertical-align: middle;\n",
              "    }\n",
              "\n",
              "    .dataframe tbody tr th {\n",
              "        vertical-align: top;\n",
              "    }\n",
              "\n",
              "    .dataframe thead th {\n",
              "        text-align: right;\n",
              "    }\n",
              "</style>\n",
              "<table border=\"1\" class=\"dataframe\">\n",
              "  <thead>\n",
              "    <tr style=\"text-align: right;\">\n",
              "      <th></th>\n",
              "      <th>Unnamed: 0</th>\n",
              "      <th>Age</th>\n",
              "      <th>Gender</th>\n",
              "      <th>Marital_Status</th>\n",
              "      <th>Education</th>\n",
              "      <th>Occupation</th>\n",
              "      <th>Family_Type</th>\n",
              "      <th>Family_Member</th>\n",
              "      <th>Earning_Person</th>\n",
              "      <th>Head_of_Family</th>\n",
              "      <th>Religion</th>\n",
              "      <th>Residence_Location</th>\n",
              "      <th>Wealth.Index</th>\n",
              "      <th>Income_Before_Corona</th>\n",
              "      <th>Income_After_Corona</th>\n",
              "      <th>Lost_Job</th>\n",
              "    </tr>\n",
              "  </thead>\n",
              "  <tbody>\n",
              "    <tr>\n",
              "      <th>0</th>\n",
              "      <td>1</td>\n",
              "      <td>23</td>\n",
              "      <td>1</td>\n",
              "      <td>0</td>\n",
              "      <td>1</td>\n",
              "      <td>1</td>\n",
              "      <td>1</td>\n",
              "      <td>5</td>\n",
              "      <td>1</td>\n",
              "      <td>1</td>\n",
              "      <td>1</td>\n",
              "      <td>1</td>\n",
              "      <td>1</td>\n",
              "      <td>6</td>\n",
              "      <td>2</td>\n",
              "      <td>1</td>\n",
              "    </tr>\n",
              "    <tr>\n",
              "      <th>1</th>\n",
              "      <td>2</td>\n",
              "      <td>23</td>\n",
              "      <td>1</td>\n",
              "      <td>0</td>\n",
              "      <td>3</td>\n",
              "      <td>1</td>\n",
              "      <td>2</td>\n",
              "      <td>3</td>\n",
              "      <td>1</td>\n",
              "      <td>1</td>\n",
              "      <td>1</td>\n",
              "      <td>1</td>\n",
              "      <td>1</td>\n",
              "      <td>3</td>\n",
              "      <td>1</td>\n",
              "      <td>2</td>\n",
              "    </tr>\n",
              "    <tr>\n",
              "      <th>2</th>\n",
              "      <td>3</td>\n",
              "      <td>23</td>\n",
              "      <td>1</td>\n",
              "      <td>0</td>\n",
              "      <td>2</td>\n",
              "      <td>1</td>\n",
              "      <td>1</td>\n",
              "      <td>4</td>\n",
              "      <td>4</td>\n",
              "      <td>1</td>\n",
              "      <td>1</td>\n",
              "      <td>2</td>\n",
              "      <td>1</td>\n",
              "      <td>3</td>\n",
              "      <td>3</td>\n",
              "      <td>2</td>\n",
              "    </tr>\n",
              "    <tr>\n",
              "      <th>3</th>\n",
              "      <td>4</td>\n",
              "      <td>23</td>\n",
              "      <td>1</td>\n",
              "      <td>0</td>\n",
              "      <td>1</td>\n",
              "      <td>1</td>\n",
              "      <td>1</td>\n",
              "      <td>3</td>\n",
              "      <td>1</td>\n",
              "      <td>1</td>\n",
              "      <td>1</td>\n",
              "      <td>1</td>\n",
              "      <td>1</td>\n",
              "      <td>3</td>\n",
              "      <td>2</td>\n",
              "      <td>1</td>\n",
              "    </tr>\n",
              "    <tr>\n",
              "      <th>4</th>\n",
              "      <td>5</td>\n",
              "      <td>23</td>\n",
              "      <td>1</td>\n",
              "      <td>0</td>\n",
              "      <td>2</td>\n",
              "      <td>1</td>\n",
              "      <td>2</td>\n",
              "      <td>4</td>\n",
              "      <td>2</td>\n",
              "      <td>1</td>\n",
              "      <td>1</td>\n",
              "      <td>1</td>\n",
              "      <td>1</td>\n",
              "      <td>3</td>\n",
              "      <td>2</td>\n",
              "      <td>1</td>\n",
              "    </tr>\n",
              "  </tbody>\n",
              "</table>\n",
              "</div>"
            ],
            "text/plain": [
              "   Unnamed: 0  Age  Gender  ...  Income_Before_Corona  Income_After_Corona  Lost_Job\n",
              "0           1   23       1  ...                     6                    2         1\n",
              "1           2   23       1  ...                     3                    1         2\n",
              "2           3   23       1  ...                     3                    3         2\n",
              "3           4   23       1  ...                     3                    2         1\n",
              "4           5   23       1  ...                     3                    2         1\n",
              "\n",
              "[5 rows x 16 columns]"
            ]
          },
          "metadata": {
            "tags": []
          },
          "execution_count": 40
        }
      ]
    },
    {
      "cell_type": "code",
      "metadata": {
        "scrolled": true,
        "colab": {
          "base_uri": "https://localhost:8080/"
        },
        "id": "bKsx8NsEkLG_",
        "outputId": "b4d659c2-8dca-43ec-841f-6e64f798285f"
      },
      "source": [
        "targets.value_counts()"
      ],
      "execution_count": 41,
      "outputs": [
        {
          "output_type": "execute_result",
          "data": {
            "text/plain": [
              "0    282\n",
              "1    229\n",
              "Name: FV, dtype: int64"
            ]
          },
          "metadata": {
            "tags": []
          },
          "execution_count": 41
        }
      ]
    },
    {
      "cell_type": "code",
      "metadata": {
        "scrolled": true,
        "id": "mlJ0SbTGkLHE"
      },
      "source": [
        "feature"
      ],
      "execution_count": null,
      "outputs": []
    },
    {
      "cell_type": "markdown",
      "metadata": {
        "nbpresent": {
          "id": "838b76a5-58b1-4353-a441-a2c30603b483"
        },
        "id": "QUWccvKCkLHF"
      },
      "source": [
        "### 1.2 Univariate Analysis"
      ]
    },
    {
      "cell_type": "code",
      "metadata": {
        "id": "DkjibncH5ofl"
      },
      "source": [
        "feature = feature.iloc[: , 1:]"
      ],
      "execution_count": 44,
      "outputs": []
    },
    {
      "cell_type": "code",
      "metadata": {
        "nbpresent": {
          "id": "97de455d-d736-45c7-afce-c8bdd975de2a"
        },
        "colab": {
          "base_uri": "https://localhost:8080/",
          "height": 320
        },
        "id": "OxWRqVMjkLHG",
        "outputId": "4400e86d-31dd-458d-85b1-f7ba081523d5"
      },
      "source": [
        "# describe the characteristics of variables\n",
        "feature.describe()"
      ],
      "execution_count": 45,
      "outputs": [
        {
          "output_type": "execute_result",
          "data": {
            "text/html": [
              "<div>\n",
              "<style scoped>\n",
              "    .dataframe tbody tr th:only-of-type {\n",
              "        vertical-align: middle;\n",
              "    }\n",
              "\n",
              "    .dataframe tbody tr th {\n",
              "        vertical-align: top;\n",
              "    }\n",
              "\n",
              "    .dataframe thead th {\n",
              "        text-align: right;\n",
              "    }\n",
              "</style>\n",
              "<table border=\"1\" class=\"dataframe\">\n",
              "  <thead>\n",
              "    <tr style=\"text-align: right;\">\n",
              "      <th></th>\n",
              "      <th>Gender</th>\n",
              "      <th>Marital_Status</th>\n",
              "      <th>Education</th>\n",
              "      <th>Occupation</th>\n",
              "      <th>Family_Type</th>\n",
              "      <th>Family_Member</th>\n",
              "      <th>Earning_Person</th>\n",
              "      <th>Head_of_Family</th>\n",
              "      <th>Religion</th>\n",
              "      <th>Residence_Location</th>\n",
              "      <th>Wealth.Index</th>\n",
              "      <th>Income_Before_Corona</th>\n",
              "      <th>Income_After_Corona</th>\n",
              "      <th>Lost_Job</th>\n",
              "    </tr>\n",
              "  </thead>\n",
              "  <tbody>\n",
              "    <tr>\n",
              "      <th>count</th>\n",
              "      <td>511.000000</td>\n",
              "      <td>511.000000</td>\n",
              "      <td>511.000000</td>\n",
              "      <td>511.000000</td>\n",
              "      <td>511.000000</td>\n",
              "      <td>511.000000</td>\n",
              "      <td>511.000000</td>\n",
              "      <td>511.000000</td>\n",
              "      <td>511.000000</td>\n",
              "      <td>511.000000</td>\n",
              "      <td>511.000000</td>\n",
              "      <td>511.000000</td>\n",
              "      <td>511.000000</td>\n",
              "      <td>511.000000</td>\n",
              "    </tr>\n",
              "    <tr>\n",
              "      <th>mean</th>\n",
              "      <td>1.303327</td>\n",
              "      <td>0.195695</td>\n",
              "      <td>2.452055</td>\n",
              "      <td>1.279843</td>\n",
              "      <td>1.295499</td>\n",
              "      <td>5.127202</td>\n",
              "      <td>1.500978</td>\n",
              "      <td>1.387476</td>\n",
              "      <td>1.142857</td>\n",
              "      <td>1.407045</td>\n",
              "      <td>1.240705</td>\n",
              "      <td>3.530333</td>\n",
              "      <td>3.080235</td>\n",
              "      <td>1.203523</td>\n",
              "    </tr>\n",
              "    <tr>\n",
              "      <th>std</th>\n",
              "      <td>0.460146</td>\n",
              "      <td>0.397123</td>\n",
              "      <td>0.935755</td>\n",
              "      <td>0.618319</td>\n",
              "      <td>0.456714</td>\n",
              "      <td>2.207266</td>\n",
              "      <td>0.842207</td>\n",
              "      <td>0.843987</td>\n",
              "      <td>0.350270</td>\n",
              "      <td>0.491765</td>\n",
              "      <td>0.586437</td>\n",
              "      <td>1.598578</td>\n",
              "      <td>1.735280</td>\n",
              "      <td>0.403012</td>\n",
              "    </tr>\n",
              "    <tr>\n",
              "      <th>min</th>\n",
              "      <td>1.000000</td>\n",
              "      <td>0.000000</td>\n",
              "      <td>1.000000</td>\n",
              "      <td>1.000000</td>\n",
              "      <td>1.000000</td>\n",
              "      <td>2.000000</td>\n",
              "      <td>0.000000</td>\n",
              "      <td>1.000000</td>\n",
              "      <td>1.000000</td>\n",
              "      <td>1.000000</td>\n",
              "      <td>1.000000</td>\n",
              "      <td>1.000000</td>\n",
              "      <td>1.000000</td>\n",
              "      <td>1.000000</td>\n",
              "    </tr>\n",
              "    <tr>\n",
              "      <th>25%</th>\n",
              "      <td>1.000000</td>\n",
              "      <td>0.000000</td>\n",
              "      <td>2.000000</td>\n",
              "      <td>1.000000</td>\n",
              "      <td>1.000000</td>\n",
              "      <td>4.000000</td>\n",
              "      <td>1.000000</td>\n",
              "      <td>1.000000</td>\n",
              "      <td>1.000000</td>\n",
              "      <td>1.000000</td>\n",
              "      <td>1.000000</td>\n",
              "      <td>2.000000</td>\n",
              "      <td>2.000000</td>\n",
              "      <td>1.000000</td>\n",
              "    </tr>\n",
              "    <tr>\n",
              "      <th>50%</th>\n",
              "      <td>1.000000</td>\n",
              "      <td>0.000000</td>\n",
              "      <td>2.000000</td>\n",
              "      <td>1.000000</td>\n",
              "      <td>1.000000</td>\n",
              "      <td>5.000000</td>\n",
              "      <td>1.000000</td>\n",
              "      <td>1.000000</td>\n",
              "      <td>1.000000</td>\n",
              "      <td>1.000000</td>\n",
              "      <td>1.000000</td>\n",
              "      <td>3.000000</td>\n",
              "      <td>3.000000</td>\n",
              "      <td>1.000000</td>\n",
              "    </tr>\n",
              "    <tr>\n",
              "      <th>75%</th>\n",
              "      <td>2.000000</td>\n",
              "      <td>0.000000</td>\n",
              "      <td>3.000000</td>\n",
              "      <td>1.000000</td>\n",
              "      <td>2.000000</td>\n",
              "      <td>6.000000</td>\n",
              "      <td>2.000000</td>\n",
              "      <td>1.000000</td>\n",
              "      <td>1.000000</td>\n",
              "      <td>2.000000</td>\n",
              "      <td>1.000000</td>\n",
              "      <td>5.000000</td>\n",
              "      <td>5.000000</td>\n",
              "      <td>1.000000</td>\n",
              "    </tr>\n",
              "    <tr>\n",
              "      <th>max</th>\n",
              "      <td>2.000000</td>\n",
              "      <td>1.000000</td>\n",
              "      <td>5.000000</td>\n",
              "      <td>3.000000</td>\n",
              "      <td>2.000000</td>\n",
              "      <td>20.000000</td>\n",
              "      <td>6.000000</td>\n",
              "      <td>4.000000</td>\n",
              "      <td>2.000000</td>\n",
              "      <td>2.000000</td>\n",
              "      <td>4.000000</td>\n",
              "      <td>6.000000</td>\n",
              "      <td>6.000000</td>\n",
              "      <td>2.000000</td>\n",
              "    </tr>\n",
              "  </tbody>\n",
              "</table>\n",
              "</div>"
            ],
            "text/plain": [
              "           Gender  Marital_Status  ...  Income_After_Corona    Lost_Job\n",
              "count  511.000000      511.000000  ...           511.000000  511.000000\n",
              "mean     1.303327        0.195695  ...             3.080235    1.203523\n",
              "std      0.460146        0.397123  ...             1.735280    0.403012\n",
              "min      1.000000        0.000000  ...             1.000000    1.000000\n",
              "25%      1.000000        0.000000  ...             2.000000    1.000000\n",
              "50%      1.000000        0.000000  ...             3.000000    1.000000\n",
              "75%      2.000000        0.000000  ...             5.000000    1.000000\n",
              "max      2.000000        1.000000  ...             6.000000    2.000000\n",
              "\n",
              "[8 rows x 14 columns]"
            ]
          },
          "metadata": {
            "tags": []
          },
          "execution_count": 45
        }
      ]
    },
    {
      "cell_type": "code",
      "metadata": {
        "id": "lEn3X-ubkLHI"
      },
      "source": [
        ""
      ],
      "execution_count": 9,
      "outputs": []
    },
    {
      "cell_type": "code",
      "metadata": {
        "id": "ad8XhXPakLHN"
      },
      "source": [
        "from sklearn.preprocessing import Normalizer\n",
        "normalize = Normalizer().fit_transform(feature)"
      ],
      "execution_count": 81,
      "outputs": []
    },
    {
      "cell_type": "code",
      "metadata": {
        "id": "3w2G_vOiD_Z8"
      },
      "source": [
        "import seaborn as sns\n",
        "%matplotlib inline"
      ],
      "execution_count": 82,
      "outputs": []
    },
    {
      "cell_type": "code",
      "metadata": {
        "id": "GEiJdzvcBDY_"
      },
      "source": [
        "corr = feature.corr()"
      ],
      "execution_count": 83,
      "outputs": []
    },
    {
      "cell_type": "code",
      "metadata": {
        "colab": {
          "base_uri": "https://localhost:8080/",
          "height": 392
        },
        "id": "skDtLk4pA2o8",
        "outputId": "47585ac6-3f8c-4fbe-d90e-335905eaebd5"
      },
      "source": [
        "# plot the heatmap\n",
        "sns.heatmap(corr, \n",
        "        xticklabels=corr.columns,\n",
        "        yticklabels=corr.columns)"
      ],
      "execution_count": 84,
      "outputs": [
        {
          "output_type": "execute_result",
          "data": {
            "text/plain": [
              "<matplotlib.axes._subplots.AxesSubplot at 0x7f5b177fa510>"
            ]
          },
          "metadata": {
            "tags": []
          },
          "execution_count": 84
        },
        {
          "output_type": "display_data",
          "data": {
            "image/png": "[encoded data removed]",
            "text/plain": [
              "<Figure size 432x288 with 2 Axes>"
            ]
          },
          "metadata": {
            "tags": [],
            "needs_background": "light"
          }
        }
      ]
    },
    {
      "cell_type": "code",
      "metadata": {
        "scrolled": true,
        "id": "tu1WvqPXkLHO"
      },
      "source": [
        "normalize"
      ],
      "execution_count": null,
      "outputs": []
    },
    {
      "cell_type": "markdown",
      "metadata": {
        "id": "BBL7YJNqkLHQ"
      },
      "source": [
        "**Gender** is a categorical feature having male and female. The ML algorithm will only understand **Numbers**. We have to encode numeric to all categorical variables. Pandas have a good option to do this.  "
      ]
    },
    {
      "cell_type": "code",
      "metadata": {
        "id": "8tMjyDk9kLHQ"
      },
      "source": [
        "X_train, X_test, y_train, y_test = train_test_split(normalize,targets, test_size=0.2, random_state=1234)"
      ],
      "execution_count": 103,
      "outputs": []
    },
    {
      "cell_type": "code",
      "metadata": {
        "scrolled": true,
        "id": "dHW48kPNkLHR"
      },
      "source": [
        "from sklearn.linear_model import LogisticRegression\n",
        "classifier = LogisticRegression()"
      ],
      "execution_count": 104,
      "outputs": []
    },
    {
      "cell_type": "markdown",
      "metadata": {
        "id": "1fecmLPkkLHS"
      },
      "source": [
        "### 3.2 Divide into train and test"
      ]
    },
    {
      "cell_type": "code",
      "metadata": {
        "colab": {
          "base_uri": "https://localhost:8080/"
        },
        "id": "-u99rzKPkLHT",
        "outputId": "94e5b904-56ec-4901-a5c3-8aaef2afc8ef"
      },
      "source": [
        "classifier.fit(X_train, y_train)"
      ],
      "execution_count": 105,
      "outputs": [
        {
          "output_type": "execute_result",
          "data": {
            "text/plain": [
              "LogisticRegression(C=1.0, class_weight=None, dual=False, fit_intercept=True,\n",
              "                   intercept_scaling=1, l1_ratio=None, max_iter=100,\n",
              "                   multi_class='auto', n_jobs=None, penalty='l2',\n",
              "                   random_state=None, solver='lbfgs', tol=0.0001, verbose=0,\n",
              "                   warm_start=False)"
            ]
          },
          "metadata": {
            "tags": []
          },
          "execution_count": 105
        }
      ]
    },
    {
      "cell_type": "markdown",
      "metadata": {
        "id": "l55oJh9_kLHT"
      },
      "source": [
        "### 3.3 Train with train dataset"
      ]
    },
    {
      "cell_type": "code",
      "metadata": {
        "id": "VbO9ebD5kLHU"
      },
      "source": [
        "res = pd.DataFrame({'modelname':[None],'dataset':[None],'accuracy':[None], 'sensitivity':[None], 'specificity':[None]})\n",
        "y_pred_prob_train = classifier.predict_proba(X_train)[:,1]\n",
        "y_pred_train = classifier.predict(X_train)\n",
        "res = res.append(evalmodel(y_predicted=y_pred_train, y_pred_prob=y_pred_prob_train, y_actual=y_train, modelname='Logistic', dataset='Train'))"
      ],
      "execution_count": 106,
      "outputs": []
    },
    {
      "cell_type": "code",
      "metadata": {
        "scrolled": true,
        "colab": {
          "base_uri": "https://localhost:8080/",
          "height": 112
        },
        "id": "fiqU7Ir1kLHU",
        "outputId": "bc05e3db-7bfa-4323-840f-fd6362cfa4e1"
      },
      "source": [
        "res"
      ],
      "execution_count": 107,
      "outputs": [
        {
          "output_type": "execute_result",
          "data": {
            "text/html": [
              "<div>\n",
              "<style scoped>\n",
              "    .dataframe tbody tr th:only-of-type {\n",
              "        vertical-align: middle;\n",
              "    }\n",
              "\n",
              "    .dataframe tbody tr th {\n",
              "        vertical-align: top;\n",
              "    }\n",
              "\n",
              "    .dataframe thead th {\n",
              "        text-align: right;\n",
              "    }\n",
              "</style>\n",
              "<table border=\"1\" class=\"dataframe\">\n",
              "  <thead>\n",
              "    <tr style=\"text-align: right;\">\n",
              "      <th></th>\n",
              "      <th>modelname</th>\n",
              "      <th>dataset</th>\n",
              "      <th>accuracy</th>\n",
              "      <th>sensitivity</th>\n",
              "      <th>specificity</th>\n",
              "    </tr>\n",
              "  </thead>\n",
              "  <tbody>\n",
              "    <tr>\n",
              "      <th>0</th>\n",
              "      <td>None</td>\n",
              "      <td>None</td>\n",
              "      <td>NaN</td>\n",
              "      <td>NaN</td>\n",
              "      <td>NaN</td>\n",
              "    </tr>\n",
              "    <tr>\n",
              "      <th>0</th>\n",
              "      <td>Logistic</td>\n",
              "      <td>Train</td>\n",
              "      <td>0.634804</td>\n",
              "      <td>0.532967</td>\n",
              "      <td>0.716814</td>\n",
              "    </tr>\n",
              "  </tbody>\n",
              "</table>\n",
              "</div>"
            ],
            "text/plain": [
              "  modelname dataset  accuracy  sensitivity  specificity\n",
              "0      None    None       NaN          NaN          NaN\n",
              "0  Logistic   Train  0.634804     0.532967     0.716814"
            ]
          },
          "metadata": {
            "tags": []
          },
          "execution_count": 107
        }
      ]
    },
    {
      "cell_type": "markdown",
      "metadata": {
        "id": "DMDmIJ0-kLHV"
      },
      "source": [
        "### 3.4 Check model performance"
      ]
    },
    {
      "cell_type": "code",
      "metadata": {
        "id": "Ie8PEdCRkLHV"
      },
      "source": [
        "y_pred_prob_test = classifier.predict_proba(X_test)[:,1]\n",
        "y_pred_test = classifier.predict(X_test)\n",
        "res = res.append(evalmodel(y_predicted=y_pred_test, y_pred_prob=y_pred_prob_test, y_actual=y_test, modelname='Logistic', dataset='Test'))"
      ],
      "execution_count": 108,
      "outputs": []
    },
    {
      "cell_type": "code",
      "metadata": {
        "scrolled": true,
        "colab": {
          "base_uri": "https://localhost:8080/",
          "height": 144
        },
        "id": "lBDgEsIxkLHW",
        "outputId": "f6900038-c3f7-459c-e34d-9c46c2622a21"
      },
      "source": [
        "res"
      ],
      "execution_count": 109,
      "outputs": [
        {
          "output_type": "execute_result",
          "data": {
            "text/html": [
              "<div>\n",
              "<style scoped>\n",
              "    .dataframe tbody tr th:only-of-type {\n",
              "        vertical-align: middle;\n",
              "    }\n",
              "\n",
              "    .dataframe tbody tr th {\n",
              "        vertical-align: top;\n",
              "    }\n",
              "\n",
              "    .dataframe thead th {\n",
              "        text-align: right;\n",
              "    }\n",
              "</style>\n",
              "<table border=\"1\" class=\"dataframe\">\n",
              "  <thead>\n",
              "    <tr style=\"text-align: right;\">\n",
              "      <th></th>\n",
              "      <th>modelname</th>\n",
              "      <th>dataset</th>\n",
              "      <th>accuracy</th>\n",
              "      <th>sensitivity</th>\n",
              "      <th>specificity</th>\n",
              "    </tr>\n",
              "  </thead>\n",
              "  <tbody>\n",
              "    <tr>\n",
              "      <th>0</th>\n",
              "      <td>None</td>\n",
              "      <td>None</td>\n",
              "      <td>NaN</td>\n",
              "      <td>NaN</td>\n",
              "      <td>NaN</td>\n",
              "    </tr>\n",
              "    <tr>\n",
              "      <th>0</th>\n",
              "      <td>Logistic</td>\n",
              "      <td>Train</td>\n",
              "      <td>0.634804</td>\n",
              "      <td>0.532967</td>\n",
              "      <td>0.716814</td>\n",
              "    </tr>\n",
              "    <tr>\n",
              "      <th>0</th>\n",
              "      <td>Logistic</td>\n",
              "      <td>Test</td>\n",
              "      <td>0.650485</td>\n",
              "      <td>0.510638</td>\n",
              "      <td>0.767857</td>\n",
              "    </tr>\n",
              "  </tbody>\n",
              "</table>\n",
              "</div>"
            ],
            "text/plain": [
              "  modelname dataset  accuracy  sensitivity  specificity\n",
              "0      None    None       NaN          NaN          NaN\n",
              "0  Logistic   Train  0.634804     0.532967     0.716814\n",
              "0  Logistic    Test  0.650485     0.510638     0.767857"
            ]
          },
          "metadata": {
            "tags": []
          },
          "execution_count": 109
        }
      ]
    },
    {
      "cell_type": "code",
      "metadata": {
        "id": "JToV8IOvkLHX"
      },
      "source": [
        ""
      ],
      "execution_count": null,
      "outputs": []
    },
    {
      "cell_type": "code",
      "metadata": {
        "scrolled": true,
        "colab": {
          "base_uri": "https://localhost:8080/",
          "height": 144
        },
        "id": "O8ZMN5hSkLHX",
        "outputId": "4b9b92cc-ffc5-4948-a9b2-620efd34a6eb"
      },
      "source": [
        "res"
      ],
      "execution_count": 110,
      "outputs": [
        {
          "output_type": "execute_result",
          "data": {
            "text/html": [
              "<div>\n",
              "<style scoped>\n",
              "    .dataframe tbody tr th:only-of-type {\n",
              "        vertical-align: middle;\n",
              "    }\n",
              "\n",
              "    .dataframe tbody tr th {\n",
              "        vertical-align: top;\n",
              "    }\n",
              "\n",
              "    .dataframe thead th {\n",
              "        text-align: right;\n",
              "    }\n",
              "</style>\n",
              "<table border=\"1\" class=\"dataframe\">\n",
              "  <thead>\n",
              "    <tr style=\"text-align: right;\">\n",
              "      <th></th>\n",
              "      <th>modelname</th>\n",
              "      <th>dataset</th>\n",
              "      <th>accuracy</th>\n",
              "      <th>sensitivity</th>\n",
              "      <th>specificity</th>\n",
              "    </tr>\n",
              "  </thead>\n",
              "  <tbody>\n",
              "    <tr>\n",
              "      <th>0</th>\n",
              "      <td>None</td>\n",
              "      <td>None</td>\n",
              "      <td>NaN</td>\n",
              "      <td>NaN</td>\n",
              "      <td>NaN</td>\n",
              "    </tr>\n",
              "    <tr>\n",
              "      <th>0</th>\n",
              "      <td>Logistic</td>\n",
              "      <td>Train</td>\n",
              "      <td>0.634804</td>\n",
              "      <td>0.532967</td>\n",
              "      <td>0.716814</td>\n",
              "    </tr>\n",
              "    <tr>\n",
              "      <th>0</th>\n",
              "      <td>Logistic</td>\n",
              "      <td>Test</td>\n",
              "      <td>0.650485</td>\n",
              "      <td>0.510638</td>\n",
              "      <td>0.767857</td>\n",
              "    </tr>\n",
              "  </tbody>\n",
              "</table>\n",
              "</div>"
            ],
            "text/plain": [
              "  modelname dataset  accuracy  sensitivity  specificity\n",
              "0      None    None       NaN          NaN          NaN\n",
              "0  Logistic   Train  0.634804     0.532967     0.716814\n",
              "0  Logistic    Test  0.650485     0.510638     0.767857"
            ]
          },
          "metadata": {
            "tags": []
          },
          "execution_count": 110
        }
      ]
    },
    {
      "cell_type": "markdown",
      "metadata": {
        "id": "yEmcHgPSkLHY"
      },
      "source": [
        "## Decision tree"
      ]
    },
    {
      "cell_type": "code",
      "metadata": {
        "colab": {
          "base_uri": "https://localhost:8080/"
        },
        "id": "xllWRCSYkLHY",
        "outputId": "8ea64b53-1f54-49ed-8ab2-c1db465b99d0"
      },
      "source": [
        "from sklearn import tree\n",
        "classifier = tree.DecisionTreeClassifier()\n",
        "classifier.fit(X_train, y_train)"
      ],
      "execution_count": 111,
      "outputs": [
        {
          "output_type": "execute_result",
          "data": {
            "text/plain": [
              "DecisionTreeClassifier(ccp_alpha=0.0, class_weight=None, criterion='gini',\n",
              "                       max_depth=None, max_features=None, max_leaf_nodes=None,\n",
              "                       min_impurity_decrease=0.0, min_impurity_split=None,\n",
              "                       min_samples_leaf=1, min_samples_split=2,\n",
              "                       min_weight_fraction_leaf=0.0, presort='deprecated',\n",
              "                       random_state=None, splitter='best')"
            ]
          },
          "metadata": {
            "tags": []
          },
          "execution_count": 111
        }
      ]
    },
    {
      "cell_type": "code",
      "metadata": {
        "id": "1k4o51b6kLHZ"
      },
      "source": [
        "y_pred_prob_train = classifier.predict_proba(X_train)[:,1]\n",
        "y_pred_train = classifier.predict(X_train)\n",
        "res = res.append(evalmodel(y_predicted=y_pred_train, y_pred_prob=y_pred_prob_train, y_actual=y_train, modelname='Decision Tree', dataset='Train'))"
      ],
      "execution_count": 112,
      "outputs": []
    },
    {
      "cell_type": "code",
      "metadata": {
        "colab": {
          "base_uri": "https://localhost:8080/",
          "height": 175
        },
        "id": "YLCRv3zNkLHa",
        "outputId": "fa1370d9-496a-47b9-979d-88233de09bb3"
      },
      "source": [
        "res"
      ],
      "execution_count": 113,
      "outputs": [
        {
          "output_type": "execute_result",
          "data": {
            "text/html": [
              "<div>\n",
              "<style scoped>\n",
              "    .dataframe tbody tr th:only-of-type {\n",
              "        vertical-align: middle;\n",
              "    }\n",
              "\n",
              "    .dataframe tbody tr th {\n",
              "        vertical-align: top;\n",
              "    }\n",
              "\n",
              "    .dataframe thead th {\n",
              "        text-align: right;\n",
              "    }\n",
              "</style>\n",
              "<table border=\"1\" class=\"dataframe\">\n",
              "  <thead>\n",
              "    <tr style=\"text-align: right;\">\n",
              "      <th></th>\n",
              "      <th>modelname</th>\n",
              "      <th>dataset</th>\n",
              "      <th>accuracy</th>\n",
              "      <th>sensitivity</th>\n",
              "      <th>specificity</th>\n",
              "    </tr>\n",
              "  </thead>\n",
              "  <tbody>\n",
              "    <tr>\n",
              "      <th>0</th>\n",
              "      <td>None</td>\n",
              "      <td>None</td>\n",
              "      <td>NaN</td>\n",
              "      <td>NaN</td>\n",
              "      <td>NaN</td>\n",
              "    </tr>\n",
              "    <tr>\n",
              "      <th>0</th>\n",
              "      <td>Logistic</td>\n",
              "      <td>Train</td>\n",
              "      <td>0.634804</td>\n",
              "      <td>0.532967</td>\n",
              "      <td>0.716814</td>\n",
              "    </tr>\n",
              "    <tr>\n",
              "      <th>0</th>\n",
              "      <td>Logistic</td>\n",
              "      <td>Test</td>\n",
              "      <td>0.650485</td>\n",
              "      <td>0.510638</td>\n",
              "      <td>0.767857</td>\n",
              "    </tr>\n",
              "    <tr>\n",
              "      <th>0</th>\n",
              "      <td>Decision Tree</td>\n",
              "      <td>Train</td>\n",
              "      <td>0.975490</td>\n",
              "      <td>0.950549</td>\n",
              "      <td>0.995575</td>\n",
              "    </tr>\n",
              "  </tbody>\n",
              "</table>\n",
              "</div>"
            ],
            "text/plain": [
              "       modelname dataset  accuracy  sensitivity  specificity\n",
              "0           None    None       NaN          NaN          NaN\n",
              "0       Logistic   Train  0.634804     0.532967     0.716814\n",
              "0       Logistic    Test  0.650485     0.510638     0.767857\n",
              "0  Decision Tree   Train  0.975490     0.950549     0.995575"
            ]
          },
          "metadata": {
            "tags": []
          },
          "execution_count": 113
        }
      ]
    },
    {
      "cell_type": "code",
      "metadata": {
        "id": "EwgG_WLYkLHa"
      },
      "source": [
        "y_pred_prob_test = classifier.predict_proba(X_test)[:,1]\n",
        "y_pred_test = classifier.predict(X_test)\n",
        "res = res.append(evalmodel(y_predicted=y_pred_test, y_pred_prob=y_pred_prob_test, y_actual=y_test, modelname='Decision Tree', dataset='Test'))"
      ],
      "execution_count": 114,
      "outputs": []
    },
    {
      "cell_type": "code",
      "metadata": {
        "scrolled": true,
        "colab": {
          "base_uri": "https://localhost:8080/",
          "height": 206
        },
        "id": "BiEtWkQUkLHb",
        "outputId": "d56ce4e4-acfe-4875-d6ea-431fbd4d86fd"
      },
      "source": [
        "res"
      ],
      "execution_count": 115,
      "outputs": [
        {
          "output_type": "execute_result",
          "data": {
            "text/html": [
              "<div>\n",
              "<style scoped>\n",
              "    .dataframe tbody tr th:only-of-type {\n",
              "        vertical-align: middle;\n",
              "    }\n",
              "\n",
              "    .dataframe tbody tr th {\n",
              "        vertical-align: top;\n",
              "    }\n",
              "\n",
              "    .dataframe thead th {\n",
              "        text-align: right;\n",
              "    }\n",
              "</style>\n",
              "<table border=\"1\" class=\"dataframe\">\n",
              "  <thead>\n",
              "    <tr style=\"text-align: right;\">\n",
              "      <th></th>\n",
              "      <th>modelname</th>\n",
              "      <th>dataset</th>\n",
              "      <th>accuracy</th>\n",
              "      <th>sensitivity</th>\n",
              "      <th>specificity</th>\n",
              "    </tr>\n",
              "  </thead>\n",
              "  <tbody>\n",
              "    <tr>\n",
              "      <th>0</th>\n",
              "      <td>None</td>\n",
              "      <td>None</td>\n",
              "      <td>NaN</td>\n",
              "      <td>NaN</td>\n",
              "      <td>NaN</td>\n",
              "    </tr>\n",
              "    <tr>\n",
              "      <th>0</th>\n",
              "      <td>Logistic</td>\n",
              "      <td>Train</td>\n",
              "      <td>0.634804</td>\n",
              "      <td>0.532967</td>\n",
              "      <td>0.716814</td>\n",
              "    </tr>\n",
              "    <tr>\n",
              "      <th>0</th>\n",
              "      <td>Logistic</td>\n",
              "      <td>Test</td>\n",
              "      <td>0.650485</td>\n",
              "      <td>0.510638</td>\n",
              "      <td>0.767857</td>\n",
              "    </tr>\n",
              "    <tr>\n",
              "      <th>0</th>\n",
              "      <td>Decision Tree</td>\n",
              "      <td>Train</td>\n",
              "      <td>0.975490</td>\n",
              "      <td>0.950549</td>\n",
              "      <td>0.995575</td>\n",
              "    </tr>\n",
              "    <tr>\n",
              "      <th>0</th>\n",
              "      <td>Decision Tree</td>\n",
              "      <td>Test</td>\n",
              "      <td>0.582524</td>\n",
              "      <td>0.510638</td>\n",
              "      <td>0.642857</td>\n",
              "    </tr>\n",
              "  </tbody>\n",
              "</table>\n",
              "</div>"
            ],
            "text/plain": [
              "       modelname dataset  accuracy  sensitivity  specificity\n",
              "0           None    None       NaN          NaN          NaN\n",
              "0       Logistic   Train  0.634804     0.532967     0.716814\n",
              "0       Logistic    Test  0.650485     0.510638     0.767857\n",
              "0  Decision Tree   Train  0.975490     0.950549     0.995575\n",
              "0  Decision Tree    Test  0.582524     0.510638     0.642857"
            ]
          },
          "metadata": {
            "tags": []
          },
          "execution_count": 115
        }
      ]
    },
    {
      "cell_type": "markdown",
      "metadata": {
        "id": "rdwBLxICkLHc"
      },
      "source": [
        "## Random Forest"
      ]
    },
    {
      "cell_type": "code",
      "metadata": {
        "colab": {
          "base_uri": "https://localhost:8080/"
        },
        "id": "lf-ndfynkLHc",
        "outputId": "d14d7136-a648-45d9-975c-172633c2dc0e"
      },
      "source": [
        "#Random forest\n",
        "from sklearn.ensemble import RandomForestClassifier\n",
        "classifier = RandomForestClassifier()\n",
        "classifier.fit(X_train, y_train)"
      ],
      "execution_count": 116,
      "outputs": [
        {
          "output_type": "execute_result",
          "data": {
            "text/plain": [
              "RandomForestClassifier(bootstrap=True, ccp_alpha=0.0, class_weight=None,\n",
              "                       criterion='gini', max_depth=None, max_features='auto',\n",
              "                       max_leaf_nodes=None, max_samples=None,\n",
              "                       min_impurity_decrease=0.0, min_impurity_split=None,\n",
              "                       min_samples_leaf=1, min_samples_split=2,\n",
              "                       min_weight_fraction_leaf=0.0, n_estimators=100,\n",
              "                       n_jobs=None, oob_score=False, random_state=None,\n",
              "                       verbose=0, warm_start=False)"
            ]
          },
          "metadata": {
            "tags": []
          },
          "execution_count": 116
        }
      ]
    },
    {
      "cell_type": "code",
      "metadata": {
        "id": "9A6BZ1VfkLHd"
      },
      "source": [
        "y_pred_prob_train = classifier.predict_proba(X_train)[:,1]\n",
        "y_pred_train = classifier.predict(X_train)\n",
        "res = res.append(evalmodel(y_predicted=y_pred_train, y_pred_prob=y_pred_prob_train, y_actual=y_train, modelname='Random Forest', dataset='Train'))"
      ],
      "execution_count": 117,
      "outputs": []
    },
    {
      "cell_type": "code",
      "metadata": {
        "scrolled": true,
        "colab": {
          "base_uri": "https://localhost:8080/",
          "height": 238
        },
        "id": "dIKpUBx3kLHd",
        "outputId": "26228220-e5bb-40eb-e6f4-440107ca5afa"
      },
      "source": [
        "res"
      ],
      "execution_count": 118,
      "outputs": [
        {
          "output_type": "execute_result",
          "data": {
            "text/html": [
              "<div>\n",
              "<style scoped>\n",
              "    .dataframe tbody tr th:only-of-type {\n",
              "        vertical-align: middle;\n",
              "    }\n",
              "\n",
              "    .dataframe tbody tr th {\n",
              "        vertical-align: top;\n",
              "    }\n",
              "\n",
              "    .dataframe thead th {\n",
              "        text-align: right;\n",
              "    }\n",
              "</style>\n",
              "<table border=\"1\" class=\"dataframe\">\n",
              "  <thead>\n",
              "    <tr style=\"text-align: right;\">\n",
              "      <th></th>\n",
              "      <th>modelname</th>\n",
              "      <th>dataset</th>\n",
              "      <th>accuracy</th>\n",
              "      <th>sensitivity</th>\n",
              "      <th>specificity</th>\n",
              "    </tr>\n",
              "  </thead>\n",
              "  <tbody>\n",
              "    <tr>\n",
              "      <th>0</th>\n",
              "      <td>None</td>\n",
              "      <td>None</td>\n",
              "      <td>NaN</td>\n",
              "      <td>NaN</td>\n",
              "      <td>NaN</td>\n",
              "    </tr>\n",
              "    <tr>\n",
              "      <th>0</th>\n",
              "      <td>Logistic</td>\n",
              "      <td>Train</td>\n",
              "      <td>0.634804</td>\n",
              "      <td>0.532967</td>\n",
              "      <td>0.716814</td>\n",
              "    </tr>\n",
              "    <tr>\n",
              "      <th>0</th>\n",
              "      <td>Logistic</td>\n",
              "      <td>Test</td>\n",
              "      <td>0.650485</td>\n",
              "      <td>0.510638</td>\n",
              "      <td>0.767857</td>\n",
              "    </tr>\n",
              "    <tr>\n",
              "      <th>0</th>\n",
              "      <td>Decision Tree</td>\n",
              "      <td>Train</td>\n",
              "      <td>0.975490</td>\n",
              "      <td>0.950549</td>\n",
              "      <td>0.995575</td>\n",
              "    </tr>\n",
              "    <tr>\n",
              "      <th>0</th>\n",
              "      <td>Decision Tree</td>\n",
              "      <td>Test</td>\n",
              "      <td>0.582524</td>\n",
              "      <td>0.510638</td>\n",
              "      <td>0.642857</td>\n",
              "    </tr>\n",
              "    <tr>\n",
              "      <th>0</th>\n",
              "      <td>Random Forest</td>\n",
              "      <td>Train</td>\n",
              "      <td>0.975490</td>\n",
              "      <td>0.972527</td>\n",
              "      <td>0.977876</td>\n",
              "    </tr>\n",
              "  </tbody>\n",
              "</table>\n",
              "</div>"
            ],
            "text/plain": [
              "       modelname dataset  accuracy  sensitivity  specificity\n",
              "0           None    None       NaN          NaN          NaN\n",
              "0       Logistic   Train  0.634804     0.532967     0.716814\n",
              "0       Logistic    Test  0.650485     0.510638     0.767857\n",
              "0  Decision Tree   Train  0.975490     0.950549     0.995575\n",
              "0  Decision Tree    Test  0.582524     0.510638     0.642857\n",
              "0  Random Forest   Train  0.975490     0.972527     0.977876"
            ]
          },
          "metadata": {
            "tags": []
          },
          "execution_count": 118
        }
      ]
    },
    {
      "cell_type": "code",
      "metadata": {
        "id": "cWx-3PEQkLHf"
      },
      "source": [
        "y_pred_prob_test = classifier.predict_proba(X_test)[:,1]\n",
        "y_pred_test = classifier.predict(X_test)\n",
        "res = res.append(evalmodel(y_predicted=y_pred_test, y_pred_prob=y_pred_prob_test, y_actual=y_test, modelname='Random Forest', dataset='Test'))"
      ],
      "execution_count": 120,
      "outputs": []
    },
    {
      "cell_type": "code",
      "metadata": {
        "scrolled": false,
        "colab": {
          "base_uri": "https://localhost:8080/"
        },
        "id": "AGKi7IPWkLHf",
        "outputId": "64b8efab-956c-443b-e258-12fb3c533318"
      },
      "source": [
        "classifier.predict(X_test)"
      ],
      "execution_count": 121,
      "outputs": [
        {
          "output_type": "execute_result",
          "data": {
            "text/plain": [
              "array([0, 1, 1, 0, 0, 1, 1, 0, 0, 0, 0, 1, 1, 0, 0, 0, 0, 1, 0, 0, 0, 1,\n",
              "       1, 0, 0, 1, 0, 0, 0, 1, 0, 0, 0, 0, 0, 1, 0, 1, 1, 1, 0, 1, 0, 1,\n",
              "       0, 0, 1, 0, 0, 0, 0, 0, 0, 1, 0, 1, 0, 1, 1, 0, 0, 0, 1, 0, 0, 1,\n",
              "       0, 1, 1, 0, 1, 1, 0, 1, 0, 0, 0, 0, 1, 1, 0, 0, 0, 0, 0, 1, 1, 0,\n",
              "       0, 0, 0, 1, 0, 1, 0, 0, 1, 1, 1, 0, 1, 0, 0])"
            ]
          },
          "metadata": {
            "tags": []
          },
          "execution_count": 121
        }
      ]
    },
    {
      "cell_type": "code",
      "metadata": {
        "colab": {
          "base_uri": "https://localhost:8080/"
        },
        "id": "bv-i62obkLHg",
        "outputId": "8f3414ed-4e37-4216-d7c8-1958abf53501"
      },
      "source": [
        "classifier.predict_proba(X_test)"
      ],
      "execution_count": 122,
      "outputs": [
        {
          "output_type": "execute_result",
          "data": {
            "text/plain": [
              "array([[0.77492352, 0.22507648],\n",
              "       [0.21833333, 0.78166667],\n",
              "       [0.44      , 0.56      ],\n",
              "       [0.79      , 0.21      ],\n",
              "       [0.575     , 0.425     ],\n",
              "       [0.19      , 0.81      ],\n",
              "       [0.06      , 0.94      ],\n",
              "       [0.56      , 0.44      ],\n",
              "       [0.77      , 0.23      ],\n",
              "       [0.83333333, 0.16666667],\n",
              "       [0.79      , 0.21      ],\n",
              "       [0.27      , 0.73      ],\n",
              "       [0.27433333, 0.72566667],\n",
              "       [0.635     , 0.365     ],\n",
              "       [0.63521429, 0.36478571],\n",
              "       [0.585     , 0.415     ],\n",
              "       [0.57      , 0.43      ],\n",
              "       [0.23      , 0.77      ],\n",
              "       [0.575     , 0.425     ],\n",
              "       [0.91      , 0.09      ],\n",
              "       [0.78      , 0.22      ],\n",
              "       [0.47816667, 0.52183333],\n",
              "       [0.31      , 0.69      ],\n",
              "       [0.50416667, 0.49583333],\n",
              "       [0.94      , 0.06      ],\n",
              "       [0.24738095, 0.75261905],\n",
              "       [0.675     , 0.325     ],\n",
              "       [0.65583333, 0.34416667],\n",
              "       [0.84      , 0.16      ],\n",
              "       [0.22      , 0.78      ],\n",
              "       [0.63      , 0.37      ],\n",
              "       [0.58483333, 0.41516667],\n",
              "       [0.62      , 0.38      ],\n",
              "       [0.79      , 0.21      ],\n",
              "       [0.71333333, 0.28666667],\n",
              "       [0.48      , 0.52      ],\n",
              "       [0.79      , 0.21      ],\n",
              "       [0.16      , 0.84      ],\n",
              "       [0.24541667, 0.75458333],\n",
              "       [0.105     , 0.895     ],\n",
              "       [0.62      , 0.38      ],\n",
              "       [0.        , 1.        ],\n",
              "       [0.94      , 0.06      ],\n",
              "       [0.47      , 0.53      ],\n",
              "       [0.5       , 0.5       ],\n",
              "       [0.93      , 0.07      ],\n",
              "       [0.325     , 0.675     ],\n",
              "       [0.52666667, 0.47333333],\n",
              "       [0.75      , 0.25      ],\n",
              "       [0.84      , 0.16      ],\n",
              "       [0.7025    , 0.2975    ],\n",
              "       [0.52      , 0.48      ],\n",
              "       [0.75      , 0.25      ],\n",
              "       [0.49      , 0.51      ],\n",
              "       [0.58      , 0.42      ],\n",
              "       [0.26      , 0.74      ],\n",
              "       [0.6062381 , 0.3937619 ],\n",
              "       [0.2       , 0.8       ],\n",
              "       [0.29666667, 0.70333333],\n",
              "       [0.73666667, 0.26333333],\n",
              "       [0.50333333, 0.49666667],\n",
              "       [0.5575    , 0.4425    ],\n",
              "       [0.07666667, 0.92333333],\n",
              "       [0.61      , 0.39      ],\n",
              "       [0.72      , 0.28      ],\n",
              "       [0.45      , 0.55      ],\n",
              "       [0.84      , 0.16      ],\n",
              "       [0.30428571, 0.69571429],\n",
              "       [0.1525    , 0.8475    ],\n",
              "       [0.88      , 0.12      ],\n",
              "       [0.39      , 0.61      ],\n",
              "       [0.48      , 0.52      ],\n",
              "       [0.67      , 0.33      ],\n",
              "       [0.395     , 0.605     ],\n",
              "       [0.75      , 0.25      ],\n",
              "       [0.55      , 0.45      ],\n",
              "       [0.81333333, 0.18666667],\n",
              "       [0.64      , 0.36      ],\n",
              "       [0.09      , 0.91      ],\n",
              "       [0.13      , 0.87      ],\n",
              "       [0.761     , 0.239     ],\n",
              "       [0.54390873, 0.45609127],\n",
              "       [0.59      , 0.41      ],\n",
              "       [0.82      , 0.18      ],\n",
              "       [0.75      , 0.25      ],\n",
              "       [0.38333333, 0.61666667],\n",
              "       [0.246     , 0.754     ],\n",
              "       [0.64      , 0.36      ],\n",
              "       [0.95      , 0.05      ],\n",
              "       [0.58483333, 0.41516667],\n",
              "       [0.5725    , 0.4275    ],\n",
              "       [0.47816667, 0.52183333],\n",
              "       [0.72833333, 0.27166667],\n",
              "       [0.45216667, 0.54783333],\n",
              "       [0.56      , 0.44      ],\n",
              "       [0.6       , 0.4       ],\n",
              "       [0.47816667, 0.52183333],\n",
              "       [0.28666667, 0.71333333],\n",
              "       [0.3       , 0.7       ],\n",
              "       [0.74      , 0.26      ],\n",
              "       [0.35833333, 0.64166667],\n",
              "       [0.84      , 0.16      ],\n",
              "       [0.95      , 0.05      ]])"
            ]
          },
          "metadata": {
            "tags": []
          },
          "execution_count": 122
        }
      ]
    },
    {
      "cell_type": "code",
      "metadata": {
        "colab": {
          "base_uri": "https://localhost:8080/",
          "height": 300
        },
        "id": "NqMJazTDkLHh",
        "outputId": "41bc0521-e2e8-457c-fd26-664182a8a082"
      },
      "source": [
        "res"
      ],
      "execution_count": 123,
      "outputs": [
        {
          "output_type": "execute_result",
          "data": {
            "text/html": [
              "<div>\n",
              "<style scoped>\n",
              "    .dataframe tbody tr th:only-of-type {\n",
              "        vertical-align: middle;\n",
              "    }\n",
              "\n",
              "    .dataframe tbody tr th {\n",
              "        vertical-align: top;\n",
              "    }\n",
              "\n",
              "    .dataframe thead th {\n",
              "        text-align: right;\n",
              "    }\n",
              "</style>\n",
              "<table border=\"1\" class=\"dataframe\">\n",
              "  <thead>\n",
              "    <tr style=\"text-align: right;\">\n",
              "      <th></th>\n",
              "      <th>modelname</th>\n",
              "      <th>dataset</th>\n",
              "      <th>accuracy</th>\n",
              "      <th>sensitivity</th>\n",
              "      <th>specificity</th>\n",
              "    </tr>\n",
              "  </thead>\n",
              "  <tbody>\n",
              "    <tr>\n",
              "      <th>0</th>\n",
              "      <td>None</td>\n",
              "      <td>None</td>\n",
              "      <td>NaN</td>\n",
              "      <td>NaN</td>\n",
              "      <td>NaN</td>\n",
              "    </tr>\n",
              "    <tr>\n",
              "      <th>0</th>\n",
              "      <td>Logistic</td>\n",
              "      <td>Train</td>\n",
              "      <td>0.634804</td>\n",
              "      <td>0.532967</td>\n",
              "      <td>0.716814</td>\n",
              "    </tr>\n",
              "    <tr>\n",
              "      <th>0</th>\n",
              "      <td>Logistic</td>\n",
              "      <td>Test</td>\n",
              "      <td>0.650485</td>\n",
              "      <td>0.510638</td>\n",
              "      <td>0.767857</td>\n",
              "    </tr>\n",
              "    <tr>\n",
              "      <th>0</th>\n",
              "      <td>Decision Tree</td>\n",
              "      <td>Train</td>\n",
              "      <td>0.975490</td>\n",
              "      <td>0.950549</td>\n",
              "      <td>0.995575</td>\n",
              "    </tr>\n",
              "    <tr>\n",
              "      <th>0</th>\n",
              "      <td>Decision Tree</td>\n",
              "      <td>Test</td>\n",
              "      <td>0.582524</td>\n",
              "      <td>0.510638</td>\n",
              "      <td>0.642857</td>\n",
              "    </tr>\n",
              "    <tr>\n",
              "      <th>0</th>\n",
              "      <td>Random Forest</td>\n",
              "      <td>Train</td>\n",
              "      <td>0.975490</td>\n",
              "      <td>0.972527</td>\n",
              "      <td>0.977876</td>\n",
              "    </tr>\n",
              "    <tr>\n",
              "      <th>0</th>\n",
              "      <td>Random Forest</td>\n",
              "      <td>Test</td>\n",
              "      <td>0.592233</td>\n",
              "      <td>0.468085</td>\n",
              "      <td>0.696429</td>\n",
              "    </tr>\n",
              "    <tr>\n",
              "      <th>0</th>\n",
              "      <td>Random Forest</td>\n",
              "      <td>Test</td>\n",
              "      <td>0.592233</td>\n",
              "      <td>0.468085</td>\n",
              "      <td>0.696429</td>\n",
              "    </tr>\n",
              "  </tbody>\n",
              "</table>\n",
              "</div>"
            ],
            "text/plain": [
              "       modelname dataset  accuracy  sensitivity  specificity\n",
              "0           None    None       NaN          NaN          NaN\n",
              "0       Logistic   Train  0.634804     0.532967     0.716814\n",
              "0       Logistic    Test  0.650485     0.510638     0.767857\n",
              "0  Decision Tree   Train  0.975490     0.950549     0.995575\n",
              "0  Decision Tree    Test  0.582524     0.510638     0.642857\n",
              "0  Random Forest   Train  0.975490     0.972527     0.977876\n",
              "0  Random Forest    Test  0.592233     0.468085     0.696429\n",
              "0  Random Forest    Test  0.592233     0.468085     0.696429"
            ]
          },
          "metadata": {
            "tags": []
          },
          "execution_count": 123
        }
      ]
    },
    {
      "cell_type": "code",
      "metadata": {
        "colab": {
          "base_uri": "https://localhost:8080/"
        },
        "id": "CcWzLHT3kLHh",
        "outputId": "268fe432-781a-473e-983a-41193831544f"
      },
      "source": [
        "from sklearn.neural_network import MLPClassifier\n",
        "classifier = MLPClassifier(hidden_layer_sizes=(3,3))\n",
        "classifier.fit(X_train, y_train)"
      ],
      "execution_count": 124,
      "outputs": [
        {
          "output_type": "execute_result",
          "data": {
            "text/plain": [
              "MLPClassifier(activation='relu', alpha=0.0001, batch_size='auto', beta_1=0.9,\n",
              "              beta_2=0.999, early_stopping=False, epsilon=1e-08,\n",
              "              hidden_layer_sizes=(3, 3), learning_rate='constant',\n",
              "              learning_rate_init=0.001, max_fun=15000, max_iter=200,\n",
              "              momentum=0.9, n_iter_no_change=10, nesterovs_momentum=True,\n",
              "              power_t=0.5, random_state=None, shuffle=True, solver='adam',\n",
              "              tol=0.0001, validation_fraction=0.1, verbose=False,\n",
              "              warm_start=False)"
            ]
          },
          "metadata": {
            "tags": []
          },
          "execution_count": 124
        }
      ]
    },
    {
      "cell_type": "code",
      "metadata": {
        "id": "CfJi9l_ikLHi"
      },
      "source": [
        "y_pred_prob_train = classifier.predict_proba(X_train)[:,1]\n",
        "y_pred_train = classifier.predict(X_train)\n",
        "res = res.append(evalmodel(y_predicted=y_pred_train, y_pred_prob=y_pred_prob_train, y_actual=y_train, modelname='ANN', dataset='Train'))"
      ],
      "execution_count": 125,
      "outputs": []
    },
    {
      "cell_type": "code",
      "metadata": {
        "colab": {
          "base_uri": "https://localhost:8080/",
          "height": 332
        },
        "id": "_dlPMb-VkLHi",
        "outputId": "5c9bf783-721f-41b4-986d-a0a68f0ec457"
      },
      "source": [
        "res"
      ],
      "execution_count": 126,
      "outputs": [
        {
          "output_type": "execute_result",
          "data": {
            "text/html": [
              "<div>\n",
              "<style scoped>\n",
              "    .dataframe tbody tr th:only-of-type {\n",
              "        vertical-align: middle;\n",
              "    }\n",
              "\n",
              "    .dataframe tbody tr th {\n",
              "        vertical-align: top;\n",
              "    }\n",
              "\n",
              "    .dataframe thead th {\n",
              "        text-align: right;\n",
              "    }\n",
              "</style>\n",
              "<table border=\"1\" class=\"dataframe\">\n",
              "  <thead>\n",
              "    <tr style=\"text-align: right;\">\n",
              "      <th></th>\n",
              "      <th>modelname</th>\n",
              "      <th>dataset</th>\n",
              "      <th>accuracy</th>\n",
              "      <th>sensitivity</th>\n",
              "      <th>specificity</th>\n",
              "    </tr>\n",
              "  </thead>\n",
              "  <tbody>\n",
              "    <tr>\n",
              "      <th>0</th>\n",
              "      <td>None</td>\n",
              "      <td>None</td>\n",
              "      <td>NaN</td>\n",
              "      <td>NaN</td>\n",
              "      <td>NaN</td>\n",
              "    </tr>\n",
              "    <tr>\n",
              "      <th>0</th>\n",
              "      <td>Logistic</td>\n",
              "      <td>Train</td>\n",
              "      <td>0.634804</td>\n",
              "      <td>0.532967</td>\n",
              "      <td>0.716814</td>\n",
              "    </tr>\n",
              "    <tr>\n",
              "      <th>0</th>\n",
              "      <td>Logistic</td>\n",
              "      <td>Test</td>\n",
              "      <td>0.650485</td>\n",
              "      <td>0.510638</td>\n",
              "      <td>0.767857</td>\n",
              "    </tr>\n",
              "    <tr>\n",
              "      <th>0</th>\n",
              "      <td>Decision Tree</td>\n",
              "      <td>Train</td>\n",
              "      <td>0.975490</td>\n",
              "      <td>0.950549</td>\n",
              "      <td>0.995575</td>\n",
              "    </tr>\n",
              "    <tr>\n",
              "      <th>0</th>\n",
              "      <td>Decision Tree</td>\n",
              "      <td>Test</td>\n",
              "      <td>0.582524</td>\n",
              "      <td>0.510638</td>\n",
              "      <td>0.642857</td>\n",
              "    </tr>\n",
              "    <tr>\n",
              "      <th>0</th>\n",
              "      <td>Random Forest</td>\n",
              "      <td>Train</td>\n",
              "      <td>0.975490</td>\n",
              "      <td>0.972527</td>\n",
              "      <td>0.977876</td>\n",
              "    </tr>\n",
              "    <tr>\n",
              "      <th>0</th>\n",
              "      <td>Random Forest</td>\n",
              "      <td>Test</td>\n",
              "      <td>0.592233</td>\n",
              "      <td>0.468085</td>\n",
              "      <td>0.696429</td>\n",
              "    </tr>\n",
              "    <tr>\n",
              "      <th>0</th>\n",
              "      <td>Random Forest</td>\n",
              "      <td>Test</td>\n",
              "      <td>0.592233</td>\n",
              "      <td>0.468085</td>\n",
              "      <td>0.696429</td>\n",
              "    </tr>\n",
              "    <tr>\n",
              "      <th>0</th>\n",
              "      <td>ANN</td>\n",
              "      <td>Train</td>\n",
              "      <td>0.551471</td>\n",
              "      <td>0.027473</td>\n",
              "      <td>0.973451</td>\n",
              "    </tr>\n",
              "  </tbody>\n",
              "</table>\n",
              "</div>"
            ],
            "text/plain": [
              "       modelname dataset  accuracy  sensitivity  specificity\n",
              "0           None    None       NaN          NaN          NaN\n",
              "0       Logistic   Train  0.634804     0.532967     0.716814\n",
              "0       Logistic    Test  0.650485     0.510638     0.767857\n",
              "0  Decision Tree   Train  0.975490     0.950549     0.995575\n",
              "0  Decision Tree    Test  0.582524     0.510638     0.642857\n",
              "0  Random Forest   Train  0.975490     0.972527     0.977876\n",
              "0  Random Forest    Test  0.592233     0.468085     0.696429\n",
              "0  Random Forest    Test  0.592233     0.468085     0.696429\n",
              "0            ANN   Train  0.551471     0.027473     0.973451"
            ]
          },
          "metadata": {
            "tags": []
          },
          "execution_count": 126
        }
      ]
    },
    {
      "cell_type": "code",
      "metadata": {
        "id": "3IsCq3sJkLHj"
      },
      "source": [
        "y_pred_prob_test = classifier.predict_proba(X_test)[:,1]\n",
        "y_pred_test = classifier.predict(X_test)\n",
        "res = res.append(evalmodel(y_predicted=y_pred_test, y_pred_prob=y_pred_prob_test, y_actual=y_test, modelname='ANN', dataset='Test'))"
      ],
      "execution_count": 127,
      "outputs": []
    },
    {
      "cell_type": "code",
      "metadata": {
        "scrolled": true,
        "colab": {
          "base_uri": "https://localhost:8080/",
          "height": 363
        },
        "id": "KR0hfU4TkLHk",
        "outputId": "bc5cf319-096f-48f9-da8c-f2c4f72dc700"
      },
      "source": [
        "res"
      ],
      "execution_count": 128,
      "outputs": [
        {
          "output_type": "execute_result",
          "data": {
            "text/html": [
              "<div>\n",
              "<style scoped>\n",
              "    .dataframe tbody tr th:only-of-type {\n",
              "        vertical-align: middle;\n",
              "    }\n",
              "\n",
              "    .dataframe tbody tr th {\n",
              "        vertical-align: top;\n",
              "    }\n",
              "\n",
              "    .dataframe thead th {\n",
              "        text-align: right;\n",
              "    }\n",
              "</style>\n",
              "<table border=\"1\" class=\"dataframe\">\n",
              "  <thead>\n",
              "    <tr style=\"text-align: right;\">\n",
              "      <th></th>\n",
              "      <th>modelname</th>\n",
              "      <th>dataset</th>\n",
              "      <th>accuracy</th>\n",
              "      <th>sensitivity</th>\n",
              "      <th>specificity</th>\n",
              "    </tr>\n",
              "  </thead>\n",
              "  <tbody>\n",
              "    <tr>\n",
              "      <th>0</th>\n",
              "      <td>None</td>\n",
              "      <td>None</td>\n",
              "      <td>NaN</td>\n",
              "      <td>NaN</td>\n",
              "      <td>NaN</td>\n",
              "    </tr>\n",
              "    <tr>\n",
              "      <th>0</th>\n",
              "      <td>Logistic</td>\n",
              "      <td>Train</td>\n",
              "      <td>0.634804</td>\n",
              "      <td>0.532967</td>\n",
              "      <td>0.716814</td>\n",
              "    </tr>\n",
              "    <tr>\n",
              "      <th>0</th>\n",
              "      <td>Logistic</td>\n",
              "      <td>Test</td>\n",
              "      <td>0.650485</td>\n",
              "      <td>0.510638</td>\n",
              "      <td>0.767857</td>\n",
              "    </tr>\n",
              "    <tr>\n",
              "      <th>0</th>\n",
              "      <td>Decision Tree</td>\n",
              "      <td>Train</td>\n",
              "      <td>0.975490</td>\n",
              "      <td>0.950549</td>\n",
              "      <td>0.995575</td>\n",
              "    </tr>\n",
              "    <tr>\n",
              "      <th>0</th>\n",
              "      <td>Decision Tree</td>\n",
              "      <td>Test</td>\n",
              "      <td>0.582524</td>\n",
              "      <td>0.510638</td>\n",
              "      <td>0.642857</td>\n",
              "    </tr>\n",
              "    <tr>\n",
              "      <th>0</th>\n",
              "      <td>Random Forest</td>\n",
              "      <td>Train</td>\n",
              "      <td>0.975490</td>\n",
              "      <td>0.972527</td>\n",
              "      <td>0.977876</td>\n",
              "    </tr>\n",
              "    <tr>\n",
              "      <th>0</th>\n",
              "      <td>Random Forest</td>\n",
              "      <td>Test</td>\n",
              "      <td>0.592233</td>\n",
              "      <td>0.468085</td>\n",
              "      <td>0.696429</td>\n",
              "    </tr>\n",
              "    <tr>\n",
              "      <th>0</th>\n",
              "      <td>Random Forest</td>\n",
              "      <td>Test</td>\n",
              "      <td>0.592233</td>\n",
              "      <td>0.468085</td>\n",
              "      <td>0.696429</td>\n",
              "    </tr>\n",
              "    <tr>\n",
              "      <th>0</th>\n",
              "      <td>ANN</td>\n",
              "      <td>Train</td>\n",
              "      <td>0.551471</td>\n",
              "      <td>0.027473</td>\n",
              "      <td>0.973451</td>\n",
              "    </tr>\n",
              "    <tr>\n",
              "      <th>0</th>\n",
              "      <td>ANN</td>\n",
              "      <td>Test</td>\n",
              "      <td>0.563107</td>\n",
              "      <td>0.042553</td>\n",
              "      <td>1.000000</td>\n",
              "    </tr>\n",
              "  </tbody>\n",
              "</table>\n",
              "</div>"
            ],
            "text/plain": [
              "       modelname dataset  accuracy  sensitivity  specificity\n",
              "0           None    None       NaN          NaN          NaN\n",
              "0       Logistic   Train  0.634804     0.532967     0.716814\n",
              "0       Logistic    Test  0.650485     0.510638     0.767857\n",
              "0  Decision Tree   Train  0.975490     0.950549     0.995575\n",
              "0  Decision Tree    Test  0.582524     0.510638     0.642857\n",
              "0  Random Forest   Train  0.975490     0.972527     0.977876\n",
              "0  Random Forest    Test  0.592233     0.468085     0.696429\n",
              "0  Random Forest    Test  0.592233     0.468085     0.696429\n",
              "0            ANN   Train  0.551471     0.027473     0.973451\n",
              "0            ANN    Test  0.563107     0.042553     1.000000"
            ]
          },
          "metadata": {
            "tags": []
          },
          "execution_count": 128
        }
      ]
    },
    {
      "cell_type": "markdown",
      "metadata": {
        "id": "yt-qIfXWkLHk"
      },
      "source": [
        "## Deal with Imbalanced Data"
      ]
    },
    {
      "cell_type": "code",
      "metadata": {
        "colab": {
          "base_uri": "https://localhost:8080/"
        },
        "id": "hIfnIVo8kLHl",
        "outputId": "ab044e0f-5e24-4a57-a7d9-8555f9267329"
      },
      "source": [
        "targets.value_counts()"
      ],
      "execution_count": 129,
      "outputs": [
        {
          "output_type": "execute_result",
          "data": {
            "text/plain": [
              "0    282\n",
              "1    229\n",
              "Name: FV, dtype: int64"
            ]
          },
          "metadata": {
            "tags": []
          },
          "execution_count": 129
        }
      ]
    },
    {
      "cell_type": "code",
      "metadata": {
        "colab": {
          "base_uri": "https://localhost:8080/"
        },
        "id": "uMp-KPFBkLHl",
        "outputId": "b3708b5c-993b-4eea-ae2b-d812d2d83215"
      },
      "source": [
        "from imblearn.over_sampling import RandomOverSampler\n",
        "ros = RandomOverSampler(random_state=6624)\n",
        "x_ros, y_ros = ros.fit_sample(X_train, y_train)"
      ],
      "execution_count": 130,
      "outputs": [
        {
          "output_type": "stream",
          "text": [
            "/usr/local/lib/python3.7/dist-packages/sklearn/externals/six.py:31: FutureWarning: The module is deprecated in version 0.21 and will be removed in version 0.23 since we've dropped support for Python 2.7. Please rely on the official version of six (https://pypi.org/project/six/).\n",
            "  \"(https://pypi.org/project/six/).\", FutureWarning)\n",
            "/usr/local/lib/python3.7/dist-packages/sklearn/utils/deprecation.py:144: FutureWarning: The sklearn.neighbors.base module is  deprecated in version 0.22 and will be removed in version 0.24. The corresponding classes / functions should instead be imported from sklearn.neighbors. Anything that cannot be imported from sklearn.neighbors is now part of the private API.\n",
            "  warnings.warn(message, FutureWarning)\n",
            "/usr/local/lib/python3.7/dist-packages/sklearn/utils/deprecation.py:87: FutureWarning: Function safe_indexing is deprecated; safe_indexing is deprecated in version 0.22 and will be removed in version 0.24.\n",
            "  warnings.warn(msg, category=FutureWarning)\n"
          ],
          "name": "stderr"
        }
      ]
    },
    {
      "cell_type": "code",
      "metadata": {
        "scrolled": true,
        "colab": {
          "base_uri": "https://localhost:8080/"
        },
        "id": "SNR1HYAokLHm",
        "outputId": "1b3c5023-aff4-4743-d134-7dc4a865a6f8"
      },
      "source": [
        "print(\"Actual counts: \\n\", y_train.value_counts(),\"\\n \\n Balanced couts: \\n\",pd.Series(y_ros).value_counts())"
      ],
      "execution_count": 131,
      "outputs": [
        {
          "output_type": "stream",
          "text": [
            "Actual counts: \n",
            " 0    226\n",
            "1    182\n",
            "Name: FV, dtype: int64 \n",
            " \n",
            " Balanced couts: \n",
            " 1    226\n",
            "0    226\n",
            "dtype: int64\n"
          ],
          "name": "stdout"
        }
      ]
    },
    {
      "cell_type": "markdown",
      "metadata": {
        "id": "rYL7OAMAkLHn"
      },
      "source": [
        "## Search for Appropriate Hyperparameters \n",
        "\n",
        "**Grid search** is an approach to hyperparameter tuning that will methodically build and evaluate a model for each combination of algorithm parameters specified in a grid.\n",
        "\n",
        "##### Greed search for ANN"
      ]
    },
    {
      "cell_type": "code",
      "metadata": {
        "colab": {
          "base_uri": "https://localhost:8080/"
        },
        "id": "uTlxQrilkLHo",
        "outputId": "1bf70702-5c8a-4190-a119-0fdad61c3932"
      },
      "source": [
        "from sklearn.model_selection import GridSearchCV\n",
        "parameters = {'hidden_layer_sizes':([2],[3],[4],[2,2],[3,3],[4,4],[2,2,2],[3,3,3],[4,4,4]), 'activation':('relu','tanh')}\n",
        "classifier = MLPClassifier()\n",
        "clf = GridSearchCV(classifier, parameters)\n",
        "clf.fit(X_train, y_train)"
      ],
      "execution_count": 132,
      "outputs": [
        {
          "output_type": "stream",
          "text": [
            "/usr/local/lib/python3.7/dist-packages/sklearn/neural_network/_multilayer_perceptron.py:571: ConvergenceWarning: Stochastic Optimizer: Maximum iterations (200) reached and the optimization hasn't converged yet.\n",
            "  % self.max_iter, ConvergenceWarning)\n",
            "/usr/local/lib/python3.7/dist-packages/sklearn/neural_network/_multilayer_perceptron.py:571: ConvergenceWarning: Stochastic Optimizer: Maximum iterations (200) reached and the optimization hasn't converged yet.\n",
            "  % self.max_iter, ConvergenceWarning)\n",
            "/usr/local/lib/python3.7/dist-packages/sklearn/neural_network/_multilayer_perceptron.py:571: ConvergenceWarning: Stochastic Optimizer: Maximum iterations (200) reached and the optimization hasn't converged yet.\n",
            "  % self.max_iter, ConvergenceWarning)\n",
            "/usr/local/lib/python3.7/dist-packages/sklearn/neural_network/_multilayer_perceptron.py:571: ConvergenceWarning: Stochastic Optimizer: Maximum iterations (200) reached and the optimization hasn't converged yet.\n",
            "  % self.max_iter, ConvergenceWarning)\n",
            "/usr/local/lib/python3.7/dist-packages/sklearn/neural_network/_multilayer_perceptron.py:571: ConvergenceWarning: Stochastic Optimizer: Maximum iterations (200) reached and the optimization hasn't converged yet.\n",
            "  % self.max_iter, ConvergenceWarning)\n",
            "/usr/local/lib/python3.7/dist-packages/sklearn/neural_network/_multilayer_perceptron.py:571: ConvergenceWarning: Stochastic Optimizer: Maximum iterations (200) reached and the optimization hasn't converged yet.\n",
            "  % self.max_iter, ConvergenceWarning)\n",
            "/usr/local/lib/python3.7/dist-packages/sklearn/neural_network/_multilayer_perceptron.py:571: ConvergenceWarning: Stochastic Optimizer: Maximum iterations (200) reached and the optimization hasn't converged yet.\n",
            "  % self.max_iter, ConvergenceWarning)\n",
            "/usr/local/lib/python3.7/dist-packages/sklearn/neural_network/_multilayer_perceptron.py:571: ConvergenceWarning: Stochastic Optimizer: Maximum iterations (200) reached and the optimization hasn't converged yet.\n",
            "  % self.max_iter, ConvergenceWarning)\n",
            "/usr/local/lib/python3.7/dist-packages/sklearn/neural_network/_multilayer_perceptron.py:571: ConvergenceWarning: Stochastic Optimizer: Maximum iterations (200) reached and the optimization hasn't converged yet.\n",
            "  % self.max_iter, ConvergenceWarning)\n",
            "/usr/local/lib/python3.7/dist-packages/sklearn/neural_network/_multilayer_perceptron.py:571: ConvergenceWarning: Stochastic Optimizer: Maximum iterations (200) reached and the optimization hasn't converged yet.\n",
            "  % self.max_iter, ConvergenceWarning)\n",
            "/usr/local/lib/python3.7/dist-packages/sklearn/neural_network/_multilayer_perceptron.py:571: ConvergenceWarning: Stochastic Optimizer: Maximum iterations (200) reached and the optimization hasn't converged yet.\n",
            "  % self.max_iter, ConvergenceWarning)\n",
            "/usr/local/lib/python3.7/dist-packages/sklearn/neural_network/_multilayer_perceptron.py:571: ConvergenceWarning: Stochastic Optimizer: Maximum iterations (200) reached and the optimization hasn't converged yet.\n",
            "  % self.max_iter, ConvergenceWarning)\n",
            "/usr/local/lib/python3.7/dist-packages/sklearn/neural_network/_multilayer_perceptron.py:571: ConvergenceWarning: Stochastic Optimizer: Maximum iterations (200) reached and the optimization hasn't converged yet.\n",
            "  % self.max_iter, ConvergenceWarning)\n",
            "/usr/local/lib/python3.7/dist-packages/sklearn/neural_network/_multilayer_perceptron.py:571: ConvergenceWarning: Stochastic Optimizer: Maximum iterations (200) reached and the optimization hasn't converged yet.\n",
            "  % self.max_iter, ConvergenceWarning)\n",
            "/usr/local/lib/python3.7/dist-packages/sklearn/neural_network/_multilayer_perceptron.py:571: ConvergenceWarning: Stochastic Optimizer: Maximum iterations (200) reached and the optimization hasn't converged yet.\n",
            "  % self.max_iter, ConvergenceWarning)\n",
            "/usr/local/lib/python3.7/dist-packages/sklearn/neural_network/_multilayer_perceptron.py:571: ConvergenceWarning: Stochastic Optimizer: Maximum iterations (200) reached and the optimization hasn't converged yet.\n",
            "  % self.max_iter, ConvergenceWarning)\n",
            "/usr/local/lib/python3.7/dist-packages/sklearn/neural_network/_multilayer_perceptron.py:571: ConvergenceWarning: Stochastic Optimizer: Maximum iterations (200) reached and the optimization hasn't converged yet.\n",
            "  % self.max_iter, ConvergenceWarning)\n",
            "/usr/local/lib/python3.7/dist-packages/sklearn/neural_network/_multilayer_perceptron.py:571: ConvergenceWarning: Stochastic Optimizer: Maximum iterations (200) reached and the optimization hasn't converged yet.\n",
            "  % self.max_iter, ConvergenceWarning)\n",
            "/usr/local/lib/python3.7/dist-packages/sklearn/neural_network/_multilayer_perceptron.py:571: ConvergenceWarning: Stochastic Optimizer: Maximum iterations (200) reached and the optimization hasn't converged yet.\n",
            "  % self.max_iter, ConvergenceWarning)\n",
            "/usr/local/lib/python3.7/dist-packages/sklearn/neural_network/_multilayer_perceptron.py:571: ConvergenceWarning: Stochastic Optimizer: Maximum iterations (200) reached and the optimization hasn't converged yet.\n",
            "  % self.max_iter, ConvergenceWarning)\n",
            "/usr/local/lib/python3.7/dist-packages/sklearn/neural_network/_multilayer_perceptron.py:571: ConvergenceWarning: Stochastic Optimizer: Maximum iterations (200) reached and the optimization hasn't converged yet.\n",
            "  % self.max_iter, ConvergenceWarning)\n",
            "/usr/local/lib/python3.7/dist-packages/sklearn/neural_network/_multilayer_perceptron.py:571: ConvergenceWarning: Stochastic Optimizer: Maximum iterations (200) reached and the optimization hasn't converged yet.\n",
            "  % self.max_iter, ConvergenceWarning)\n",
            "/usr/local/lib/python3.7/dist-packages/sklearn/neural_network/_multilayer_perceptron.py:571: ConvergenceWarning: Stochastic Optimizer: Maximum iterations (200) reached and the optimization hasn't converged yet.\n",
            "  % self.max_iter, ConvergenceWarning)\n",
            "/usr/local/lib/python3.7/dist-packages/sklearn/neural_network/_multilayer_perceptron.py:571: ConvergenceWarning: Stochastic Optimizer: Maximum iterations (200) reached and the optimization hasn't converged yet.\n",
            "  % self.max_iter, ConvergenceWarning)\n",
            "/usr/local/lib/python3.7/dist-packages/sklearn/neural_network/_multilayer_perceptron.py:571: ConvergenceWarning: Stochastic Optimizer: Maximum iterations (200) reached and the optimization hasn't converged yet.\n",
            "  % self.max_iter, ConvergenceWarning)\n",
            "/usr/local/lib/python3.7/dist-packages/sklearn/neural_network/_multilayer_perceptron.py:571: ConvergenceWarning: Stochastic Optimizer: Maximum iterations (200) reached and the optimization hasn't converged yet.\n",
            "  % self.max_iter, ConvergenceWarning)\n",
            "/usr/local/lib/python3.7/dist-packages/sklearn/neural_network/_multilayer_perceptron.py:571: ConvergenceWarning: Stochastic Optimizer: Maximum iterations (200) reached and the optimization hasn't converged yet.\n",
            "  % self.max_iter, ConvergenceWarning)\n",
            "/usr/local/lib/python3.7/dist-packages/sklearn/neural_network/_multilayer_perceptron.py:571: ConvergenceWarning: Stochastic Optimizer: Maximum iterations (200) reached and the optimization hasn't converged yet.\n",
            "  % self.max_iter, ConvergenceWarning)\n",
            "/usr/local/lib/python3.7/dist-packages/sklearn/neural_network/_multilayer_perceptron.py:571: ConvergenceWarning: Stochastic Optimizer: Maximum iterations (200) reached and the optimization hasn't converged yet.\n",
            "  % self.max_iter, ConvergenceWarning)\n",
            "/usr/local/lib/python3.7/dist-packages/sklearn/neural_network/_multilayer_perceptron.py:571: ConvergenceWarning: Stochastic Optimizer: Maximum iterations (200) reached and the optimization hasn't converged yet.\n",
            "  % self.max_iter, ConvergenceWarning)\n",
            "/usr/local/lib/python3.7/dist-packages/sklearn/neural_network/_multilayer_perceptron.py:571: ConvergenceWarning: Stochastic Optimizer: Maximum iterations (200) reached and the optimization hasn't converged yet.\n",
            "  % self.max_iter, ConvergenceWarning)\n",
            "/usr/local/lib/python3.7/dist-packages/sklearn/neural_network/_multilayer_perceptron.py:571: ConvergenceWarning: Stochastic Optimizer: Maximum iterations (200) reached and the optimization hasn't converged yet.\n",
            "  % self.max_iter, ConvergenceWarning)\n",
            "/usr/local/lib/python3.7/dist-packages/sklearn/neural_network/_multilayer_perceptron.py:571: ConvergenceWarning: Stochastic Optimizer: Maximum iterations (200) reached and the optimization hasn't converged yet.\n",
            "  % self.max_iter, ConvergenceWarning)\n",
            "/usr/local/lib/python3.7/dist-packages/sklearn/neural_network/_multilayer_perceptron.py:571: ConvergenceWarning: Stochastic Optimizer: Maximum iterations (200) reached and the optimization hasn't converged yet.\n",
            "  % self.max_iter, ConvergenceWarning)\n",
            "/usr/local/lib/python3.7/dist-packages/sklearn/neural_network/_multilayer_perceptron.py:571: ConvergenceWarning: Stochastic Optimizer: Maximum iterations (200) reached and the optimization hasn't converged yet.\n",
            "  % self.max_iter, ConvergenceWarning)\n",
            "/usr/local/lib/python3.7/dist-packages/sklearn/neural_network/_multilayer_perceptron.py:571: ConvergenceWarning: Stochastic Optimizer: Maximum iterations (200) reached and the optimization hasn't converged yet.\n",
            "  % self.max_iter, ConvergenceWarning)\n",
            "/usr/local/lib/python3.7/dist-packages/sklearn/neural_network/_multilayer_perceptron.py:571: ConvergenceWarning: Stochastic Optimizer: Maximum iterations (200) reached and the optimization hasn't converged yet.\n",
            "  % self.max_iter, ConvergenceWarning)\n",
            "/usr/local/lib/python3.7/dist-packages/sklearn/neural_network/_multilayer_perceptron.py:571: ConvergenceWarning: Stochastic Optimizer: Maximum iterations (200) reached and the optimization hasn't converged yet.\n",
            "  % self.max_iter, ConvergenceWarning)\n",
            "/usr/local/lib/python3.7/dist-packages/sklearn/neural_network/_multilayer_perceptron.py:571: ConvergenceWarning: Stochastic Optimizer: Maximum iterations (200) reached and the optimization hasn't converged yet.\n",
            "  % self.max_iter, ConvergenceWarning)\n",
            "/usr/local/lib/python3.7/dist-packages/sklearn/neural_network/_multilayer_perceptron.py:571: ConvergenceWarning: Stochastic Optimizer: Maximum iterations (200) reached and the optimization hasn't converged yet.\n",
            "  % self.max_iter, ConvergenceWarning)\n",
            "/usr/local/lib/python3.7/dist-packages/sklearn/neural_network/_multilayer_perceptron.py:571: ConvergenceWarning: Stochastic Optimizer: Maximum iterations (200) reached and the optimization hasn't converged yet.\n",
            "  % self.max_iter, ConvergenceWarning)\n",
            "/usr/local/lib/python3.7/dist-packages/sklearn/neural_network/_multilayer_perceptron.py:571: ConvergenceWarning: Stochastic Optimizer: Maximum iterations (200) reached and the optimization hasn't converged yet.\n",
            "  % self.max_iter, ConvergenceWarning)\n",
            "/usr/local/lib/python3.7/dist-packages/sklearn/neural_network/_multilayer_perceptron.py:571: ConvergenceWarning: Stochastic Optimizer: Maximum iterations (200) reached and the optimization hasn't converged yet.\n",
            "  % self.max_iter, ConvergenceWarning)\n",
            "/usr/local/lib/python3.7/dist-packages/sklearn/neural_network/_multilayer_perceptron.py:571: ConvergenceWarning: Stochastic Optimizer: Maximum iterations (200) reached and the optimization hasn't converged yet.\n",
            "  % self.max_iter, ConvergenceWarning)\n",
            "/usr/local/lib/python3.7/dist-packages/sklearn/neural_network/_multilayer_perceptron.py:571: ConvergenceWarning: Stochastic Optimizer: Maximum iterations (200) reached and the optimization hasn't converged yet.\n",
            "  % self.max_iter, ConvergenceWarning)\n",
            "/usr/local/lib/python3.7/dist-packages/sklearn/neural_network/_multilayer_perceptron.py:571: ConvergenceWarning: Stochastic Optimizer: Maximum iterations (200) reached and the optimization hasn't converged yet.\n",
            "  % self.max_iter, ConvergenceWarning)\n",
            "/usr/local/lib/python3.7/dist-packages/sklearn/neural_network/_multilayer_perceptron.py:571: ConvergenceWarning: Stochastic Optimizer: Maximum iterations (200) reached and the optimization hasn't converged yet.\n",
            "  % self.max_iter, ConvergenceWarning)\n",
            "/usr/local/lib/python3.7/dist-packages/sklearn/neural_network/_multilayer_perceptron.py:571: ConvergenceWarning: Stochastic Optimizer: Maximum iterations (200) reached and the optimization hasn't converged yet.\n",
            "  % self.max_iter, ConvergenceWarning)\n",
            "/usr/local/lib/python3.7/dist-packages/sklearn/neural_network/_multilayer_perceptron.py:571: ConvergenceWarning: Stochastic Optimizer: Maximum iterations (200) reached and the optimization hasn't converged yet.\n",
            "  % self.max_iter, ConvergenceWarning)\n",
            "/usr/local/lib/python3.7/dist-packages/sklearn/neural_network/_multilayer_perceptron.py:571: ConvergenceWarning: Stochastic Optimizer: Maximum iterations (200) reached and the optimization hasn't converged yet.\n",
            "  % self.max_iter, ConvergenceWarning)\n",
            "/usr/local/lib/python3.7/dist-packages/sklearn/neural_network/_multilayer_perceptron.py:571: ConvergenceWarning: Stochastic Optimizer: Maximum iterations (200) reached and the optimization hasn't converged yet.\n",
            "  % self.max_iter, ConvergenceWarning)\n",
            "/usr/local/lib/python3.7/dist-packages/sklearn/neural_network/_multilayer_perceptron.py:571: ConvergenceWarning: Stochastic Optimizer: Maximum iterations (200) reached and the optimization hasn't converged yet.\n",
            "  % self.max_iter, ConvergenceWarning)\n",
            "/usr/local/lib/python3.7/dist-packages/sklearn/neural_network/_multilayer_perceptron.py:571: ConvergenceWarning: Stochastic Optimizer: Maximum iterations (200) reached and the optimization hasn't converged yet.\n",
            "  % self.max_iter, ConvergenceWarning)\n",
            "/usr/local/lib/python3.7/dist-packages/sklearn/neural_network/_multilayer_perceptron.py:571: ConvergenceWarning: Stochastic Optimizer: Maximum iterations (200) reached and the optimization hasn't converged yet.\n",
            "  % self.max_iter, ConvergenceWarning)\n",
            "/usr/local/lib/python3.7/dist-packages/sklearn/neural_network/_multilayer_perceptron.py:571: ConvergenceWarning: Stochastic Optimizer: Maximum iterations (200) reached and the optimization hasn't converged yet.\n",
            "  % self.max_iter, ConvergenceWarning)\n",
            "/usr/local/lib/python3.7/dist-packages/sklearn/neural_network/_multilayer_perceptron.py:571: ConvergenceWarning: Stochastic Optimizer: Maximum iterations (200) reached and the optimization hasn't converged yet.\n",
            "  % self.max_iter, ConvergenceWarning)\n",
            "/usr/local/lib/python3.7/dist-packages/sklearn/neural_network/_multilayer_perceptron.py:571: ConvergenceWarning: Stochastic Optimizer: Maximum iterations (200) reached and the optimization hasn't converged yet.\n",
            "  % self.max_iter, ConvergenceWarning)\n",
            "/usr/local/lib/python3.7/dist-packages/sklearn/neural_network/_multilayer_perceptron.py:571: ConvergenceWarning: Stochastic Optimizer: Maximum iterations (200) reached and the optimization hasn't converged yet.\n",
            "  % self.max_iter, ConvergenceWarning)\n",
            "/usr/local/lib/python3.7/dist-packages/sklearn/neural_network/_multilayer_perceptron.py:571: ConvergenceWarning: Stochastic Optimizer: Maximum iterations (200) reached and the optimization hasn't converged yet.\n",
            "  % self.max_iter, ConvergenceWarning)\n",
            "/usr/local/lib/python3.7/dist-packages/sklearn/neural_network/_multilayer_perceptron.py:571: ConvergenceWarning: Stochastic Optimizer: Maximum iterations (200) reached and the optimization hasn't converged yet.\n",
            "  % self.max_iter, ConvergenceWarning)\n",
            "/usr/local/lib/python3.7/dist-packages/sklearn/neural_network/_multilayer_perceptron.py:571: ConvergenceWarning: Stochastic Optimizer: Maximum iterations (200) reached and the optimization hasn't converged yet.\n",
            "  % self.max_iter, ConvergenceWarning)\n",
            "/usr/local/lib/python3.7/dist-packages/sklearn/neural_network/_multilayer_perceptron.py:571: ConvergenceWarning: Stochastic Optimizer: Maximum iterations (200) reached and the optimization hasn't converged yet.\n",
            "  % self.max_iter, ConvergenceWarning)\n",
            "/usr/local/lib/python3.7/dist-packages/sklearn/neural_network/_multilayer_perceptron.py:571: ConvergenceWarning: Stochastic Optimizer: Maximum iterations (200) reached and the optimization hasn't converged yet.\n",
            "  % self.max_iter, ConvergenceWarning)\n",
            "/usr/local/lib/python3.7/dist-packages/sklearn/neural_network/_multilayer_perceptron.py:571: ConvergenceWarning: Stochastic Optimizer: Maximum iterations (200) reached and the optimization hasn't converged yet.\n",
            "  % self.max_iter, ConvergenceWarning)\n"
          ],
          "name": "stderr"
        },
        {
          "output_type": "execute_result",
          "data": {
            "text/plain": [
              "GridSearchCV(cv=None, error_score=nan,\n",
              "             estimator=MLPClassifier(activation='relu', alpha=0.0001,\n",
              "                                     batch_size='auto', beta_1=0.9,\n",
              "                                     beta_2=0.999, early_stopping=False,\n",
              "                                     epsilon=1e-08, hidden_layer_sizes=(100,),\n",
              "                                     learning_rate='constant',\n",
              "                                     learning_rate_init=0.001, max_fun=15000,\n",
              "                                     max_iter=200, momentum=0.9,\n",
              "                                     n_iter_no_change=10,\n",
              "                                     nesterovs_momentum=True, power_t=0.5,\n",
              "                                     random_state=None, shuffle=True,\n",
              "                                     solver='adam', tol=0.0001,\n",
              "                                     validation_fraction=0.1, verbose=False,\n",
              "                                     warm_start=False),\n",
              "             iid='deprecated', n_jobs=None,\n",
              "             param_grid={'activation': ('relu', 'tanh'),\n",
              "                         'hidden_layer_sizes': ([2], [3], [4], [2, 2], [3, 3],\n",
              "                                                [4, 4], [2, 2, 2], [3, 3, 3],\n",
              "                                                [4, 4, 4])},\n",
              "             pre_dispatch='2*n_jobs', refit=True, return_train_score=False,\n",
              "             scoring=None, verbose=0)"
            ]
          },
          "metadata": {
            "tags": []
          },
          "execution_count": 132
        }
      ]
    },
    {
      "cell_type": "code",
      "metadata": {
        "colab": {
          "base_uri": "https://localhost:8080/"
        },
        "id": "yFOr_EGmkLHp",
        "outputId": "dfc6aa8b-ec43-4ca7-e8a1-43e5657307c5"
      },
      "source": [
        "clf.best_params_"
      ],
      "execution_count": 133,
      "outputs": [
        {
          "output_type": "execute_result",
          "data": {
            "text/plain": [
              "{'activation': 'tanh', 'hidden_layer_sizes': [4, 4]}"
            ]
          },
          "metadata": {
            "tags": []
          },
          "execution_count": 133
        }
      ]
    },
    {
      "cell_type": "code",
      "metadata": {
        "id": "m8gqQ8NBkLHp"
      },
      "source": [
        ""
      ],
      "execution_count": null,
      "outputs": []
    }
  ]
}