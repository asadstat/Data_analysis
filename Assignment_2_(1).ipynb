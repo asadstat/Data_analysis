{
  "cells": [
    {
      "cell_type": "markdown",
      "metadata": {
        "id": "view-in-github",
        "colab_type": "text"
      },
      "source": [
        "<a href=\"https://colab.research.google.com/github/asadstat/Data_analysis/blob/master/Assignment_2_(1).ipynb\" target=\"_parent\"><img src=\"https://colab.research.google.com/assets/colab-badge.svg\" alt=\"Open In Colab\"/></a>"
      ]
    },
    {
      "cell_type": "markdown",
      "id": "f76e2414",
      "metadata": {
        "id": "f76e2414"
      },
      "source": [
        "### Import required library"
      ]
    },
    {
      "cell_type": "code",
      "execution_count": null,
      "id": "c350ffd3",
      "metadata": {
        "id": "c350ffd3"
      },
      "outputs": [],
      "source": [
        "import pandas as pd\n",
        "import numpy as np\n",
        "import matplotlib.pyplot as plt"
      ]
    },
    {
      "cell_type": "markdown",
      "id": "6a684ff7",
      "metadata": {
        "id": "6a684ff7"
      },
      "source": [
        "### Dataset loading"
      ]
    },
    {
      "cell_type": "code",
      "execution_count": null,
      "id": "62e164e0",
      "metadata": {
        "id": "62e164e0"
      },
      "outputs": [],
      "source": [
        "df1= pd.read_csv('C:/Users/User/Downloads/Data_Analyst_Task/Data/data_1.csv')\n",
        "df2= pd.read_excel('C:/Users/User/Downloads/Data_Analyst_Task/Data/data_2.xlsx') "
      ]
    },
    {
      "cell_type": "markdown",
      "id": "468b59af",
      "metadata": {
        "id": "468b59af"
      },
      "source": [
        "### Check out information"
      ]
    },
    {
      "cell_type": "code",
      "execution_count": null,
      "id": "6066218e",
      "metadata": {
        "id": "6066218e",
        "outputId": "11755b18-49b2-4017-eae0-b0cbff41de53"
      },
      "outputs": [
        {
          "data": {
            "text/html": [
              "<div>\n",
              "<style scoped>\n",
              "    .dataframe tbody tr th:only-of-type {\n",
              "        vertical-align: middle;\n",
              "    }\n",
              "\n",
              "    .dataframe tbody tr th {\n",
              "        vertical-align: top;\n",
              "    }\n",
              "\n",
              "    .dataframe thead th {\n",
              "        text-align: right;\n",
              "    }\n",
              "</style>\n",
              "<table border=\"1\" class=\"dataframe\">\n",
              "  <thead>\n",
              "    <tr style=\"text-align: right;\">\n",
              "      <th></th>\n",
              "      <th>No</th>\n",
              "      <th>Age</th>\n",
              "      <th>Sex</th>\n",
              "      <th>Reason</th>\n",
              "      <th>Status</th>\n",
              "      <th>Location</th>\n",
              "      <th>CrossSec</th>\n",
              "      <th>LymphNodeDisec</th>\n",
              "      <th>Resected</th>\n",
              "      <th>lymphatic_invasion</th>\n",
              "      <th>...</th>\n",
              "      <th>FinalP</th>\n",
              "      <th>FinalMeta</th>\n",
              "      <th>JGCAStage</th>\n",
              "      <th>FinalCurability</th>\n",
              "      <th>FinalT</th>\n",
              "      <th>fTNM_N</th>\n",
              "      <th>TNMStage</th>\n",
              "      <th>Days</th>\n",
              "      <th>Months</th>\n",
              "      <th>sex1</th>\n",
              "    </tr>\n",
              "  </thead>\n",
              "  <tbody>\n",
              "    <tr>\n",
              "      <th>0</th>\n",
              "      <td>1</td>\n",
              "      <td>2</td>\n",
              "      <td>2</td>\n",
              "      <td></td>\n",
              "      <td></td>\n",
              "      <td>3</td>\n",
              "      <td>1</td>\n",
              "      <td>2</td>\n",
              "      <td>1</td>\n",
              "      <td>1</td>\n",
              "      <td>...</td>\n",
              "      <td>0</td>\n",
              "      <td>0</td>\n",
              "      <td>2</td>\n",
              "      <td>1</td>\n",
              "      <td>2</td>\n",
              "      <td>0</td>\n",
              "      <td>2</td>\n",
              "      <td>1662</td>\n",
              "      <td>138.500000</td>\n",
              "      <td></td>\n",
              "    </tr>\n",
              "    <tr>\n",
              "      <th>1</th>\n",
              "      <td>2</td>\n",
              "      <td>2</td>\n",
              "      <td>1</td>\n",
              "      <td>2</td>\n",
              "      <td>1</td>\n",
              "      <td>2</td>\n",
              "      <td>1</td>\n",
              "      <td>2</td>\n",
              "      <td>1</td>\n",
              "      <td>3</td>\n",
              "      <td>...</td>\n",
              "      <td>1</td>\n",
              "      <td>0</td>\n",
              "      <td>6</td>\n",
              "      <td>3</td>\n",
              "      <td>4</td>\n",
              "      <td>3</td>\n",
              "      <td>6</td>\n",
              "      <td>637</td>\n",
              "      <td>53.083333</td>\n",
              "      <td>2</td>\n",
              "    </tr>\n",
              "    <tr>\n",
              "      <th>2</th>\n",
              "      <td>3</td>\n",
              "      <td>2</td>\n",
              "      <td>2</td>\n",
              "      <td></td>\n",
              "      <td></td>\n",
              "      <td>1</td>\n",
              "      <td>1</td>\n",
              "      <td>1</td>\n",
              "      <td>1</td>\n",
              "      <td>0</td>\n",
              "      <td>...</td>\n",
              "      <td>0</td>\n",
              "      <td>0</td>\n",
              "      <td>1</td>\n",
              "      <td>1</td>\n",
              "      <td>1</td>\n",
              "      <td>0</td>\n",
              "      <td>1</td>\n",
              "      <td>1403</td>\n",
              "      <td>116.916667</td>\n",
              "      <td>1</td>\n",
              "    </tr>\n",
              "  </tbody>\n",
              "</table>\n",
              "<p>3 rows × 27 columns</p>\n",
              "</div>"
            ],
            "text/plain": [
              "   No Age Sex Reason Status Location CrossSec LymphNodeDisec Resected  \\\n",
              "0   1   2   2                      3        1              2        1   \n",
              "1   2   2   1      2      1        2        1              2        1   \n",
              "2   3   2   2                      1        1              1        1   \n",
              "\n",
              "  lymphatic_invasion  ... FinalP FinalMeta JGCAStage FinalCurability FinalT  \\\n",
              "0                  1  ...      0         0         2               1      2   \n",
              "1                  3  ...      1         0         6               3      4   \n",
              "2                  0  ...      0         0         1               1      1   \n",
              "\n",
              "  fTNM_N TNMStage  Days      Months sex1  \n",
              "0      0        2  1662  138.500000       \n",
              "1      3        6   637   53.083333    2  \n",
              "2      0        1  1403  116.916667    1  \n",
              "\n",
              "[3 rows x 27 columns]"
            ]
          },
          "execution_count": 4,
          "metadata": {},
          "output_type": "execute_result"
        }
      ],
      "source": [
        "df1.head(3)"
      ]
    },
    {
      "cell_type": "code",
      "execution_count": null,
      "id": "a39d12ce",
      "metadata": {
        "id": "a39d12ce",
        "outputId": "76f94d76-5800-454f-a225-a5068398c67d"
      },
      "outputs": [
        {
          "data": {
            "text/html": [
              "<div>\n",
              "<style scoped>\n",
              "    .dataframe tbody tr th:only-of-type {\n",
              "        vertical-align: middle;\n",
              "    }\n",
              "\n",
              "    .dataframe tbody tr th {\n",
              "        vertical-align: top;\n",
              "    }\n",
              "\n",
              "    .dataframe thead th {\n",
              "        text-align: right;\n",
              "    }\n",
              "</style>\n",
              "<table border=\"1\" class=\"dataframe\">\n",
              "  <thead>\n",
              "    <tr style=\"text-align: right;\">\n",
              "      <th></th>\n",
              "      <th>age</th>\n",
              "      <th>edulev</th>\n",
              "      <th>financial_income_Increase</th>\n",
              "      <th>economic_condition_Status</th>\n",
              "      <th>Afect_mental_health</th>\n",
              "      <th>ecmh</th>\n",
              "      <th>tddp</th>\n",
              "      <th>ssti</th>\n",
              "      <th>hadp</th>\n",
              "      <th>WEIGHT</th>\n",
              "    </tr>\n",
              "  </thead>\n",
              "  <tbody>\n",
              "    <tr>\n",
              "      <th>0</th>\n",
              "      <td>23</td>\n",
              "      <td>Undergraduate</td>\n",
              "      <td>No</td>\n",
              "      <td>Stable</td>\n",
              "      <td>Yes</td>\n",
              "      <td>Depression</td>\n",
              "      <td>Most of the times</td>\n",
              "      <td>Incressed</td>\n",
              "      <td>Watching movies</td>\n",
              "      <td>117.0</td>\n",
              "    </tr>\n",
              "    <tr>\n",
              "      <th>1</th>\n",
              "      <td>32</td>\n",
              "      <td>Post-graduate</td>\n",
              "      <td>Yes</td>\n",
              "      <td>Unstable</td>\n",
              "      <td>Yes</td>\n",
              "      <td>Depression</td>\n",
              "      <td>Sometimes</td>\n",
              "      <td>Incressed</td>\n",
              "      <td>Social media</td>\n",
              "      <td>NaN</td>\n",
              "    </tr>\n",
              "    <tr>\n",
              "      <th>2</th>\n",
              "      <td>22</td>\n",
              "      <td>Undergraduate</td>\n",
              "      <td>Yes</td>\n",
              "      <td>Stable</td>\n",
              "      <td>Yes</td>\n",
              "      <td>Overthinking</td>\n",
              "      <td>Sometimes</td>\n",
              "      <td>Incressed</td>\n",
              "      <td>Watching movies</td>\n",
              "      <td>144.0</td>\n",
              "    </tr>\n",
              "  </tbody>\n",
              "</table>\n",
              "</div>"
            ],
            "text/plain": [
              "   age         edulev financial_income_Increase economic_condition_Status  \\\n",
              "0   23  Undergraduate                        No                    Stable   \n",
              "1   32  Post-graduate                       Yes                  Unstable   \n",
              "2   22  Undergraduate                       Yes                    Stable   \n",
              "\n",
              "  Afect_mental_health          ecmh               tddp       ssti  \\\n",
              "0                 Yes    Depression  Most of the times  Incressed   \n",
              "1                 Yes    Depression          Sometimes  Incressed   \n",
              "2                 Yes  Overthinking          Sometimes  Incressed   \n",
              "\n",
              "              hadp  WEIGHT  \n",
              "0  Watching movies   117.0  \n",
              "1     Social media     NaN  \n",
              "2  Watching movies   144.0  "
            ]
          },
          "execution_count": 5,
          "metadata": {},
          "output_type": "execute_result"
        }
      ],
      "source": [
        "df2.head(3)"
      ]
    },
    {
      "cell_type": "markdown",
      "id": "ca3797c1",
      "metadata": {
        "id": "ca3797c1"
      },
      "source": [
        "Based on the assignment_2, as I have been told to work on the data_2 first, so, I'm going to work on top of the mentioned dataset"
      ]
    },
    {
      "cell_type": "markdown",
      "id": "f93e4c45",
      "metadata": {
        "id": "f93e4c45"
      },
      "source": [
        "### 1. Find the missing value and replace with appropriate method for variable WEIGHT"
      ]
    },
    {
      "cell_type": "code",
      "execution_count": null,
      "id": "3d6bc674",
      "metadata": {
        "id": "3d6bc674",
        "outputId": "9e2a5ded-8c47-4240-da2e-b0c60884fcb9"
      },
      "outputs": [
        {
          "data": {
            "text/plain": [
              "6"
            ]
          },
          "execution_count": 6,
          "metadata": {},
          "output_type": "execute_result"
        }
      ],
      "source": [
        "df2['WEIGHT'].isna().sum()"
      ]
    },
    {
      "cell_type": "markdown",
      "id": "33904246",
      "metadata": {
        "id": "33904246"
      },
      "source": [
        "Observation: It can be said that there are a total of 6 missing values under WEIGHT. So, we have to replace it in an appropriate way because missing values are not important but the best strategy to eliminate. But in this, the problem that arises is that when we have small datasets and if we remove rows with missing data then the dataset becomes very small and the machine learning model will not give good results on a small dataset.So to avoid this problem we can apply alternative approach. The next method is to input the missing values. We do this by either replacing the missing value with some random value or with the median/mean of the rest of the data.Outliers data points will have a significant impact on the mean and hence, in such cases, it is not recommended to use the mean for replacing the missing values. Using mean values for replacing missing values may not create a great model and hence gets ruled out. In this case, I'm going to use the median because somewhat better representation can be obtained by applying this startegy."
      ]
    },
    {
      "cell_type": "code",
      "execution_count": null,
      "id": "beea27c4",
      "metadata": {
        "id": "beea27c4"
      },
      "outputs": [],
      "source": [
        "df2['WEIGHT'] = df2['WEIGHT'].fillna(df2['WEIGHT'].median())"
      ]
    },
    {
      "cell_type": "code",
      "execution_count": null,
      "id": "670eb8b7",
      "metadata": {
        "id": "670eb8b7",
        "outputId": "ab9f5ef4-5590-44a8-da97-2a512557c0e8"
      },
      "outputs": [
        {
          "data": {
            "text/html": [
              "<div>\n",
              "<style scoped>\n",
              "    .dataframe tbody tr th:only-of-type {\n",
              "        vertical-align: middle;\n",
              "    }\n",
              "\n",
              "    .dataframe tbody tr th {\n",
              "        vertical-align: top;\n",
              "    }\n",
              "\n",
              "    .dataframe thead th {\n",
              "        text-align: right;\n",
              "    }\n",
              "</style>\n",
              "<table border=\"1\" class=\"dataframe\">\n",
              "  <thead>\n",
              "    <tr style=\"text-align: right;\">\n",
              "      <th></th>\n",
              "      <th>age</th>\n",
              "      <th>edulev</th>\n",
              "      <th>financial_income_Increase</th>\n",
              "      <th>economic_condition_Status</th>\n",
              "      <th>Afect_mental_health</th>\n",
              "      <th>ecmh</th>\n",
              "      <th>tddp</th>\n",
              "      <th>ssti</th>\n",
              "      <th>hadp</th>\n",
              "      <th>WEIGHT</th>\n",
              "    </tr>\n",
              "  </thead>\n",
              "  <tbody>\n",
              "    <tr>\n",
              "      <th>0</th>\n",
              "      <td>23</td>\n",
              "      <td>Undergraduate</td>\n",
              "      <td>No</td>\n",
              "      <td>Stable</td>\n",
              "      <td>Yes</td>\n",
              "      <td>Depression</td>\n",
              "      <td>Most of the times</td>\n",
              "      <td>Incressed</td>\n",
              "      <td>Watching movies</td>\n",
              "      <td>117.0</td>\n",
              "    </tr>\n",
              "    <tr>\n",
              "      <th>1</th>\n",
              "      <td>32</td>\n",
              "      <td>Post-graduate</td>\n",
              "      <td>Yes</td>\n",
              "      <td>Unstable</td>\n",
              "      <td>Yes</td>\n",
              "      <td>Depression</td>\n",
              "      <td>Sometimes</td>\n",
              "      <td>Incressed</td>\n",
              "      <td>Social media</td>\n",
              "      <td>175.5</td>\n",
              "    </tr>\n",
              "    <tr>\n",
              "      <th>2</th>\n",
              "      <td>22</td>\n",
              "      <td>Undergraduate</td>\n",
              "      <td>Yes</td>\n",
              "      <td>Stable</td>\n",
              "      <td>Yes</td>\n",
              "      <td>Overthinking</td>\n",
              "      <td>Sometimes</td>\n",
              "      <td>Incressed</td>\n",
              "      <td>Watching movies</td>\n",
              "      <td>144.0</td>\n",
              "    </tr>\n",
              "    <tr>\n",
              "      <th>3</th>\n",
              "      <td>21</td>\n",
              "      <td>Undergraduate</td>\n",
              "      <td>Yes</td>\n",
              "      <td>Stable</td>\n",
              "      <td>Yes</td>\n",
              "      <td>Depression</td>\n",
              "      <td>Most of the times</td>\n",
              "      <td>Incressed</td>\n",
              "      <td>Social media</td>\n",
              "      <td>175.5</td>\n",
              "    </tr>\n",
              "    <tr>\n",
              "      <th>4</th>\n",
              "      <td>18</td>\n",
              "      <td>Undergraduate</td>\n",
              "      <td>Yes</td>\n",
              "      <td>Unstable</td>\n",
              "      <td>Yes</td>\n",
              "      <td>Depression</td>\n",
              "      <td>Most of the times</td>\n",
              "      <td>I don't spend time on the internet</td>\n",
              "      <td>Reading books</td>\n",
              "      <td>175.5</td>\n",
              "    </tr>\n",
              "  </tbody>\n",
              "</table>\n",
              "</div>"
            ],
            "text/plain": [
              "   age         edulev financial_income_Increase economic_condition_Status  \\\n",
              "0   23  Undergraduate                        No                    Stable   \n",
              "1   32  Post-graduate                       Yes                  Unstable   \n",
              "2   22  Undergraduate                       Yes                    Stable   \n",
              "3   21  Undergraduate                       Yes                    Stable   \n",
              "4   18  Undergraduate                       Yes                  Unstable   \n",
              "\n",
              "  Afect_mental_health          ecmh               tddp  \\\n",
              "0                 Yes    Depression  Most of the times   \n",
              "1                 Yes    Depression          Sometimes   \n",
              "2                 Yes  Overthinking          Sometimes   \n",
              "3                 Yes    Depression  Most of the times   \n",
              "4                 Yes    Depression  Most of the times   \n",
              "\n",
              "                                 ssti             hadp  WEIGHT  \n",
              "0                           Incressed  Watching movies   117.0  \n",
              "1                           Incressed     Social media   175.5  \n",
              "2                           Incressed  Watching movies   144.0  \n",
              "3                           Incressed     Social media   175.5  \n",
              "4  I don't spend time on the internet    Reading books   175.5  "
            ]
          },
          "execution_count": 9,
          "metadata": {},
          "output_type": "execute_result"
        }
      ],
      "source": [
        "df2.head(5)"
      ]
    },
    {
      "cell_type": "markdown",
      "id": "aa2cc213",
      "metadata": {
        "id": "aa2cc213"
      },
      "source": [
        "### 2. Finding the correlation between age and weight"
      ]
    },
    {
      "cell_type": "markdown",
      "id": "8535e082",
      "metadata": {
        "id": "8535e082"
      },
      "source": [
        "In a word, Correlation is a relationship between two variable. In other words, Correlation indicates the extent to which two or more variables fluctuate together. The value of correlation is scaled, within -1 to 1. The closer to 1 the more powerful the connection between the two variables, the lower the relationship closer to 0. According to the coorelation scale, 0.2<=r <= 0.39 considered to be a Low Coorelation."
      ]
    },
    {
      "cell_type": "code",
      "execution_count": null,
      "id": "74a9bafb",
      "metadata": {
        "id": "74a9bafb",
        "outputId": "7b3d4966-e3aa-48ed-c140-2a7ea95d9d34"
      },
      "outputs": [
        {
          "data": {
            "text/plain": [
              "0.02020623129561244"
            ]
          },
          "execution_count": 10,
          "metadata": {},
          "output_type": "execute_result"
        }
      ],
      "source": [
        "correlation = df2[\"age\"].corr(df2[\"WEIGHT\"])\n",
        "\n",
        "correlation"
      ]
    },
    {
      "cell_type": "code",
      "execution_count": null,
      "id": "d50e7ab3",
      "metadata": {
        "id": "d50e7ab3",
        "outputId": "6c4124c0-34d7-4a18-8bb1-05ed2d11c0e5"
      },
      "outputs": [
        {
          "data": {
            "text/plain": [
              "<AxesSubplot:xlabel='age', ylabel='WEIGHT'>"
            ]
          },
          "execution_count": 11,
          "metadata": {},
          "output_type": "execute_result"
        },
        {
          "data": {
            "image/png": "[encoded data removed]",
            "text/plain": [
              "<Figure size 432x288 with 1 Axes>"
            ]
          },
          "metadata": {
            "needs_background": "light"
          },
          "output_type": "display_data"
        }
      ],
      "source": [
        "import seaborn as sns\n",
        "\n",
        "sns.regplot(x=df2[\"age\"], y=df2[\"WEIGHT\"])"
      ]
    },
    {
      "cell_type": "code",
      "execution_count": null,
      "id": "ba0d2029",
      "metadata": {
        "id": "ba0d2029",
        "outputId": "8bc86c05-4f7a-420e-ebaa-f3b4dfe83fe3"
      },
      "outputs": [
        {
          "data": {
            "text/plain": [
              "<AxesSubplot:>"
            ]
          },
          "execution_count": 12,
          "metadata": {},
          "output_type": "execute_result"
        },
        {
          "data": {
            "image/png": "[encoded data removed]",
            "text/plain": [
              "<Figure size 432x288 with 2 Axes>"
            ]
          },
          "metadata": {
            "needs_background": "light"
          },
          "output_type": "display_data"
        }
      ],
      "source": [
        "import seaborn as sns\n",
        "sns.heatmap(df2.corr(), annot = True, fmt='.2g',cmap= 'coolwarm')"
      ]
    },
    {
      "cell_type": "code",
      "execution_count": null,
      "id": "f50ac542",
      "metadata": {
        "id": "f50ac542",
        "outputId": "920e5217-651d-4661-a011-e5b32f3a223c"
      },
      "outputs": [
        {
          "data": {
            "image/png": "[encoded data removed]",
            "text/plain": [
              "<Figure size 360x360 with 6 Axes>"
            ]
          },
          "metadata": {},
          "output_type": "display_data"
        }
      ],
      "source": [
        "sns.set(style=\"ticks\", color_codes=True)    \n",
        "g = sns.pairplot(df2)\n",
        "plt.show()"
      ]
    },
    {
      "cell_type": "markdown",
      "id": "1a00b72b",
      "metadata": {
        "id": "1a00b72b"
      },
      "source": [
        "Observation: Taking a close look at the above coorelation plot, we can measure the relationship between age and weight. Already, it is found to be 0.02 for the two variables, which indicates that there is a Low coorelation between the variables. On the other hand, the above pair plot, reg plot and heatmap also assures the Low coorelation between the age and weight."
      ]
    },
    {
      "cell_type": "markdown",
      "id": "98e63ae0",
      "metadata": {
        "id": "98e63ae0"
      },
      "source": [
        "### 3. Finding the outlier for variable WEIGHT"
      ]
    },
    {
      "cell_type": "markdown",
      "id": "0a8ddcf1",
      "metadata": {
        "id": "0a8ddcf1"
      },
      "source": [
        "The box plot is a standardized way of displaying the distribution of data based on the five-number summary (minimum, first quartile (Q1), median, third quartile (Q3), and maximum). It is often used to identify data distribution and detect outliers. The line of code below plots the box plot of the numeric variable 'WEIGHT'."
      ]
    },
    {
      "cell_type": "markdown",
      "id": "e9230ddb",
      "metadata": {
        "id": "e9230ddb"
      },
      "source": [
        "#### Identifying the outliers with Boxplot"
      ]
    },
    {
      "cell_type": "code",
      "execution_count": null,
      "id": "7939281c",
      "metadata": {
        "id": "7939281c",
        "outputId": "e144304c-6b49-487d-96f2-fc93bcafba84"
      },
      "outputs": [
        {
          "data": {
            "text/plain": [
              "<AxesSubplot:>"
            ]
          },
          "execution_count": 14,
          "metadata": {},
          "output_type": "execute_result"
        },
        {
          "data": {
            "image/png": "[encoded data removed]",
            "text/plain": [
              "<Figure size 432x288 with 1 Axes>"
            ]
          },
          "metadata": {},
          "output_type": "display_data"
        }
      ],
      "source": [
        "sns.boxplot(data=df2)"
      ]
    },
    {
      "cell_type": "markdown",
      "id": "79af7284",
      "metadata": {
        "id": "79af7284"
      },
      "source": [
        "Observation: In the above output, the circles indicate the outliers, and there are many. It is also possible to identify outliers using more than one variable. There can be many reasons for the presence of outliers in the data. Sometimes the outliers may be genuine, while in other cases, they could exist because of data entry errors. It is important to understand the reasons for the outliers before cleaning them. We will start the process of finding outliers by running the summary statistics on the variables. This is done using the describe() function below, which provides a statistical summary of all the quantitative variables."
      ]
    },
    {
      "cell_type": "code",
      "execution_count": null,
      "id": "9553fa86",
      "metadata": {
        "id": "9553fa86",
        "outputId": "584ac813-4a06-4a1a-b450-5286541bb756"
      },
      "outputs": [
        {
          "data": {
            "text/html": [
              "<div>\n",
              "<style scoped>\n",
              "    .dataframe tbody tr th:only-of-type {\n",
              "        vertical-align: middle;\n",
              "    }\n",
              "\n",
              "    .dataframe tbody tr th {\n",
              "        vertical-align: top;\n",
              "    }\n",
              "\n",
              "    .dataframe thead th {\n",
              "        text-align: right;\n",
              "    }\n",
              "</style>\n",
              "<table border=\"1\" class=\"dataframe\">\n",
              "  <thead>\n",
              "    <tr style=\"text-align: right;\">\n",
              "      <th></th>\n",
              "      <th>age</th>\n",
              "      <th>WEIGHT</th>\n",
              "    </tr>\n",
              "  </thead>\n",
              "  <tbody>\n",
              "    <tr>\n",
              "      <th>count</th>\n",
              "      <td>24.000000</td>\n",
              "      <td>24.000000</td>\n",
              "    </tr>\n",
              "    <tr>\n",
              "      <th>mean</th>\n",
              "      <td>24.416667</td>\n",
              "      <td>194.625000</td>\n",
              "    </tr>\n",
              "    <tr>\n",
              "      <th>std</th>\n",
              "      <td>4.116950</td>\n",
              "      <td>80.096172</td>\n",
              "    </tr>\n",
              "    <tr>\n",
              "      <th>min</th>\n",
              "      <td>18.000000</td>\n",
              "      <td>103.000000</td>\n",
              "    </tr>\n",
              "    <tr>\n",
              "      <th>25%</th>\n",
              "      <td>22.000000</td>\n",
              "      <td>147.250000</td>\n",
              "    </tr>\n",
              "    <tr>\n",
              "      <th>50%</th>\n",
              "      <td>23.000000</td>\n",
              "      <td>175.500000</td>\n",
              "    </tr>\n",
              "    <tr>\n",
              "      <th>75%</th>\n",
              "      <td>26.750000</td>\n",
              "      <td>198.000000</td>\n",
              "    </tr>\n",
              "    <tr>\n",
              "      <th>max</th>\n",
              "      <td>33.000000</td>\n",
              "      <td>440.000000</td>\n",
              "    </tr>\n",
              "  </tbody>\n",
              "</table>\n",
              "</div>"
            ],
            "text/plain": [
              "             age      WEIGHT\n",
              "count  24.000000   24.000000\n",
              "mean   24.416667  194.625000\n",
              "std     4.116950   80.096172\n",
              "min    18.000000  103.000000\n",
              "25%    22.000000  147.250000\n",
              "50%    23.000000  175.500000\n",
              "75%    26.750000  198.000000\n",
              "max    33.000000  440.000000"
            ]
          },
          "execution_count": 15,
          "metadata": {},
          "output_type": "execute_result"
        }
      ],
      "source": [
        "df2.describe()"
      ]
    },
    {
      "cell_type": "markdown",
      "id": "1dd9329b",
      "metadata": {
        "id": "1dd9329b"
      },
      "source": [
        "Looking at the 'WEIGHT' variable, it is easy to detect outliers resulting from incorrect data. The minimum and maximum WEIGHTS are 103, and 440, respectively.These outliers were easy to detect, butthat will not always be the case. In other cases, mathematical and visualization techniques must be used."
      ]
    },
    {
      "cell_type": "markdown",
      "id": "bfda709d",
      "metadata": {
        "id": "bfda709d"
      },
      "source": [
        "#### Finding outliers with Histogram"
      ]
    },
    {
      "cell_type": "markdown",
      "id": "7339ff2c",
      "metadata": {
        "id": "7339ff2c"
      },
      "source": [
        "A histogram is used to visualize the distribution of a numerical variable. An outlier will appear outside the overall pattern of distribution. The line of code below plots a histogram of the 'WEIGHT' variable, using the hist() function."
      ]
    },
    {
      "cell_type": "code",
      "execution_count": null,
      "id": "b658b38e",
      "metadata": {
        "id": "b658b38e",
        "outputId": "33c5f564-6b82-43b3-ebc0-7d62a09d1267"
      },
      "outputs": [
        {
          "data": {
            "text/plain": [
              "<AxesSubplot:>"
            ]
          },
          "execution_count": 16,
          "metadata": {},
          "output_type": "execute_result"
        },
        {
          "data": {
            "image/png": "[encoded data removed]",
            "text/plain": [
              "<Figure size 432x288 with 1 Axes>"
            ]
          },
          "metadata": {},
          "output_type": "display_data"
        }
      ],
      "source": [
        "df2.WEIGHT.hist()"
      ]
    },
    {
      "cell_type": "markdown",
      "id": "8ae797d9",
      "metadata": {
        "id": "8ae797d9"
      },
      "source": [
        "The above chart shows that the distribution is right-skewed, and there are extreme higher values at the right of the histogram. This step can be repeated for other variables as well."
      ]
    },
    {
      "cell_type": "markdown",
      "id": "997d52a7",
      "metadata": {
        "id": "997d52a7"
      },
      "source": [
        "### 4. Using data_1, find the missing value and replace all missing value for appropriate method."
      ]
    },
    {
      "cell_type": "code",
      "execution_count": null,
      "id": "a2786ba4",
      "metadata": {
        "id": "a2786ba4",
        "outputId": "37c2451c-27ac-4845-c1e4-53620b0d838c"
      },
      "outputs": [
        {
          "data": {
            "text/html": [
              "<div>\n",
              "<style scoped>\n",
              "    .dataframe tbody tr th:only-of-type {\n",
              "        vertical-align: middle;\n",
              "    }\n",
              "\n",
              "    .dataframe tbody tr th {\n",
              "        vertical-align: top;\n",
              "    }\n",
              "\n",
              "    .dataframe thead th {\n",
              "        text-align: right;\n",
              "    }\n",
              "</style>\n",
              "<table border=\"1\" class=\"dataframe\">\n",
              "  <thead>\n",
              "    <tr style=\"text-align: right;\">\n",
              "      <th></th>\n",
              "      <th>No</th>\n",
              "      <th>Age</th>\n",
              "      <th>Sex</th>\n",
              "      <th>Reason</th>\n",
              "      <th>Status</th>\n",
              "      <th>Location</th>\n",
              "      <th>CrossSec</th>\n",
              "      <th>LymphNodeDisec</th>\n",
              "      <th>Resected</th>\n",
              "      <th>lymphatic_invasion</th>\n",
              "      <th>...</th>\n",
              "      <th>FinalP</th>\n",
              "      <th>FinalMeta</th>\n",
              "      <th>JGCAStage</th>\n",
              "      <th>FinalCurability</th>\n",
              "      <th>FinalT</th>\n",
              "      <th>fTNM_N</th>\n",
              "      <th>TNMStage</th>\n",
              "      <th>Days</th>\n",
              "      <th>Months</th>\n",
              "      <th>sex1</th>\n",
              "    </tr>\n",
              "  </thead>\n",
              "  <tbody>\n",
              "    <tr>\n",
              "      <th>13062</th>\n",
              "      <td>13063</td>\n",
              "      <td>2</td>\n",
              "      <td>2</td>\n",
              "      <td></td>\n",
              "      <td></td>\n",
              "      <td>2</td>\n",
              "      <td>4</td>\n",
              "      <td>2</td>\n",
              "      <td>1</td>\n",
              "      <td>2</td>\n",
              "      <td>...</td>\n",
              "      <td>1</td>\n",
              "      <td>0</td>\n",
              "      <td>6</td>\n",
              "      <td>3</td>\n",
              "      <td>4</td>\n",
              "      <td>2</td>\n",
              "      <td>6</td>\n",
              "      <td>216</td>\n",
              "      <td>18.000000</td>\n",
              "      <td>1</td>\n",
              "    </tr>\n",
              "    <tr>\n",
              "      <th>13063</th>\n",
              "      <td>13064</td>\n",
              "      <td>2</td>\n",
              "      <td>1</td>\n",
              "      <td></td>\n",
              "      <td></td>\n",
              "      <td>3</td>\n",
              "      <td>1</td>\n",
              "      <td>2</td>\n",
              "      <td></td>\n",
              "      <td>0</td>\n",
              "      <td>...</td>\n",
              "      <td>0</td>\n",
              "      <td>0</td>\n",
              "      <td>4</td>\n",
              "      <td>2</td>\n",
              "      <td>3</td>\n",
              "      <td>2</td>\n",
              "      <td>5</td>\n",
              "      <td>844</td>\n",
              "      <td>70.333333</td>\n",
              "      <td>2</td>\n",
              "    </tr>\n",
              "    <tr>\n",
              "      <th>13064</th>\n",
              "      <td>13065</td>\n",
              "      <td>2</td>\n",
              "      <td>1</td>\n",
              "      <td>0</td>\n",
              "      <td>0</td>\n",
              "      <td>3</td>\n",
              "      <td>2</td>\n",
              "      <td>2</td>\n",
              "      <td></td>\n",
              "      <td>1</td>\n",
              "      <td>...</td>\n",
              "      <td>0</td>\n",
              "      <td>0</td>\n",
              "      <td>5</td>\n",
              "      <td>2</td>\n",
              "      <td>3</td>\n",
              "      <td>1</td>\n",
              "      <td>4</td>\n",
              "      <td>31</td>\n",
              "      <td>2.583333</td>\n",
              "      <td>1</td>\n",
              "    </tr>\n",
              "    <tr>\n",
              "      <th>13065</th>\n",
              "      <td>13066</td>\n",
              "      <td>2</td>\n",
              "      <td>1</td>\n",
              "      <td>0</td>\n",
              "      <td>0</td>\n",
              "      <td>2</td>\n",
              "      <td>1</td>\n",
              "      <td>4</td>\n",
              "      <td></td>\n",
              "      <td>0</td>\n",
              "      <td>...</td>\n",
              "      <td>0</td>\n",
              "      <td>0</td>\n",
              "      <td>1</td>\n",
              "      <td>1</td>\n",
              "      <td>1</td>\n",
              "      <td>0</td>\n",
              "      <td>1</td>\n",
              "      <td>33</td>\n",
              "      <td>2.750000</td>\n",
              "      <td>1</td>\n",
              "    </tr>\n",
              "    <tr>\n",
              "      <th>13066</th>\n",
              "      <td>13067</td>\n",
              "      <td>3</td>\n",
              "      <td>2</td>\n",
              "      <td>0</td>\n",
              "      <td>0</td>\n",
              "      <td>3</td>\n",
              "      <td>5</td>\n",
              "      <td>0</td>\n",
              "      <td>2</td>\n",
              "      <td></td>\n",
              "      <td>...</td>\n",
              "      <td>0</td>\n",
              "      <td>0</td>\n",
              "      <td></td>\n",
              "      <td>3</td>\n",
              "      <td></td>\n",
              "      <td>0</td>\n",
              "      <td></td>\n",
              "      <td>44</td>\n",
              "      <td>3.666667</td>\n",
              "      <td>1</td>\n",
              "    </tr>\n",
              "  </tbody>\n",
              "</table>\n",
              "<p>5 rows × 27 columns</p>\n",
              "</div>"
            ],
            "text/plain": [
              "          No Age Sex Reason Status Location CrossSec LymphNodeDisec Resected  \\\n",
              "13062  13063   2   2                      2        4              2        1   \n",
              "13063  13064   2   1                      3        1              2            \n",
              "13064  13065   2   1      0      0        3        2              2            \n",
              "13065  13066   2   1      0      0        2        1              4            \n",
              "13066  13067   3   2      0      0        3        5              0        2   \n",
              "\n",
              "      lymphatic_invasion  ... FinalP FinalMeta JGCAStage FinalCurability  \\\n",
              "13062                  2  ...      1         0         6               3   \n",
              "13063                  0  ...      0         0         4               2   \n",
              "13064                  1  ...      0         0         5               2   \n",
              "13065                  0  ...      0         0         1               1   \n",
              "13066                     ...      0         0                         3   \n",
              "\n",
              "      FinalT fTNM_N TNMStage Days     Months sex1  \n",
              "13062      4      2        6  216  18.000000    1  \n",
              "13063      3      2        5  844  70.333333    2  \n",
              "13064      3      1        4   31   2.583333    1  \n",
              "13065      1      0        1   33   2.750000    1  \n",
              "13066             0            44   3.666667    1  \n",
              "\n",
              "[5 rows x 27 columns]"
            ]
          },
          "execution_count": 17,
          "metadata": {},
          "output_type": "execute_result"
        }
      ],
      "source": [
        "df1.tail(5)"
      ]
    },
    {
      "cell_type": "markdown",
      "id": "767d2b50",
      "metadata": {
        "id": "767d2b50"
      },
      "source": [
        "Let's find out the missing values and deal with it"
      ]
    },
    {
      "cell_type": "code",
      "execution_count": null,
      "id": "e84be0fd",
      "metadata": {
        "id": "e84be0fd",
        "outputId": "228d5efc-b0df-4747-a2a9-e8572768052a"
      },
      "outputs": [
        {
          "data": {
            "text/plain": [
              "No                    0\n",
              "Age                   0\n",
              "Sex                   0\n",
              "Reason                0\n",
              "Status                0\n",
              "Location              0\n",
              "CrossSec              0\n",
              "LymphNodeDisec        0\n",
              "Resected              0\n",
              "lymphatic_invasion    0\n",
              "vascular_invasion     0\n",
              "PathologicalDepth     0\n",
              "pT                    0\n",
              "PathologicalN         0\n",
              "FinalDepthofInvas     0\n",
              "FinalN                0\n",
              "FinalH                0\n",
              "FinalP                0\n",
              "FinalMeta             0\n",
              "JGCAStage             0\n",
              "FinalCurability       0\n",
              "FinalT                0\n",
              "fTNM_N                0\n",
              "TNMStage              0\n",
              "Days                  0\n",
              "Months                0\n",
              "sex1                  0\n",
              "dtype: int64"
            ]
          },
          "execution_count": 18,
          "metadata": {},
          "output_type": "execute_result"
        }
      ],
      "source": [
        "df1.isnull().sum()"
      ]
    },
    {
      "cell_type": "markdown",
      "id": "5a2327b6",
      "metadata": {
        "id": "5a2327b6"
      },
      "source": [
        "It is to be mentioned that, there is no missing values in the first dataset (dataset_1), so it is not required to fill out the missing values with the standard strategy. However, I'm going to keep the dataset remain without changing anything else. "
      ]
    },
    {
      "cell_type": "markdown",
      "id": "17ab4e76",
      "metadata": {
        "id": "17ab4e76"
      },
      "source": [
        "### 5. Making cross table using Data_2"
      ]
    },
    {
      "cell_type": "markdown",
      "id": "1e0f11f5",
      "metadata": {
        "id": "1e0f11f5"
      },
      "source": [
        "I'm going to Use variable financial_income_Increase and economic_condition_Status and make cross table (using data_2)"
      ]
    },
    {
      "cell_type": "code",
      "execution_count": null,
      "id": "00915b15",
      "metadata": {
        "id": "00915b15",
        "outputId": "7bf2beb5-e833-4860-d0a3-646d6e45ea9a"
      },
      "outputs": [
        {
          "data": {
            "text/html": [
              "<div>\n",
              "<style scoped>\n",
              "    .dataframe tbody tr th:only-of-type {\n",
              "        vertical-align: middle;\n",
              "    }\n",
              "\n",
              "    .dataframe tbody tr th {\n",
              "        vertical-align: top;\n",
              "    }\n",
              "\n",
              "    .dataframe thead th {\n",
              "        text-align: right;\n",
              "    }\n",
              "</style>\n",
              "<table border=\"1\" class=\"dataframe\">\n",
              "  <thead>\n",
              "    <tr style=\"text-align: right;\">\n",
              "      <th>economic_condition_Status</th>\n",
              "      <th>Stable</th>\n",
              "      <th>Unstable</th>\n",
              "      <th>completely broken</th>\n",
              "    </tr>\n",
              "    <tr>\n",
              "      <th>financial_income_Increase</th>\n",
              "      <th></th>\n",
              "      <th></th>\n",
              "      <th></th>\n",
              "    </tr>\n",
              "  </thead>\n",
              "  <tbody>\n",
              "    <tr>\n",
              "      <th>No</th>\n",
              "      <td>3</td>\n",
              "      <td>0</td>\n",
              "      <td>0</td>\n",
              "    </tr>\n",
              "    <tr>\n",
              "      <th>Yes</th>\n",
              "      <td>10</td>\n",
              "      <td>9</td>\n",
              "      <td>2</td>\n",
              "    </tr>\n",
              "  </tbody>\n",
              "</table>\n",
              "</div>"
            ],
            "text/plain": [
              "economic_condition_Status  Stable  Unstable  completely broken\n",
              "financial_income_Increase                                     \n",
              "No                              3         0                  0\n",
              "Yes                            10         9                  2"
            ]
          },
          "execution_count": 19,
          "metadata": {},
          "output_type": "execute_result"
        }
      ],
      "source": [
        "pd.crosstab(df2['financial_income_Increase'], df2['economic_condition_Status'])"
      ]
    },
    {
      "cell_type": "markdown",
      "id": "8ed90267",
      "metadata": {
        "id": "8ed90267"
      },
      "source": [
        "### 6. Making bivariate plot "
      ]
    },
    {
      "cell_type": "markdown",
      "id": "4a49a1b1",
      "metadata": {
        "id": "4a49a1b1"
      },
      "source": [
        "The term bivariate analysis refers to the analysis of two variables. The purpose of bivariate analysis is to understand the relationship between two variables. There are three common ways to perform bivariate analysis: Scatterplots, Correlation Coefficients and Simple Linear Regression. The following example shows how to perform each of these types of bivariate analysis in Python using the following pandas DataFrame that contains information about two variables: (1) Afect_mental_health and (2) ecmh. "
      ]
    },
    {
      "cell_type": "code",
      "execution_count": null,
      "id": "8c7f4c5b",
      "metadata": {
        "id": "8c7f4c5b",
        "outputId": "100380d9-2022-45b1-8738-f42eb4cdd524"
      },
      "outputs": [
        {
          "data": {
            "text/html": [
              "<div>\n",
              "<style scoped>\n",
              "    .dataframe tbody tr th:only-of-type {\n",
              "        vertical-align: middle;\n",
              "    }\n",
              "\n",
              "    .dataframe tbody tr th {\n",
              "        vertical-align: top;\n",
              "    }\n",
              "\n",
              "    .dataframe thead th {\n",
              "        text-align: right;\n",
              "    }\n",
              "</style>\n",
              "<table border=\"1\" class=\"dataframe\">\n",
              "  <thead>\n",
              "    <tr style=\"text-align: right;\">\n",
              "      <th></th>\n",
              "      <th>age</th>\n",
              "      <th>edulev</th>\n",
              "      <th>financial_income_Increase</th>\n",
              "      <th>economic_condition_Status</th>\n",
              "      <th>Afect_mental_health</th>\n",
              "      <th>ecmh</th>\n",
              "      <th>tddp</th>\n",
              "      <th>ssti</th>\n",
              "      <th>hadp</th>\n",
              "      <th>WEIGHT</th>\n",
              "    </tr>\n",
              "  </thead>\n",
              "  <tbody>\n",
              "    <tr>\n",
              "      <th>0</th>\n",
              "      <td>23</td>\n",
              "      <td>Undergraduate</td>\n",
              "      <td>No</td>\n",
              "      <td>Stable</td>\n",
              "      <td>Yes</td>\n",
              "      <td>Depression</td>\n",
              "      <td>Most of the times</td>\n",
              "      <td>Incressed</td>\n",
              "      <td>Watching movies</td>\n",
              "      <td>117.0</td>\n",
              "    </tr>\n",
              "    <tr>\n",
              "      <th>1</th>\n",
              "      <td>32</td>\n",
              "      <td>Post-graduate</td>\n",
              "      <td>Yes</td>\n",
              "      <td>Unstable</td>\n",
              "      <td>Yes</td>\n",
              "      <td>Depression</td>\n",
              "      <td>Sometimes</td>\n",
              "      <td>Incressed</td>\n",
              "      <td>Social media</td>\n",
              "      <td>175.5</td>\n",
              "    </tr>\n",
              "    <tr>\n",
              "      <th>2</th>\n",
              "      <td>22</td>\n",
              "      <td>Undergraduate</td>\n",
              "      <td>Yes</td>\n",
              "      <td>Stable</td>\n",
              "      <td>Yes</td>\n",
              "      <td>Overthinking</td>\n",
              "      <td>Sometimes</td>\n",
              "      <td>Incressed</td>\n",
              "      <td>Watching movies</td>\n",
              "      <td>144.0</td>\n",
              "    </tr>\n",
              "  </tbody>\n",
              "</table>\n",
              "</div>"
            ],
            "text/plain": [
              "   age         edulev financial_income_Increase economic_condition_Status  \\\n",
              "0   23  Undergraduate                        No                    Stable   \n",
              "1   32  Post-graduate                       Yes                  Unstable   \n",
              "2   22  Undergraduate                       Yes                    Stable   \n",
              "\n",
              "  Afect_mental_health          ecmh               tddp       ssti  \\\n",
              "0                 Yes    Depression  Most of the times  Incressed   \n",
              "1                 Yes    Depression          Sometimes  Incressed   \n",
              "2                 Yes  Overthinking          Sometimes  Incressed   \n",
              "\n",
              "              hadp  WEIGHT  \n",
              "0  Watching movies   117.0  \n",
              "1     Social media   175.5  \n",
              "2  Watching movies   144.0  "
            ]
          },
          "execution_count": 20,
          "metadata": {},
          "output_type": "execute_result"
        }
      ],
      "source": [
        "df2.head(3)"
      ]
    },
    {
      "cell_type": "code",
      "execution_count": null,
      "id": "0502a48e",
      "metadata": {
        "id": "0502a48e"
      },
      "outputs": [],
      "source": [
        "# df2=df2.groupby(['Afect_mental_health','ecmh']).size()\n",
        "# df2=df2.unstack()\n",
        "# df2.plot(kind='bar')"
      ]
    },
    {
      "cell_type": "markdown",
      "id": "160655c1",
      "metadata": {
        "id": "160655c1"
      },
      "source": [
        "#### Bivariate analysis with catplot"
      ]
    },
    {
      "cell_type": "code",
      "execution_count": null,
      "id": "502c81e3",
      "metadata": {
        "id": "502c81e3"
      },
      "outputs": [],
      "source": [
        "# sns.catplot(x='Afect_mental_health', y= 'ecmh', data= df2, kind='bar', hue='age')\n",
        "# plt.show()"
      ]
    },
    {
      "cell_type": "markdown",
      "id": "7c6860ad",
      "metadata": {
        "id": "7c6860ad"
      },
      "source": [
        "<!-- Taking a close look at the second data framne, it can be observed that 'Afect_mental_health'and 'ecmh' rows are categorial, to the best of my knowledge, these values should be transformed into the form of numeric or any unique digit because bivariate analysis does not support text data. -->"
      ]
    },
    {
      "cell_type": "markdown",
      "id": "062e9b06",
      "metadata": {
        "id": "062e9b06"
      },
      "source": [
        "In order to bivariate analysis, first of all the categorical values will have to be converted to the numeric form because the catplot, box plot, coorelation-coofecient and linear regression plot does not support the categorical data. So, I'm going to map the categorical parameters such as 'Afect_mental_health' and 'ecmh'"
      ]
    },
    {
      "cell_type": "code",
      "execution_count": null,
      "id": "3b437bfc",
      "metadata": {
        "id": "3b437bfc",
        "outputId": "7227f32e-8481-4a8a-f2a2-0fed54a9332f"
      },
      "outputs": [
        {
          "data": {
            "text/plain": [
              "0                 Depression\n",
              "1                 Depression\n",
              "2               Overthinking\n",
              "3                 Depression\n",
              "4                 Depression\n",
              "5                 Depression\n",
              "6                 Depression\n",
              "7               Overthinking\n",
              "8               Overthinking\n",
              "9                       None\n",
              "10    Difficulty in sleeping\n",
              "11                Depression\n",
              "12                Depression\n",
              "13              Overthinking\n",
              "14    Difficulty in sleeping\n",
              "15               Frustration\n",
              "16               Frustration\n",
              "17               Frustration\n",
              "18                Depression\n",
              "19               Frustration\n",
              "20                Depression\n",
              "21                Depression\n",
              "22               Frustration\n",
              "23                Depression\n",
              "Name: ecmh, dtype: object"
            ]
          },
          "execution_count": 23,
          "metadata": {},
          "output_type": "execute_result"
        }
      ],
      "source": [
        "df2['ecmh']"
      ]
    },
    {
      "cell_type": "code",
      "execution_count": null,
      "id": "12f719db",
      "metadata": {
        "id": "12f719db",
        "outputId": "4a5ba7a4-a4f0-4f4c-e363-f458709a576e"
      },
      "outputs": [
        {
          "data": {
            "text/html": [
              "<div>\n",
              "<style scoped>\n",
              "    .dataframe tbody tr th:only-of-type {\n",
              "        vertical-align: middle;\n",
              "    }\n",
              "\n",
              "    .dataframe tbody tr th {\n",
              "        vertical-align: top;\n",
              "    }\n",
              "\n",
              "    .dataframe thead th {\n",
              "        text-align: right;\n",
              "    }\n",
              "</style>\n",
              "<table border=\"1\" class=\"dataframe\">\n",
              "  <thead>\n",
              "    <tr style=\"text-align: right;\">\n",
              "      <th></th>\n",
              "      <th>ecmh</th>\n",
              "      <th>ecmh_encoded</th>\n",
              "    </tr>\n",
              "  </thead>\n",
              "  <tbody>\n",
              "    <tr>\n",
              "      <th>0</th>\n",
              "      <td>Depression</td>\n",
              "      <td>0</td>\n",
              "    </tr>\n",
              "    <tr>\n",
              "      <th>1</th>\n",
              "      <td>Depression</td>\n",
              "      <td>0</td>\n",
              "    </tr>\n",
              "    <tr>\n",
              "      <th>2</th>\n",
              "      <td>Overthinking</td>\n",
              "      <td>1</td>\n",
              "    </tr>\n",
              "    <tr>\n",
              "      <th>3</th>\n",
              "      <td>Depression</td>\n",
              "      <td>0</td>\n",
              "    </tr>\n",
              "    <tr>\n",
              "      <th>4</th>\n",
              "      <td>Depression</td>\n",
              "      <td>0</td>\n",
              "    </tr>\n",
              "    <tr>\n",
              "      <th>5</th>\n",
              "      <td>Depression</td>\n",
              "      <td>0</td>\n",
              "    </tr>\n",
              "    <tr>\n",
              "      <th>6</th>\n",
              "      <td>Depression</td>\n",
              "      <td>0</td>\n",
              "    </tr>\n",
              "    <tr>\n",
              "      <th>7</th>\n",
              "      <td>Overthinking</td>\n",
              "      <td>1</td>\n",
              "    </tr>\n",
              "    <tr>\n",
              "      <th>8</th>\n",
              "      <td>Overthinking</td>\n",
              "      <td>1</td>\n",
              "    </tr>\n",
              "    <tr>\n",
              "      <th>9</th>\n",
              "      <td>None</td>\n",
              "      <td>2</td>\n",
              "    </tr>\n",
              "    <tr>\n",
              "      <th>10</th>\n",
              "      <td>Difficulty in sleeping</td>\n",
              "      <td>3</td>\n",
              "    </tr>\n",
              "    <tr>\n",
              "      <th>11</th>\n",
              "      <td>Depression</td>\n",
              "      <td>0</td>\n",
              "    </tr>\n",
              "    <tr>\n",
              "      <th>12</th>\n",
              "      <td>Depression</td>\n",
              "      <td>0</td>\n",
              "    </tr>\n",
              "    <tr>\n",
              "      <th>13</th>\n",
              "      <td>Overthinking</td>\n",
              "      <td>1</td>\n",
              "    </tr>\n",
              "    <tr>\n",
              "      <th>14</th>\n",
              "      <td>Difficulty in sleeping</td>\n",
              "      <td>3</td>\n",
              "    </tr>\n",
              "    <tr>\n",
              "      <th>15</th>\n",
              "      <td>Frustration</td>\n",
              "      <td>4</td>\n",
              "    </tr>\n",
              "    <tr>\n",
              "      <th>16</th>\n",
              "      <td>Frustration</td>\n",
              "      <td>4</td>\n",
              "    </tr>\n",
              "    <tr>\n",
              "      <th>17</th>\n",
              "      <td>Frustration</td>\n",
              "      <td>4</td>\n",
              "    </tr>\n",
              "    <tr>\n",
              "      <th>18</th>\n",
              "      <td>Depression</td>\n",
              "      <td>0</td>\n",
              "    </tr>\n",
              "    <tr>\n",
              "      <th>19</th>\n",
              "      <td>Frustration</td>\n",
              "      <td>4</td>\n",
              "    </tr>\n",
              "    <tr>\n",
              "      <th>20</th>\n",
              "      <td>Depression</td>\n",
              "      <td>0</td>\n",
              "    </tr>\n",
              "    <tr>\n",
              "      <th>21</th>\n",
              "      <td>Depression</td>\n",
              "      <td>0</td>\n",
              "    </tr>\n",
              "    <tr>\n",
              "      <th>22</th>\n",
              "      <td>Frustration</td>\n",
              "      <td>4</td>\n",
              "    </tr>\n",
              "    <tr>\n",
              "      <th>23</th>\n",
              "      <td>Depression</td>\n",
              "      <td>0</td>\n",
              "    </tr>\n",
              "  </tbody>\n",
              "</table>\n",
              "</div>"
            ],
            "text/plain": [
              "                      ecmh  ecmh_encoded\n",
              "0               Depression             0\n",
              "1               Depression             0\n",
              "2             Overthinking             1\n",
              "3               Depression             0\n",
              "4               Depression             0\n",
              "5               Depression             0\n",
              "6               Depression             0\n",
              "7             Overthinking             1\n",
              "8             Overthinking             1\n",
              "9                     None             2\n",
              "10  Difficulty in sleeping             3\n",
              "11              Depression             0\n",
              "12              Depression             0\n",
              "13            Overthinking             1\n",
              "14  Difficulty in sleeping             3\n",
              "15             Frustration             4\n",
              "16             Frustration             4\n",
              "17             Frustration             4\n",
              "18              Depression             0\n",
              "19             Frustration             4\n",
              "20              Depression             0\n",
              "21              Depression             0\n",
              "22             Frustration             4\n",
              "23              Depression             0"
            ]
          },
          "execution_count": 28,
          "metadata": {},
          "output_type": "execute_result"
        }
      ],
      "source": [
        "df2['ecmh_encoded'] = df2['ecmh'].map( {'Depression':0, 'Overthinking':1, 'None':2, 'Difficulty in sleeping': 3, 'Frustration':4 })\n",
        "df2[['ecmh', 'ecmh_encoded']]"
      ]
    },
    {
      "cell_type": "markdown",
      "id": "f997a177",
      "metadata": {
        "id": "f997a177"
      },
      "source": [
        "Let's map the 'ecmh' parameters because this variable contains the two categorical values, such as, Yes and No. I'm going to fill out this using Map function."
      ]
    },
    {
      "cell_type": "code",
      "execution_count": null,
      "id": "35fd6a61",
      "metadata": {
        "id": "35fd6a61",
        "outputId": "d669f3ce-0329-4fee-bbc9-b74be846d60b"
      },
      "outputs": [
        {
          "data": {
            "text/plain": [
              "0     Yes\n",
              "1     Yes\n",
              "2     Yes\n",
              "3     Yes\n",
              "4     Yes\n",
              "5     Yes\n",
              "6     Yes\n",
              "7     Yes\n",
              "8     Yes\n",
              "9      No\n",
              "10    Yes\n",
              "11    Yes\n",
              "12    Yes\n",
              "13    Yes\n",
              "14    Yes\n",
              "15    Yes\n",
              "16    Yes\n",
              "17    Yes\n",
              "18    Yes\n",
              "19    Yes\n",
              "20    Yes\n",
              "21    Yes\n",
              "22    Yes\n",
              "23    Yes\n",
              "Name: Afect_mental_health, dtype: object"
            ]
          },
          "execution_count": 30,
          "metadata": {},
          "output_type": "execute_result"
        }
      ],
      "source": [
        "df2['Afect_mental_health']"
      ]
    },
    {
      "cell_type": "code",
      "execution_count": null,
      "id": "9ac677e2",
      "metadata": {
        "id": "9ac677e2",
        "outputId": "a0033301-f032-44c2-f24e-84301e6a282d"
      },
      "outputs": [
        {
          "data": {
            "text/html": [
              "<div>\n",
              "<style scoped>\n",
              "    .dataframe tbody tr th:only-of-type {\n",
              "        vertical-align: middle;\n",
              "    }\n",
              "\n",
              "    .dataframe tbody tr th {\n",
              "        vertical-align: top;\n",
              "    }\n",
              "\n",
              "    .dataframe thead th {\n",
              "        text-align: right;\n",
              "    }\n",
              "</style>\n",
              "<table border=\"1\" class=\"dataframe\">\n",
              "  <thead>\n",
              "    <tr style=\"text-align: right;\">\n",
              "      <th></th>\n",
              "      <th>Afect_mental_health</th>\n",
              "      <th>mhealth_encoded</th>\n",
              "    </tr>\n",
              "  </thead>\n",
              "  <tbody>\n",
              "    <tr>\n",
              "      <th>0</th>\n",
              "      <td>Yes</td>\n",
              "      <td>0</td>\n",
              "    </tr>\n",
              "    <tr>\n",
              "      <th>1</th>\n",
              "      <td>Yes</td>\n",
              "      <td>0</td>\n",
              "    </tr>\n",
              "    <tr>\n",
              "      <th>2</th>\n",
              "      <td>Yes</td>\n",
              "      <td>0</td>\n",
              "    </tr>\n",
              "    <tr>\n",
              "      <th>3</th>\n",
              "      <td>Yes</td>\n",
              "      <td>0</td>\n",
              "    </tr>\n",
              "    <tr>\n",
              "      <th>4</th>\n",
              "      <td>Yes</td>\n",
              "      <td>0</td>\n",
              "    </tr>\n",
              "    <tr>\n",
              "      <th>5</th>\n",
              "      <td>Yes</td>\n",
              "      <td>0</td>\n",
              "    </tr>\n",
              "    <tr>\n",
              "      <th>6</th>\n",
              "      <td>Yes</td>\n",
              "      <td>0</td>\n",
              "    </tr>\n",
              "    <tr>\n",
              "      <th>7</th>\n",
              "      <td>Yes</td>\n",
              "      <td>0</td>\n",
              "    </tr>\n",
              "    <tr>\n",
              "      <th>8</th>\n",
              "      <td>Yes</td>\n",
              "      <td>0</td>\n",
              "    </tr>\n",
              "    <tr>\n",
              "      <th>9</th>\n",
              "      <td>No</td>\n",
              "      <td>1</td>\n",
              "    </tr>\n",
              "    <tr>\n",
              "      <th>10</th>\n",
              "      <td>Yes</td>\n",
              "      <td>0</td>\n",
              "    </tr>\n",
              "    <tr>\n",
              "      <th>11</th>\n",
              "      <td>Yes</td>\n",
              "      <td>0</td>\n",
              "    </tr>\n",
              "    <tr>\n",
              "      <th>12</th>\n",
              "      <td>Yes</td>\n",
              "      <td>0</td>\n",
              "    </tr>\n",
              "    <tr>\n",
              "      <th>13</th>\n",
              "      <td>Yes</td>\n",
              "      <td>0</td>\n",
              "    </tr>\n",
              "    <tr>\n",
              "      <th>14</th>\n",
              "      <td>Yes</td>\n",
              "      <td>0</td>\n",
              "    </tr>\n",
              "    <tr>\n",
              "      <th>15</th>\n",
              "      <td>Yes</td>\n",
              "      <td>0</td>\n",
              "    </tr>\n",
              "    <tr>\n",
              "      <th>16</th>\n",
              "      <td>Yes</td>\n",
              "      <td>0</td>\n",
              "    </tr>\n",
              "    <tr>\n",
              "      <th>17</th>\n",
              "      <td>Yes</td>\n",
              "      <td>0</td>\n",
              "    </tr>\n",
              "    <tr>\n",
              "      <th>18</th>\n",
              "      <td>Yes</td>\n",
              "      <td>0</td>\n",
              "    </tr>\n",
              "    <tr>\n",
              "      <th>19</th>\n",
              "      <td>Yes</td>\n",
              "      <td>0</td>\n",
              "    </tr>\n",
              "    <tr>\n",
              "      <th>20</th>\n",
              "      <td>Yes</td>\n",
              "      <td>0</td>\n",
              "    </tr>\n",
              "    <tr>\n",
              "      <th>21</th>\n",
              "      <td>Yes</td>\n",
              "      <td>0</td>\n",
              "    </tr>\n",
              "    <tr>\n",
              "      <th>22</th>\n",
              "      <td>Yes</td>\n",
              "      <td>0</td>\n",
              "    </tr>\n",
              "    <tr>\n",
              "      <th>23</th>\n",
              "      <td>Yes</td>\n",
              "      <td>0</td>\n",
              "    </tr>\n",
              "  </tbody>\n",
              "</table>\n",
              "</div>"
            ],
            "text/plain": [
              "   Afect_mental_health  mhealth_encoded\n",
              "0                  Yes                0\n",
              "1                  Yes                0\n",
              "2                  Yes                0\n",
              "3                  Yes                0\n",
              "4                  Yes                0\n",
              "5                  Yes                0\n",
              "6                  Yes                0\n",
              "7                  Yes                0\n",
              "8                  Yes                0\n",
              "9                   No                1\n",
              "10                 Yes                0\n",
              "11                 Yes                0\n",
              "12                 Yes                0\n",
              "13                 Yes                0\n",
              "14                 Yes                0\n",
              "15                 Yes                0\n",
              "16                 Yes                0\n",
              "17                 Yes                0\n",
              "18                 Yes                0\n",
              "19                 Yes                0\n",
              "20                 Yes                0\n",
              "21                 Yes                0\n",
              "22                 Yes                0\n",
              "23                 Yes                0"
            ]
          },
          "execution_count": 31,
          "metadata": {},
          "output_type": "execute_result"
        }
      ],
      "source": [
        "df2['mhealth_encoded'] = df2['Afect_mental_health'].map( {'Yes':0, 'No':1})\n",
        "df2[['Afect_mental_health', 'mhealth_encoded']]"
      ]
    },
    {
      "cell_type": "code",
      "execution_count": null,
      "id": "8dd0c71b",
      "metadata": {
        "id": "8dd0c71b",
        "outputId": "71c2c0f6-77e2-4801-d0c6-4c8f2e800f72"
      },
      "outputs": [
        {
          "data": {
            "text/html": [
              "<div>\n",
              "<style scoped>\n",
              "    .dataframe tbody tr th:only-of-type {\n",
              "        vertical-align: middle;\n",
              "    }\n",
              "\n",
              "    .dataframe tbody tr th {\n",
              "        vertical-align: top;\n",
              "    }\n",
              "\n",
              "    .dataframe thead th {\n",
              "        text-align: right;\n",
              "    }\n",
              "</style>\n",
              "<table border=\"1\" class=\"dataframe\">\n",
              "  <thead>\n",
              "    <tr style=\"text-align: right;\">\n",
              "      <th></th>\n",
              "      <th>age</th>\n",
              "      <th>edulev</th>\n",
              "      <th>financial_income_Increase</th>\n",
              "      <th>economic_condition_Status</th>\n",
              "      <th>Afect_mental_health</th>\n",
              "      <th>ecmh</th>\n",
              "      <th>tddp</th>\n",
              "      <th>ssti</th>\n",
              "      <th>hadp</th>\n",
              "      <th>WEIGHT</th>\n",
              "      <th>echmh_encoded</th>\n",
              "      <th>echmh</th>\n",
              "      <th>ecmh_encoded</th>\n",
              "      <th>mhealth_encoded</th>\n",
              "    </tr>\n",
              "  </thead>\n",
              "  <tbody>\n",
              "    <tr>\n",
              "      <th>0</th>\n",
              "      <td>23</td>\n",
              "      <td>Undergraduate</td>\n",
              "      <td>No</td>\n",
              "      <td>Stable</td>\n",
              "      <td>Yes</td>\n",
              "      <td>Depression</td>\n",
              "      <td>Most of the times</td>\n",
              "      <td>Incressed</td>\n",
              "      <td>Watching movies</td>\n",
              "      <td>117.0</td>\n",
              "      <td>0</td>\n",
              "      <td>0</td>\n",
              "      <td>0</td>\n",
              "      <td>0</td>\n",
              "    </tr>\n",
              "    <tr>\n",
              "      <th>1</th>\n",
              "      <td>32</td>\n",
              "      <td>Post-graduate</td>\n",
              "      <td>Yes</td>\n",
              "      <td>Unstable</td>\n",
              "      <td>Yes</td>\n",
              "      <td>Depression</td>\n",
              "      <td>Sometimes</td>\n",
              "      <td>Incressed</td>\n",
              "      <td>Social media</td>\n",
              "      <td>175.5</td>\n",
              "      <td>0</td>\n",
              "      <td>0</td>\n",
              "      <td>0</td>\n",
              "      <td>0</td>\n",
              "    </tr>\n",
              "    <tr>\n",
              "      <th>2</th>\n",
              "      <td>22</td>\n",
              "      <td>Undergraduate</td>\n",
              "      <td>Yes</td>\n",
              "      <td>Stable</td>\n",
              "      <td>Yes</td>\n",
              "      <td>Overthinking</td>\n",
              "      <td>Sometimes</td>\n",
              "      <td>Incressed</td>\n",
              "      <td>Watching movies</td>\n",
              "      <td>144.0</td>\n",
              "      <td>4</td>\n",
              "      <td>4</td>\n",
              "      <td>1</td>\n",
              "      <td>0</td>\n",
              "    </tr>\n",
              "    <tr>\n",
              "      <th>3</th>\n",
              "      <td>21</td>\n",
              "      <td>Undergraduate</td>\n",
              "      <td>Yes</td>\n",
              "      <td>Stable</td>\n",
              "      <td>Yes</td>\n",
              "      <td>Depression</td>\n",
              "      <td>Most of the times</td>\n",
              "      <td>Incressed</td>\n",
              "      <td>Social media</td>\n",
              "      <td>175.5</td>\n",
              "      <td>0</td>\n",
              "      <td>0</td>\n",
              "      <td>0</td>\n",
              "      <td>0</td>\n",
              "    </tr>\n",
              "  </tbody>\n",
              "</table>\n",
              "</div>"
            ],
            "text/plain": [
              "   age         edulev financial_income_Increase economic_condition_Status  \\\n",
              "0   23  Undergraduate                        No                    Stable   \n",
              "1   32  Post-graduate                       Yes                  Unstable   \n",
              "2   22  Undergraduate                       Yes                    Stable   \n",
              "3   21  Undergraduate                       Yes                    Stable   \n",
              "\n",
              "  Afect_mental_health          ecmh               tddp       ssti  \\\n",
              "0                 Yes    Depression  Most of the times  Incressed   \n",
              "1                 Yes    Depression          Sometimes  Incressed   \n",
              "2                 Yes  Overthinking          Sometimes  Incressed   \n",
              "3                 Yes    Depression  Most of the times  Incressed   \n",
              "\n",
              "              hadp  WEIGHT  echmh_encoded  echmh  ecmh_encoded  \\\n",
              "0  Watching movies   117.0              0      0             0   \n",
              "1     Social media   175.5              0      0             0   \n",
              "2  Watching movies   144.0              4      4             1   \n",
              "3     Social media   175.5              0      0             0   \n",
              "\n",
              "   mhealth_encoded  \n",
              "0                0  \n",
              "1                0  \n",
              "2                0  \n",
              "3                0  "
            ]
          },
          "execution_count": 33,
          "metadata": {},
          "output_type": "execute_result"
        }
      ],
      "source": [
        "df2.head(4)"
      ]
    },
    {
      "cell_type": "code",
      "execution_count": null,
      "id": "3caf32b9",
      "metadata": {
        "id": "3caf32b9",
        "outputId": "e1fd8308-00cf-4ad9-bc12-31c51535a3b8"
      },
      "outputs": [
        {
          "data": {
            "image/png": "[encoded data removed]",
            "text/plain": [
              "<Figure size 411.85x360 with 1 Axes>"
            ]
          },
          "metadata": {},
          "output_type": "display_data"
        }
      ],
      "source": [
        "sns.catplot(x='mhealth_encoded', y= 'ecmh_encoded', data= df2, kind='bar', hue='age')\n",
        "plt.show()"
      ]
    },
    {
      "cell_type": "code",
      "execution_count": null,
      "id": "ce1416a8",
      "metadata": {
        "id": "ce1416a8",
        "outputId": "eba754bc-47c4-4bb4-bebc-b54a1757809d"
      },
      "outputs": [
        {
          "data": {
            "text/plain": [
              "<AxesSubplot:xlabel='Afect_mental_health'>"
            ]
          },
          "execution_count": 39,
          "metadata": {},
          "output_type": "execute_result"
        },
        {
          "data": {
            "image/png": "[encoded data removed]",
            "text/plain": [
              "<Figure size 432x288 with 1 Axes>"
            ]
          },
          "metadata": {},
          "output_type": "display_data"
        }
      ],
      "source": [
        "temp_data= df2.copy()\n",
        "\n",
        "temp_data=temp_data.groupby(['Afect_mental_health','ecmh']).size()\n",
        "temp_data=temp_data.unstack()\n",
        "temp_data.plot(kind='bar')"
      ]
    }
  ],
  "metadata": {
    "kernelspec": {
      "display_name": "Python 3 (ipykernel)",
      "language": "python",
      "name": "python3"
    },
    "language_info": {
      "codemirror_mode": {
        "name": "ipython",
        "version": 3
      },
      "file_extension": ".py",
      "mimetype": "text/x-python",
      "name": "python",
      "nbconvert_exporter": "python",
      "pygments_lexer": "ipython3",
      "version": "3.9.7"
    },
    "colab": {
      "name": "Assignment_2 (1).ipynb",
      "provenance": [],
      "include_colab_link": true
    }
  },
  "nbformat": 4,
  "nbformat_minor": 5
}